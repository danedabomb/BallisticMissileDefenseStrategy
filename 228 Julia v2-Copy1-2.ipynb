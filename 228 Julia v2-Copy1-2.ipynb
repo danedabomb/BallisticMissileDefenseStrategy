{
 "cells": [
  {
   "cell_type": "markdown",
   "metadata": {
    "id": "YaTAPw256wFA",
    "colab_type": "text"
   },
   "source": [
    "# AA228 Project"
   ]
  },
  {
   "cell_type": "code",
   "execution_count": 0,
   "metadata": {
    "id": "LgknK4d56wFB",
    "colab_type": "code",
    "colab": {}
   },
   "outputs": [],
   "source": [
    "using PyPlot\n",
    "using POMDPs\n",
    "using Random # for AbstractRNG\n",
    "using POMDPModelTools # for Deterministic\n",
    "using POMDPSimulators\n",
    "using POMDPPolicies\n",
    "using POMDPModels # for the GridWorld problem\n",
    "using MCTS\n",
    "using D3Trees"
   ]
  },
  {
   "cell_type": "markdown",
   "metadata": {
    "id": "DnnaW9bZ6wFE",
    "colab_type": "text"
   },
   "source": [
    "### Defining the state vector"
   ]
  },
  {
   "cell_type": "markdown",
   "metadata": {
    "id": "Evc6QokN6wFF",
    "colab_type": "text"
   },
   "source": [
    "#### Defining the nfired vector\n",
    "Contains the number of missiles of each type fired from each launcher"
   ]
  },
  {
   "cell_type": "code",
   "execution_count": 0,
   "metadata": {
    "id": "729iK-fd6wFF",
    "colab_type": "code",
    "colab": {},
    "outputId": "33ff3756-6d00-4929-e601-fd3660d95896"
   },
   "outputs": [
    {
     "data": {
      "text/plain": [
       "3-element Array{Int64,1}:\n",
       " 0\n",
       " 0\n",
       " 0"
      ]
     },
     "execution_count": 50,
     "metadata": {
      "tags": []
     },
     "output_type": "execute_result"
    }
   ],
   "source": [
    "#Here suppose 2 launchers can launch terminal phase missiles and 2 launcher can launch mid-course phase missiles\n",
    "nmid=1\n",
    "nter=2\n",
    "#intial state nothing has been fired\n",
    "nfired0=[0 for i in 1:nmid+nter]"
   ]
  },
  {
   "cell_type": "markdown",
   "metadata": {
    "id": "CUxSboEI6wFK",
    "colab_type": "text"
   },
   "source": [
    "#### Defining the nremaining vector\n",
    "Contains the number of missiles of each type remaining in the magazine and in the chamber for all launchers"
   ]
  },
  {
   "cell_type": "code",
   "execution_count": 0,
   "metadata": {
    "id": "Nu55bQOE6wFM",
    "colab_type": "code",
    "colab": {},
    "outputId": "23f8cef8-cfa7-41de-ddfc-739758a6dc06"
   },
   "outputs": [
    {
     "data": {
      "text/plain": [
       "6-element Array{Int64,1}:\n",
       " 24\n",
       "  4\n",
       "  4\n",
       " 24\n",
       " 12\n",
       " 12"
      ]
     },
     "execution_count": 51,
     "metadata": {
      "tags": []
     },
     "output_type": "execute_result"
    }
   ],
   "source": [
    "#Here suppose 24 missiles can be held in the chamber and 4 can be held in the magazine for terminal launchers\n",
    "# and 4 missiles can be held in the chamber and 12 in the magazine for midcourse launchers\n",
    "n_mag_mid=24\n",
    "n_mag_ter=12\n",
    "n_chamber_mid=24\n",
    "n_chamber_ter=4\n",
    "#intitial state both chambers and magazines are full\n",
    "nremaining0=[n_chamber_mid for i in 1:nmid]\n",
    "nremaining0=vcat(nremaining0,[n_chamber_ter for i in 1:nter])\n",
    "nremaining0=vcat(nremaining0,[n_mag_mid for i in 1:nmid])\n",
    "nremaining0=vcat(nremaining0,[n_mag_ter for i in 1:nter])"
   ]
  },
  {
   "cell_type": "markdown",
   "metadata": {
    "id": "PllQGb-P6wFP",
    "colab_type": "text"
   },
   "source": [
    "#### Defining the target status vector\n",
    "Contains the number of health points of our targets"
   ]
  },
  {
   "cell_type": "code",
   "execution_count": 0,
   "metadata": {
    "id": "fh9qHNIB6wFQ",
    "colab_type": "code",
    "colab": {},
    "outputId": "663aa9c5-e70e-41d3-eba0-9867531bab98"
   },
   "outputs": [
    {
     "data": {
      "text/plain": [
       "4-element Array{Int64,1}:\n",
       " 100\n",
       "  20\n",
       "   1\n",
       "   1"
      ]
     },
     "execution_count": 52,
     "metadata": {
      "tags": []
     },
     "output_type": "execute_result"
    }
   ],
   "source": [
    "#here suppose we have 2 targets with health points [100,20] and the launchers with health points [2,2,2,2]\n",
    "ntargets=4\n",
    "health=[100,20,1,1]\n",
    "\n",
    "#initially everything is healthy\n",
    "targetstatus0=health"
   ]
  },
  {
   "cell_type": "markdown",
   "metadata": {
    "id": "HuFFNg026wFS",
    "colab_type": "text"
   },
   "source": [
    "#### Defining the time to target vector\n",
    "Contains the time to target of observed missiles. Can observe a maximum of missiles ntrack at any given moment and will show -1 if no missiles are observed"
   ]
  },
  {
   "cell_type": "code",
   "execution_count": 0,
   "metadata": {
    "id": "xlPZ2rpB6wFT",
    "colab_type": "code",
    "colab": {},
    "outputId": "d27bc098-3dc3-429b-fa83-3f0feb344fca"
   },
   "outputs": [
    {
     "data": {
      "text/plain": [
       "100-element Array{Int64,1}:\n",
       " -1\n",
       " -1\n",
       " -1\n",
       " -1\n",
       " -1\n",
       " -1\n",
       " -1\n",
       " -1\n",
       " -1\n",
       " -1\n",
       " -1\n",
       " -1\n",
       " -1\n",
       "  ⋮\n",
       " -1\n",
       " -1\n",
       " -1\n",
       " -1\n",
       " -1\n",
       " -1\n",
       " -1\n",
       " -1\n",
       " -1\n",
       " -1\n",
       " -1\n",
       " -1"
      ]
     },
     "execution_count": 53,
     "metadata": {
      "tags": []
     },
     "output_type": "execute_result"
    }
   ],
   "source": [
    "#here suppose we can track 25 missiles, and that -1 means no missiles are observed\n",
    "ntrack=100\n",
    "#initially no missiles are seen\n",
    "timetotarget0=[-1 for i  in 1:ntrack]"
   ]
  },
  {
   "cell_type": "markdown",
   "metadata": {
    "id": "Kq1M9t-g6wFW",
    "colab_type": "text"
   },
   "source": [
    "#### Defining the type of target vector\n",
    "Contains the type of target of each observed missile. Ranges from 1 to ntargets and is set to 0 if no missile is observed"
   ]
  },
  {
   "cell_type": "code",
   "execution_count": 0,
   "metadata": {
    "id": "bmcQNwpH6wFX",
    "colab_type": "code",
    "colab": {},
    "outputId": "f1caeb9e-5995-4d21-89b0-a9c8cc2f37c4"
   },
   "outputs": [
    {
     "data": {
      "text/plain": [
       "100-element Array{Int64,1}:\n",
       " 0\n",
       " 0\n",
       " 0\n",
       " 0\n",
       " 0\n",
       " 0\n",
       " 0\n",
       " 0\n",
       " 0\n",
       " 0\n",
       " 0\n",
       " 0\n",
       " 0\n",
       " ⋮\n",
       " 0\n",
       " 0\n",
       " 0\n",
       " 0\n",
       " 0\n",
       " 0\n",
       " 0\n",
       " 0\n",
       " 0\n",
       " 0\n",
       " 0\n",
       " 0"
      ]
     },
     "execution_count": 54,
     "metadata": {
      "tags": []
     },
     "output_type": "execute_result"
    }
   ],
   "source": [
    "#initially no missiles are seen\n",
    "target0=[0 for i  in 1:ntrack]"
   ]
  },
  {
   "cell_type": "markdown",
   "metadata": {
    "id": "QzYvmFKP6wFa",
    "colab_type": "text"
   },
   "source": [
    "#### Defining the type of missile vector\n",
    "Contains the type of each incoming missile. Ranges from 1 to ntypes and is set to 0 if no missiles are observed"
   ]
  },
  {
   "cell_type": "code",
   "execution_count": 0,
   "metadata": {
    "id": "KWtJ3zm_6wFb",
    "colab_type": "code",
    "colab": {},
    "outputId": "08cab85e-9215-48b0-ce94-3222e931cb22"
   },
   "outputs": [
    {
     "data": {
      "text/plain": [
       "100-element Array{Int64,1}:\n",
       " 0\n",
       " 0\n",
       " 0\n",
       " 0\n",
       " 0\n",
       " 0\n",
       " 0\n",
       " 0\n",
       " 0\n",
       " 0\n",
       " 0\n",
       " 0\n",
       " 0\n",
       " ⋮\n",
       " 0\n",
       " 0\n",
       " 0\n",
       " 0\n",
       " 0\n",
       " 0\n",
       " 0\n",
       " 0\n",
       " 0\n",
       " 0\n",
       " 0\n",
       " 0"
      ]
     },
     "execution_count": 55,
     "metadata": {
      "tags": []
     },
     "output_type": "execute_result"
    }
   ],
   "source": [
    "#initially no missiles are seen\n",
    "ntype=2\n",
    "type0=[0 for i  in 1:ntrack]"
   ]
  },
  {
   "cell_type": "markdown",
   "metadata": {
    "id": "EzddQPm36wFd",
    "colab_type": "text"
   },
   "source": [
    "#### Defining the state vector\n",
    "state vector: s=(nfired,nrem,status of targets,time to target)"
   ]
  },
  {
   "cell_type": "code",
   "execution_count": 0,
   "metadata": {
    "id": "gLWmt6aa6wFf",
    "colab_type": "code",
    "colab": {},
    "outputId": "fdcf5aad-9973-474b-fea2-dab32e1bdce3"
   },
   "outputs": [
    {
     "data": {
      "text/plain": [
       "314-element Array{Int64,1}:\n",
       "   0\n",
       "   0\n",
       "   0\n",
       "  24\n",
       "   4\n",
       "   4\n",
       "  24\n",
       "  12\n",
       "  12\n",
       " 100\n",
       "  20\n",
       "   1\n",
       "   1\n",
       "   ⋮\n",
       "   0\n",
       "   0\n",
       "   0\n",
       "   0\n",
       "   0\n",
       "   0\n",
       "   0\n",
       "   0\n",
       "   0\n",
       "   0\n",
       "   0\n",
       "   0"
      ]
     },
     "execution_count": 56,
     "metadata": {
      "tags": []
     },
     "output_type": "execute_result"
    }
   ],
   "source": [
    "time0=[0]\n",
    "state0=vcat(nfired0,nremaining0,targetstatus0,timetotarget0,target0,type0,time0)"
   ]
  },
  {
   "cell_type": "code",
   "execution_count": 0,
   "metadata": {
    "id": "KXAvUIOO6wFh",
    "colab_type": "code",
    "colab": {},
    "outputId": "52b1d326-81cc-4092-8a1e-9d0a0bd72a4d"
   },
   "outputs": [
    {
     "name": "stdout",
     "output_type": "stream",
     "text": [
      "[0, 0, 0, 24, 4, 4, 24, 12, 12, 100, 20, 1, 1, -1, -1, -1, -1, -1, -1, -1, -1, -1, -1, -1, -1, -1, -1, -1, -1, -1, -1, -1, -1, -1, -1, -1, -1, -1, -1, -1, -1, -1, -1, -1, -1, -1, -1, -1, -1, -1, -1, -1, -1, -1, -1, -1, -1, -1, -1, -1, -1, -1, -1, -1, -1, -1, -1, -1, -1, -1, -1, -1, -1, -1, -1, -1, -1, -1, -1, -1, -1, -1, -1, -1, -1, -1, -1, -1, -1, -1, -1, -1, -1, -1, -1, -1, -1, -1, -1, -1, -1, -1, -1, -1, -1, -1, -1, -1, -1, -1, -1, -1, -1, 0, 0, 0, 0, 0, 0, 0, 0, 0, 0, 0, 0, 0, 0, 0, 0, 0, 0, 0, 0, 0, 0, 0, 0, 0, 0, 0, 0, 0, 0, 0, 0, 0, 0, 0, 0, 0, 0, 0, 0, 0, 0, 0, 0, 0, 0, 0, 0, 0, 0, 0, 0, 0, 0, 0, 0, 0, 0, 0, 0, 0, 0, 0, 0, 0, 0, 0, 0, 0, 0, 0, 0, 0, 0, 0, 0, 0, 0, 0, 0, 0, 0, 0, 0, 0, 0, 0, 0, 0, 0, 0, 0, 0, 0, 0, 0, 0, 0, 0, 0, 0, 0, 0, 0, 0, 0, 0, 0, 0, 0, 0, 0, 0, 0, 0, 0, 0, 0, 0, 0, 0, 0, 0, 0, 0, 0, 0, 0, 0, 0, 0, 0, 0, 0, 0, 0, 0, 0, 0, 0, 0, 0, 0, 0, 0, 0, 0, 0, 0, 0, 0, 0, 0, 0, 0, 0, 0, 0, 0, 0, 0, 0, 0, 0, 0, 0, 0, 0, 0, 0, 0, 0, 0, 0, 0, 0, 0, 0, 0, 0, 0, 0, 0, 0, 0, 0, 0, 0, 0, 0, 0, 0, 0, 0, 0, 0, 0, 0, 0, 0, 0]Length of a state vector is: 314"
     ]
    }
   ],
   "source": [
    "print(state0)\n",
    "print(\"Length of a state vector is: \")\n",
    "print(length(state0))"
   ]
  },
  {
   "cell_type": "markdown",
   "metadata": {
    "id": "kVoWsGaq6wFj",
    "colab_type": "text"
   },
   "source": [
    "### Defining model parameters and model functions"
   ]
  },
  {
   "cell_type": "markdown",
   "metadata": {
    "id": "0rht2GDj6wFk",
    "colab_type": "text"
   },
   "source": [
    "- [multipliers] Multipliers decribing importance of each target\n",
    "- [costs] Cost incurred when firing each type of missiles\n",
    "- [reward_kill] Reward observed when shooting down each type of ennemy missile"
   ]
  },
  {
   "cell_type": "code",
   "execution_count": 0,
   "metadata": {
    "id": "Nrfbmubr6wFk",
    "colab_type": "code",
    "colab": {},
    "outputId": "56d73d0a-5caa-458e-9a3c-83139da82b80"
   },
   "outputs": [
    {
     "data": {
      "text/plain": [
       "0.005"
      ]
     },
     "execution_count": 58,
     "metadata": {
      "tags": []
     },
     "output_type": "execute_result"
    }
   ],
   "source": [
    "costs=[0.05,0.05/5] #a terminal missile is not as costly as a mid-course one\n",
    "reward_kill=0.05/10"
   ]
  },
  {
   "cell_type": "markdown",
   "metadata": {
    "id": "W8Es5zhx6wFn",
    "colab_type": "text"
   },
   "source": [
    "The intercept function takes as argument an index, an action and a state and returns True if the incoming missile indexed by the index is intercepted, no otherwise.\n",
    "The following parameters are defined:\n",
    "- rangemid: the range of time during which a long-range missile can intercept an incoming missile\n",
    "- range ter: the range of time during which a long rage missile can intercept an incoming missile\n",
    "- pkill: a matric containing the probablity of killing a missile of each type with a missile of each type\n",
    "\n",
    "The intercept function will look at the number of missiles of each type fired at the indexed missile and output true if the range is correct with probability 1-(1-pkill)^nfired which means at least one of the missiles launched hit the incoming missile"
   ]
  },
  {
   "cell_type": "code",
   "execution_count": 0,
   "metadata": {
    "id": "ZwLhG4Q16wFo",
    "colab_type": "code",
    "colab": {},
    "outputId": "82320f97-4b28-4e87-d3d8-df040152df4e"
   },
   "outputs": [
    {
     "data": {
      "text/plain": [
       "interceptMDP (generic function with 1 method)"
      ]
     },
     "execution_count": 59,
     "metadata": {
      "tags": []
     },
     "output_type": "execute_result"
    }
   ],
   "source": [
    "pkill=[[0.8,0.8],[0.7,0.5]]\n",
    "rangemid=6\n",
    "rangeter=2\n",
    "\n",
    "function interceptMDP(index::Int,action::Array{Int64,1},state::Array{Int64,1},rng::AbstractRNG)\n",
    "    midfired=sum(action[index+k*ntrack] for k in 0:(nmid-1))\n",
    "    terfired=sum(action[index+k*ntrack+ntrack*nmid] for k in 0:(nter-1))\n",
    "    mtypeintercept=state[index+(nmid+nter)*3+ntargets+2*ntrack]\n",
    "    if mtypeintercept==0\n",
    "        return(false)\n",
    "    end\n",
    "    p=rand(rng)\n",
    "    #firing mids is only valid in a given time range\n",
    "    if midfired!=0 && p<1-(1-pkill[1][mtypeintercept])^midfired && state[index+3*(nmid+nter)+ntargets]==rangemid\n",
    "        return(true)\n",
    "    end\n",
    "    #firing terminals is only valid in a given time range\n",
    "    if terfired!=0 && p<1-(1-pkill[2][mtypeintercept])^terfired && state[index+3*(nmid+nter)+ntargets]==rangeter\n",
    "        return(true) \n",
    "    end\n",
    "    #firing terminal is only valid in a given time range\n",
    "    return(false)\n",
    "end"
   ]
  },
  {
   "cell_type": "markdown",
   "metadata": {
    "id": "jOgT8xw66wFs",
    "colab_type": "text"
   },
   "source": [
    "#### Define an enemy strategy for the creation of new missiles\n",
    "\n",
    "At every step, enemy strategy returns new missiles created (if any), with their time to tatget, their targets and their type\n",
    "\n",
    "The policy here is just for testing purposes"
   ]
  },
  {
   "cell_type": "code",
   "execution_count": 0,
   "metadata": {
    "id": "krfGcNNl6wFt",
    "colab_type": "code",
    "colab": {},
    "outputId": "df7afc84-f135-49e3-a424-d2c4baa2f51a"
   },
   "outputs": [
    {
     "data": {
      "text/plain": [
       "enemystrategyMDP (generic function with 1 method)"
      ]
     },
     "execution_count": 60,
     "metadata": {
      "tags": []
     },
     "output_type": "execute_result"
    }
   ],
   "source": [
    "function enemystrategyMDP(rng::AbstractRNG)\n",
    "    enemyindex=trunc(Int,3*rand(rng))\n",
    "    if enemyindex==1\n",
    "        rhere=trunc(Int,2*rand(rng))+1\n",
    "        if rhere==1\n",
    "            time=8\n",
    "        else\n",
    "            time=10\n",
    "        end\n",
    "        tgt=trunc(Int,ntargets*rand(rng))+1\n",
    "        timetotarget=[time] \n",
    "        targettypes=[tgt] \n",
    "        mtypes=[rhere] \n",
    "        return(timetotarget,targettypes,mtypes)\n",
    "    end\n",
    "    return([],[],[])\n",
    "end"
   ]
  },
  {
   "cell_type": "markdown",
   "metadata": {
    "id": "23jq6QNM6wFx",
    "colab_type": "text"
   },
   "source": [
    "#### Precision of ennemy missiles\n",
    "\n",
    "This function defines whether an enemy missile reaching it's target unharmed will actually hit the target or miss it"
   ]
  },
  {
   "cell_type": "code",
   "execution_count": 0,
   "metadata": {
    "id": "T2jo45Tm6wFy",
    "colab_type": "code",
    "colab": {},
    "outputId": "bb475b72-7b14-4152-a753-4ee9eb8a60f9"
   },
   "outputs": [
    {
     "data": {
      "text/plain": [
       "hitMDP (generic function with 1 method)"
      ]
     },
     "execution_count": 61,
     "metadata": {
      "tags": []
     },
     "output_type": "execute_result"
    }
   ],
   "source": [
    "#pbty of being hit for the different targets\n",
    "phit=[[0.5,0.2,0.3,0.3],[0.95,0.7,0.7,0.7]]\n",
    "function hitMDP(tgt::Int,mtype::Int,rng::AbstractRNG)\n",
    "    p=rand(rng)\n",
    "    if p<phit[mtype][tgt]\n",
    "        return(true)\n",
    "    end\n",
    "    return(false)\n",
    "end"
   ]
  },
  {
   "cell_type": "markdown",
   "metadata": {
    "id": "PcVSP1C86wF1",
    "colab_type": "text"
   },
   "source": [
    "#### Reward function\n",
    "Reward when transitioning from s to sp under a is:\n",
    "-  (delta health points * multipliers) to account for cost of loosing health points\n",
    "- -(cost of firing missiles)\n",
    "- +(reward for shooting down enemy missiles)\n",
    "- value of the new state - value of the old state (so that the goal becomes to be in a good state at the end)"
   ]
  },
  {
   "cell_type": "code",
   "execution_count": 0,
   "metadata": {
    "id": "kKaXTd7-6wF2",
    "colab_type": "code",
    "colab": {},
    "outputId": "3d28dd94-1bc9-4504-8395-ad4cfc9252a0"
   },
   "outputs": [
    {
     "data": {
      "text/plain": [
       "rewardMDP (generic function with 1 method)"
      ]
     },
     "execution_count": 62,
     "metadata": {
      "tags": []
     },
     "output_type": "execute_result"
    }
   ],
   "source": [
    "function rewardMDP(state::Array{Int64,1},action::Array{Int64,1},next_state::Array{Int64,1})\n",
    "    reward=0\n",
    "    #reward is a function of the change in health points\n",
    "    index=3*(nmid+nter)+1\n",
    "    deltahealth=[next_state[k]-state[k] for k in index:index+ntargets-1]\n",
    "    multipliers=[10,25-exp(next_state[3*(nmid+nter)+2]/8),1,1]\n",
    "    reward+=sum(deltahealth[k]*multipliers[k] for k in 1:ntargets)\n",
    "    #there is also a cost of firing a missile\n",
    "    reward-=sum(action[k]*costs[1] for k in 1:nmid*ntrack)\n",
    "    reward-=sum(action[nmid*ntrack+k]*costs[2] for k in 1:nter*ntrack)\n",
    "    #there is a reward for killing a missile\n",
    "    index=sum((next_state[k]!=-1 && state[k]==-1) for k in 3*(nmid+nter)+ntargets+1:3*(nmid+nter)+ntargets+ntrack)\n",
    "    for i in 1:ntrack-index\n",
    "        if next_state[3*(nmid+nter)+ntargets+i+index]==-1 && state[3*(nmid+nter)+ntargets+i]>0\n",
    "            reward+=reward_kill\n",
    "        end\n",
    "    end\n",
    "    #reward+=statevalue(next_state)-statevalue(state)\n",
    "    return(reward)\n",
    "end"
   ]
  },
  {
   "cell_type": "markdown",
   "metadata": {
    "id": "TcEzfSvz6wF4",
    "colab_type": "text"
   },
   "source": [
    "The atate value function is part of the reward function, and gives the value of a state as a function of the missiles remaining and of the health levels of the targets. The aim of the MDP will be to maximize the end value of the state whilst minimizing cost (of damage and firing missiles)."
   ]
  },
  {
   "cell_type": "code",
   "execution_count": 0,
   "metadata": {
    "id": "zev9T6o_6wF4",
    "colab_type": "code",
    "colab": {},
    "outputId": "3bcbec07-5998-49e3-f0a7-f12815aba6e7"
   },
   "outputs": [
    {
     "data": {
      "text/plain": [
       "statevalue (generic function with 1 method)"
      ]
     },
     "execution_count": 63,
     "metadata": {
      "tags": []
     },
     "output_type": "execute_result"
    }
   ],
   "source": [
    "function statevalue(state::Array{Int64,1})\n",
    "    costs=[0.05,0.05/5]\n",
    "    multipliers=[10,5,1,1]\n",
    "    value=0\n",
    "    value+=sum(multipliers[k]*state[3*(nmid+nter)+k] for k in 1:ntargets)\n",
    "    value+=costs[1]*(sum(state[nmid+nter+k]+state[(nmid+nter)*2+k] for k in 1:nmid))\n",
    "    value+=costs[2]*(sum(state[2*nmid+nter+k]+state[(nmid+nter)*2+nmid+k] for k in 1:nter))\n",
    "    return(value)\n",
    "end"
   ]
  },
  {
   "cell_type": "markdown",
   "metadata": {
    "id": "3wAI989E6wF7",
    "colab_type": "text"
   },
   "source": [
    "#### State transition function\n",
    "\n",
    "From an initial state s and an action sp, the next state is defined by:\n",
    "- the vectors nremaining and nfired are updated based on the action and the previous values of nremaining and nfired. Reloading the chamber to full capacity is automatic when no missiles are launched\n",
    "- the time to target of incoming missiles is decreased by 1 if no intercept, and set to -1 if missile is intercepted"
   ]
  },
  {
   "cell_type": "code",
   "execution_count": 0,
   "metadata": {
    "id": "CsF1yq2U6wF8",
    "colab_type": "code",
    "colab": {},
    "outputId": "75848e99-6881-4e62-df74-8077a4e5bf76"
   },
   "outputs": [
    {
     "data": {
      "text/plain": [
       "nextstateMDP (generic function with 1 method)"
      ]
     },
     "execution_count": 64,
     "metadata": {
      "tags": []
     },
     "output_type": "execute_result"
    }
   ],
   "source": [
    "healthloss=[[-5,-5],[-1,-2],[-1,-1],[-1,-1]]\n",
    "\n",
    "function nextstateMDP(state::Array{Int64,1},action::Array{Int64,1},rng::AbstractRNG)\n",
    "    newstate=copy(state)\n",
    "    newstate[3*(nmid+nter)+3*ntrack+ntargets+1]+=1\n",
    "    #updating the missiles remaining\n",
    "    for k in 0:nmid-1\n",
    "        newstate[k+1]+=sum(action[s] for s in 1+k*ntrack:(k+1)*ntrack)\n",
    "        newstate[nter+nmid+k+1]-=sum(action[s] for s in 1+k*ntrack:(k+1)*ntrack)\n",
    "    end\n",
    "    for k in 0:nter-1\n",
    "        newstate[nmid+k+1]+=sum(action[s] for s in nmid*ntrack+k*ntrack+1:nmid*ntrack+(k+1)*ntrack)\n",
    "        newstate[nter+2*nmid+k+1]-=sum(action[s] for s in nmid*ntrack+k*ntrack+1:nmid*ntrack+(k+1)*ntrack)\n",
    "    end\n",
    "    #reload is automatic \n",
    "    for k in 0:nmid-1\n",
    "        if sum(action[s] for s in 1+k*ntrack:(k+1)*ntrack)==0\n",
    "            newstate[2*(nter+nmid)+k+1]=max(state[2*(nter+nmid)+k+1]-max(n_chamber_mid-state[nter+nmid+k+1],0),0)\n",
    "            newstate[nter+nmid+k+1]-=newstate[2*(nter+nmid)+k+1]-state[2*(nter+nmid)+k+1]\n",
    "        end\n",
    "    end\n",
    "    for k in 0:nter-1\n",
    "        if sum(action[s] for s in 1+nmid*ntrack+k*ntrack:nmid*ntrack+(k+1)*ntrack)==0\n",
    "            newstate[2*(nter+nmid)+nmid+k+1]=max(newstate[2*(nter+nmid)+nmid+k+1]-max(n_chamber_ter-state[nter+2*nmid+k+1],0),0)\n",
    "            newstate[nter+2*nmid+k+1]-=newstate[2*(nter+nmid)+nmid+k+1]-state[2*(nter+nmid)+nmid+k+1]\n",
    "        end\n",
    "    end       \n",
    "    #updating time to target\n",
    "    index=3*(nmid+nter)+ntargets+1\n",
    "    while state[index]!=-1\n",
    "        if interceptMDP(index-3*(nmid+nter)-ntargets,action,state,rng)\n",
    "            newstate[index]=-1\n",
    "            newstate[index+ntrack]=0\n",
    "            newstate[index+2*ntrack]=0\n",
    "        else newstate[index]-=1\n",
    "        end\n",
    "        if newstate[index]==0\n",
    "            if hitMDP(newstate[index+ntrack],newstate[index+2*ntrack],rng)\n",
    "                newstate[3*(nmid+nter)+state[ntrack+index]]=max(0,newstate[3*(nmid+nter)+state[ntrack+index]]+healthloss[newstate[index+ntrack]][newstate[index+2*ntrack]]) \n",
    "            end\n",
    "            newstate[index+ntrack]=0\n",
    "            newstate[index+2*ntrack]=0\n",
    "        end\n",
    "        index+=1\n",
    "    end\n",
    "    (times,targets,types)=enemystrategyMDP(rng,newstate[3*(nmid+nter)+3*ntrack+ntargets+1])\n",
    "    if length(times)!=0\n",
    "        for i in 1:length(times)\n",
    "            newstate[index+i]=times[i]\n",
    "            newstate[index+i+ntrack]=targets[i]\n",
    "            newstate[index+i+2*ntrack]=types[i]\n",
    "        end\n",
    "    end\n",
    "    sorted_list=sort(newstate[3*(nmid+nter)+ntargets+1:index+length(times)],rev=true)\n",
    "    non_sorted_list=copy(newstate[3*(nmid+nter)+ntargets+1:index+length(times)])\n",
    "    tgts=newstate[3*(nmid+nter)+ntargets+ntrack+1:index+length(times)+ntrack]\n",
    "    mtypes=newstate[3*(nmid+nter)+ntargets+2*ntrack+1:index+length(times)+2*ntrack]\n",
    "    indexes=[]\n",
    "    for s in 1:length(sorted_list)\n",
    "        for i in 1:length(sorted_list)\n",
    "            if sorted_list[s]==non_sorted_list[i]\n",
    "                push!(indexes,i)\n",
    "                non_sorted_list[i]=-10000\n",
    "            end\n",
    "        end\n",
    "    end\n",
    "    sortedtgts=[]\n",
    "    sortedmtypes=[]\n",
    "    for i in 1:length(tgts)\n",
    "        push!(sortedtgts,tgts[indexes[i]])\n",
    "        push!(sortedmtypes,mtypes[indexes[i]])\n",
    "    end\n",
    "    newstate[3*(nmid+nter)+ntargets+1:index+length(times)]=sorted_list  \n",
    "    newstate[3*(nmid+nter)+ntargets+ntrack+1:index+ntrack+length(times)]=sortedtgts\n",
    "    newstate[3*(nmid+nter)+ntargets+2*ntrack+1:index+2*ntrack+length(times)]=sortedmtypes\n",
    "    #if the launchers have zero health cannot launch missiles\n",
    "    for i in 1:nmid+nter\n",
    "        if newstate[3*(nmid+nter)+(ntargets-nmid-nter)+i]==0 && state[3*(nmid+nter)+(ntargets-nmid-nter)+i]!=0\n",
    "            newstate[i]=0\n",
    "            newstate[i+nmid+nter]=0\n",
    "            newstate[i+2*(nmid+nter)]=0\n",
    "        end\n",
    "    end\n",
    "    if !isvalidaction(state,action,newstate)\n",
    "        return(newstate,-100000000000)\n",
    "    end\n",
    "    r=rewardMDP(state,action,newstate)\n",
    "    return(newstate,r)\n",
    "end"
   ]
  },
  {
   "cell_type": "markdown",
   "metadata": {
    "id": "yHXdhFjD6wF-",
    "colab_type": "text"
   },
   "source": [
    "#### Checking if the action is valid\n",
    "\n",
    "The function will just check if the action is valid and return false if not, which will allow to put a very negative reward to this action so it is not picked"
   ]
  },
  {
   "cell_type": "code",
   "execution_count": 0,
   "metadata": {
    "id": "Y2Gt9DAH6wF-",
    "colab_type": "code",
    "colab": {},
    "outputId": "7433b402-03c3-40fe-82c1-02e8fe9ec44b"
   },
   "outputs": [
    {
     "data": {
      "text/plain": [
       "isvalidaction (generic function with 1 method)"
      ]
     },
     "execution_count": 65,
     "metadata": {
      "tags": []
     },
     "output_type": "execute_result"
    }
   ],
   "source": [
    "function isvalidaction(state::Array{Int64,1},action::Array{Int64,1},next_state::Array{Int64,1})\n",
    "    for i in 1:ntrack\n",
    "        for k in 0:nmid-1\n",
    "            if action[k*ntrack+i]!=0 && (state[3*(nmid+nter)+ntargets+i]!=rangemid || state[3*(nmid+nter)+ntargets+2*ntrack+i]==1)\n",
    "                #shootig at absent missiles\n",
    "                #print{\"Shooting at absent missiles or not in range\"}\n",
    "                return(false)\n",
    "            end\n",
    "        end\n",
    "        for k in nmid:nter+nmid-1\n",
    "            if action[k*ntrack+i]!=0 && state[3*(nmid+nter)+ntargets+i]!=rangeter\n",
    "                return(false)\n",
    "                #print(\"Shooting at absent nmissiles or not in range\")\n",
    "            end\n",
    "        end\n",
    "    end\n",
    "    for i in 1:nmid+nter\n",
    "        if next_state[nmid+nter+i]<0\n",
    "            #not enough missiles in chamber\n",
    "            #print(\"Not enough missiles in chamber\")\n",
    "            return(false)\n",
    "        end\n",
    "        if next_state[2*(nmid+nter)+i]<0\n",
    "            #no more missiles\n",
    "            #print(\"No more missiles\")\n",
    "            return(false)\n",
    "        end\n",
    "    end\n",
    "    return(true)\n",
    "end"
   ]
  },
  {
   "cell_type": "markdown",
   "metadata": {
    "id": "SPxVD3--6wGB",
    "colab_type": "text"
   },
   "source": [
    "### Setting up the MDP and evaluating it on a random strategy"
   ]
  },
  {
   "cell_type": "code",
   "execution_count": 0,
   "metadata": {
    "id": "9kh9OIgI6wGC",
    "colab_type": "code",
    "colab": {},
    "outputId": "6ff4cd95-1cf9-4189-f6a6-d9c655345ce2"
   },
   "outputs": [
    {
     "data": {
      "text/plain": [
       "possibleactions (generic function with 1 method)"
      ]
     },
     "execution_count": 66,
     "metadata": {
      "tags": []
     },
     "output_type": "execute_result"
    }
   ],
   "source": [
    "struct BMDMDP <: MDP{ Array{Int64,1}, Array{Int64,1}} \n",
    "end\n",
    "\n",
    "function POMDPs.generate_sr(p::BMDMDP, s::Array{Int64,1}, a::Array{Int64,1}, rng::AbstractRNG)\n",
    "    return(nextstateMDP(s,a,rng))\n",
    "end\n",
    "\n",
    "function POMDPs.generate_sr(p::BMDMDP, s::Int64, a::Array{Int64,1}, rng::AbstractRNG)\n",
    "    s=copy(state0)\n",
    "    return(nextstateMDP(s,a,rng))\n",
    "end\n",
    "\n",
    "function POMDPs.reward(p::BMDMDP, s::Array{Int64,1}, a::Array{Int64,1},sp::Array{Int64,1})\n",
    "    return(rewardMDP(s,a,sp))\n",
    "end\n",
    "\n",
    "function POMDPs.actions(::BMDMDP)\n",
    "    actionset=[]\n",
    "    nmid1=[[0 for k in 1:ntrack]]\n",
    "    nter1=[[0 for k in 1:ntrack]]\n",
    "    nter2=[[0 for k in 1:ntrack]]\n",
    "    maxshots_mid1=n_chamber_mid\n",
    "    maxshots_ter1=n_chamber_ter\n",
    "    maxshots_ter2=n_chamber_ter\n",
    "    for ninc in ntrack:ntrack\n",
    "        for shots in 1:maxshots_mid1\n",
    "            possibleshots=find(shots,ninc)\n",
    "            for possibleshot in possibleshots\n",
    "                push!(nmid1,possibleshot)\n",
    "            end\n",
    "        end\n",
    "        for shots in 1:maxshots_ter1\n",
    "            possibleshots=find(shots,ninc)\n",
    "            for possibleshot in possibleshots\n",
    "                push!(nter1,possibleshot)\n",
    "            end\n",
    "        end        \n",
    "        for shots in 1:maxshots_ter2\n",
    "            possibleshots=find(shots,ninc)\n",
    "            for possibleshot in possibleshots\n",
    "                push!(nter2,possibleshot)\n",
    "            end\n",
    "        end  \n",
    "    end\n",
    "    for actionmid1 in nmid1\n",
    "            for actionter1 in nter1\n",
    "                for actionter2 in nter2\n",
    "                    push!(actionset,vcat(actionmid1,actionter1,actionter2))\n",
    "            end\n",
    "        end\n",
    "    end\n",
    "    return(actionset)\n",
    "end\n",
    "\n",
    "#find how to shoot a total of \"totalshots\" at \"nmissiles\" incoming missiles\n",
    "function find(totalshot::Int,nmissiles::Int)\n",
    "    if nmissiles==1\n",
    "        return([totalshot])\n",
    "    end\n",
    "    S=[]\n",
    "    for i in 0:totalshot\n",
    "        allavailable=find(totalshot-i,nmissiles-1)\n",
    "        for a in allavailable\n",
    "            s=vcat([i],a)\n",
    "            push!(S,s)\n",
    "        end\n",
    "    end\n",
    "    return(S)\n",
    "end\n",
    "\n",
    "function POMDPs.discount(::BMDMDP)\n",
    "    return(1)\n",
    "end\n",
    "\n",
    "function POMDPs.actions(::BMDMDP,s::Array{Int64,1})\n",
    "    return(possibleactions(s))\n",
    "end\n",
    "\n",
    "function possibleactions(state::Array{Int64,1})\n",
    "    index=3*(nmid+nter)+ntargets+1\n",
    "    incoming=state[index:index+ntrack-1]\n",
    "    index_mid=[]\n",
    "    index_ter=[]\n",
    "    \n",
    "    nincoming=sum(incoming[k]>-1 for k in 1:length(incoming))\n",
    "    if nincoming==0\n",
    "        return([[0 for k in 1:ntrack*(nmid+nter)]])\n",
    "    end\n",
    "    \n",
    "    for i in 1:length(incoming)\n",
    "        if incoming[i]==rangemid && state[index-1+2*ntrack+i]!=1\n",
    "            push!(index_mid,i)\n",
    "        end\n",
    "        if incoming[i]==rangeter\n",
    "            push!(index_ter,i)\n",
    "        end\n",
    "    end\n",
    "    #index_mid and index_ter now contain the indexes of the missiles that can be shot by both types of missiles\n",
    "    availableactions=[]\n",
    "\n",
    "    available_mid1=[[0 for k in 1:ntrack]]\n",
    "    available_ter1=[[0 for k in 1:ntrack]]\n",
    "    available_ter2=[[0 for k in 1:ntrack]]\n",
    "    \n",
    "    if length(index_mid)!=0\n",
    "        maxshots_mid1=state[nmid+nter+1]\n",
    "        for shots in 1:maxshots_mid1\n",
    "            possibleshots=find(shots,length(index_mid))\n",
    "            for possibleshot in possibleshots\n",
    "                    action=[0 for N in 1:ntrack]\n",
    "                    for i in 1:length(index_mid)\n",
    "                        action[index_mid[i]]=possibleshot[i]\n",
    "                    end\n",
    "                    push!(available_mid1,action)\n",
    "            end\n",
    "        end\n",
    "    end\n",
    "    if length(index_ter)!=0\n",
    "        maxshots_ter1=state[nmid+nter+2]\n",
    "        maxshots_ter2=state[nmid+nter+3]\n",
    "        for shots in 1:maxshots_ter1\n",
    "            possibleshots=find(shots,length(index_ter))\n",
    "            for possibleshot in possibleshots\n",
    "                    action=[0 for N in 1:ntrack]\n",
    "                    for k in 1:length(index_ter)\n",
    "                        action[index_ter[k]]=possibleshot[k]\n",
    "                    end\n",
    "                    push!(available_ter1,action)\n",
    "            end\n",
    "        end\n",
    "        for shots in 1:maxshots_ter2\n",
    "            possibleshots=find(shots,length(index_ter))\n",
    "            for possibleshot in possibleshots\n",
    "                    action=[0 for N in 1:ntrack]\n",
    "                    for k in 1:length(index_ter)\n",
    "                        p=possibleshot[k]\n",
    "                        action[index_ter[k]]=possibleshot[k]\n",
    "                    end\n",
    "                    push!(available_ter2,action)\n",
    "            end\n",
    "        end\n",
    "    end\n",
    "    \n",
    "    #decisions to be made for each launcher\n",
    "    for shotmid1 in available_mid1\n",
    "        for shotter1 in available_ter1\n",
    "            for shotter2 in available_ter2\n",
    "                push!(availableactions,vcat(shotmid1,shotter1,shotter2))\n",
    "            end\n",
    "        end\n",
    "    end\n",
    "    return(availableactions)\n",
    "end"
   ]
  },
  {
   "cell_type": "markdown",
   "metadata": {
    "id": "oxiTdhpB6wGE",
    "colab_type": "text"
   },
   "source": [
    "#### Creating summary functions to summarize state and action"
   ]
  },
  {
   "cell_type": "code",
   "execution_count": 0,
   "metadata": {
    "id": "L3pT40qy6wGF",
    "colab_type": "code",
    "colab": {},
    "outputId": "e2d6d12d-e277-478c-e4d1-eb5f629d7a52"
   },
   "outputs": [
    {
     "data": {
      "text/plain": [
       "summarize_action (generic function with 1 method)"
      ]
     },
     "execution_count": 67,
     "metadata": {
      "tags": []
     },
     "output_type": "execute_result"
    }
   ],
   "source": [
    "function summarize_action(action::Array{Int64,1})\n",
    "    if sum(action)==0\n",
    "        print(\"No action taken\",\"\\n\")\n",
    "    end\n",
    "    nmid1=sum(action[k] for k in 1:ntrack)\n",
    "    nter1=sum(action[k] for k in ntrack+1:2*ntrack)\n",
    "    nter2=sum(action[k] for k in 2*ntrack+1:3*ntrack)\n",
    "    if nmid1!=0\n",
    "        print(\"Launch from mid-course launcher: \",nmid1,\" missiles \\n\")            \n",
    "    end\n",
    "    if nter1!=0\n",
    "        print(\"Launch from 1st terminal launcher: \",nter1,\" missiles \\n\")\n",
    "    end\n",
    "    if nter2!=0\n",
    "        print(\"Launch from 2nd terminal launcher: \",nter2,\" missiles \\n\")\n",
    "    end\n",
    "end"
   ]
  },
  {
   "cell_type": "code",
   "execution_count": 0,
   "metadata": {
    "id": "l7RuTeKJ6wGI",
    "colab_type": "code",
    "colab": {},
    "outputId": "ff943ec5-1ea6-4473-a245-c730215aa7f5"
   },
   "outputs": [
    {
     "data": {
      "text/plain": [
       "summarize_state (generic function with 1 method)"
      ]
     },
     "execution_count": 68,
     "metadata": {
      "tags": []
     },
     "output_type": "execute_result"
    }
   ],
   "source": [
    "function summarize_state(state::Array{Int64,1},action::Array{Int64,1},newstate::Array{Int64,1})\n",
    "\n",
    "    if sum(action)==0\n",
    "        print(\"No action taken\",\"\\n\")\n",
    "    end\n",
    "    nmid1=sum(action[k] for k in 1:ntrack)\n",
    "    nter1=sum(action[k] for k in ntrack+1:2*ntrack)\n",
    "    nter2=sum(action[k] for k in 2*ntrack+1:3*ntrack)\n",
    "    if nmid1!=0\n",
    "        type_mid=[]\n",
    "        tgt_mid=[]\n",
    "        for i in 1:ntrack\n",
    "            if action[i]>0\n",
    "                push!(type_mid,state[3*(nmid+nter)+ntargets+2*ntrack+i])\n",
    "                push!(tgt_mid,state[3*(nmid+nter)+ntargets+ntrack+i])\n",
    "            end\n",
    "        end\n",
    "        act=[action[k] for k in 1:ntrack]\n",
    "        filter!(e->e!=0,act)\n",
    "        print(\"Launch from mid-course launcher: \",[a for a in act],\" missile(s) launched at missile(s) of type \",[k for k in type_mid],\" aiming at target(s) \",[k for k in tgt_mid],\"\\n\")\n",
    "    end\n",
    "    if nter1!=0\n",
    "        type_ter=[]\n",
    "        tgt_ter=[]\n",
    "        for i in 1:ntrack\n",
    "            if action[i+ntrack]>0\n",
    "                push!(type_ter,state[3*(nmid+nter)+ntargets+2*ntrack+i])\n",
    "                push!(tgt_ter,state[3*(nmid+nter)+ntargets+ntrack+i])\n",
    "            end\n",
    "        end\n",
    "        act=[action[k] for k in ntrack+1:2*ntrack]\n",
    "        filter!(e->e!=0,act)\n",
    "        print(\"Launch from 1st terminal launcher: \",[a for a in act],\" missile(s) launched at missile(s) of type \",[k for k in type_ter],\" aiming at target(s) \",[k for k in tgt_ter],\"\\n\")\n",
    "    end\n",
    "    if nter2!=0\n",
    "        type_ter=[]\n",
    "        tgt_ter=[]\n",
    "        for i in 1:ntrack\n",
    "            if action[i+2*ntrack]>0\n",
    "                push!(type_ter,state[3*(nmid+nter)+ntargets+2*ntrack+i])\n",
    "                push!(tgt_ter,state[3*(nmid+nter)+ntargets+ntrack+i])\n",
    "            end\n",
    "        end\n",
    "        act=[action[k] for k in 2*ntrack+1:3*ntrack]\n",
    "        filter!(e->e!=0,act)\n",
    "        print(\"Launch from 2nd terminal launcher: \",[a for a in act],\" missile(s) launched at missile(s) of type \",[k for k in type_ter],\" aiming at target(s) \",[k for k in tgt_ter],\"\\n\")\n",
    "    end   \n",
    "    for k in 0:nmid-1\n",
    "        if sum(action[s] for s in 1+k*ntrack:(k+1)*ntrack)==0\n",
    "            if newstate[2*(nter+nmid)+k+1]!=state[2*(nter+nmid)+k+1] && newstate[2*(nter+nmid)+k+1]!=0\n",
    "                print(\"Reload occurred (midcourse) \\n\")\n",
    "            end\n",
    "        end\n",
    "    end\n",
    "    for k in 0:nter-1\n",
    "        if sum(action[s] for s in 1+nmid*ntrack+k*ntrack:nmid*ntrack+(k+1)*ntrack)==0\n",
    "            if newstate[2*(nter+nmid)+nmid+k+1]!=state[2*(nter+nmid)+nmid+k+1] && newstate[2*(nter+nmid)+nmid+k+1]!=0\n",
    "                print(\"Reload occurred (terminal $(k+1)) \\n\")\n",
    "            end\n",
    "        end\n",
    "    end\n",
    "    if sum(newstate[k+(nmid+nter)]+newstate[k+2*(nmid+nter)] for k in 1:nmid)==0\n",
    "        print(\"You have no more mid-course missiles \\n\")\n",
    "    end\n",
    "    if sum(newstate[k+(2*nmid+nter)]+newstate[k+2*(nmid+nter)+nmid] for k in 1:nter)==0\n",
    "        print(\"You have no more terminal missiles \\n\")\n",
    "    end\n",
    "    # lost health points\n",
    "    index=sum((newstate[k]!=-1 && state[k]==-1) for k in 3*(nmid+nter)+ntargets+1:3*(nmid+nter)+ntargets+ntrack)\n",
    "    #index contains the number of new missiles\n",
    "    for i in 1:ntargets\n",
    "        if state[3*(nmid+nter)+i]!=newstate[3*(nmid+nter)+i]\n",
    "            mtypehere=[]\n",
    "            for i in 1:ntrack\n",
    "                if newstate[i+3*(nmid+nter)+ntargets]==0\n",
    "                    push!(mtypehere,state[i-index+3*(nmid+nter)+ntargets+2*ntrack])\n",
    "                end\n",
    "            end\n",
    "            print(\"Target $i was hit by missile(s) of type \",[m for m in mtypehere],\", loss of \",state[3*(nmid+nter)+i]-newstate[3*(nmid+nter)+i],\" health points \\n\")\n",
    "        end\n",
    "    end\n",
    "    for i in 1:ntrack-index\n",
    "        if newstate[3*(nmid+nter)+ntargets+i+index]==-1 && state[3*(nmid+nter)+ntargets+i]>0\n",
    "            mtypehere=state[3*(nmid+nter)+ntargets+i+2*ntrack]\n",
    "            print(\"You destroyed an ennemy missile of type $mtypehere \\n\")\n",
    "        end\n",
    "    end\n",
    "    #if the launchers have zero health cannot launch missiles\n",
    "    for i in 1:nmid+nter\n",
    "        if newstate[3*(nmid+nter)+(ntargets-nmid-nter)+i]==0 && state[3*(nmid+nter)+(ntargets-nmid-nter)+i]!=0\n",
    "            if i==1\n",
    "                tag=\"midcourse\"\n",
    "            elseif i==2\n",
    "                tag=\"terminal1\"\n",
    "            else \n",
    "                tag=\"terminal2\"\n",
    "            end\n",
    "            print(\"You lost one of your launchers (\",tag,\") \\n\")\n",
    "        end\n",
    "    end\n",
    "end"
   ]
  },
  {
   "cell_type": "code",
   "execution_count": 0,
   "metadata": {
    "id": "s5RD1ZzV6wGN",
    "colab_type": "code",
    "colab": {},
    "outputId": "fcc7a32b-d543-41fe-e327-af85236049af"
   },
   "outputs": [
    {
     "data": {
      "text/plain": [
       "collect_state (generic function with 1 method)"
      ]
     },
     "execution_count": 69,
     "metadata": {
      "tags": []
     },
     "output_type": "execute_result"
    }
   ],
   "source": [
    "function collect_state(state::Array{Int64,1},action::Array{Int64,1},newstate::Array{Int64,1},midfired::Array{Array{Int64,1},1},ter1fired::Array{Array{Int64,1},1},ter2fired::Array{Array{Int64,1},1},countmidfired::Array{Array{Int64,1},1},countter1fired::Array{Array{Int64,1},1},countter2fired::Array{Array{Int64,1},1})\n",
    "\n",
    "    if sum(action)==0\n",
    "        print(\"No action taken\",\"\\n\")\n",
    "    end\n",
    "    nmid1=sum(action[k] for k in 1:ntrack)\n",
    "    nter1=sum(action[k] for k in ntrack+1:2*ntrack)\n",
    "    nter2=sum(action[k] for k in 2*ntrack+1:3*ntrack)\n",
    "    if nmid1!=0\n",
    "        type_mid=[]\n",
    "        tgt_mid=[]\n",
    "        for i in 1:ntrack\n",
    "            if action[i]>0\n",
    "                push!(type_mid,state[3*(nmid+nter)+ntargets+2*ntrack+i])\n",
    "                push!(tgt_mid,state[3*(nmid+nter)+ntargets+ntrack+i])\n",
    "                midfired[state[3*(nmid+nter)+ntargets+2*ntrack+i]][state[3*(nmid+nter)+ntargets+ntrack+i]]+=1\n",
    "                countmidfired[state[3*(nmid+nter)+ntargets+2*ntrack+i]][state[3*(nmid+nter)+ntargets+ntrack+i]]+=action[i]\n",
    "            end\n",
    "        end\n",
    "        act=[action[k] for k in 1:ntrack]\n",
    "        filter!(e->e!=0,act)\n",
    "        print(\"Launch from mid-course launcher: \",[a for a in act],\" missile(s) launched at missile(s) of type \",[k for k in type_mid],\" aiming at target(s) \",[k for k in tgt_mid],\"\\n\")\n",
    "    end\n",
    "    if nter1!=0\n",
    "        type_ter=[]\n",
    "        tgt_ter=[]\n",
    "        for i in 1:ntrack\n",
    "            if action[i+ntrack]>0\n",
    "                push!(type_ter,state[3*(nmid+nter)+ntargets+2*ntrack+i])\n",
    "                push!(tgt_ter,state[3*(nmid+nter)+ntargets+ntrack+i])\n",
    "                countter1fired[state[3*(nmid+nter)+ntargets+2*ntrack+i]][state[3*(nmid+nter)+ntargets+ntrack+i]]+=1\n",
    "                ter1fired[state[3*(nmid+nter)+ntargets+2*ntrack+i]][state[3*(nmid+nter)+ntargets+ntrack+i]]+=action[i+ntrack]\n",
    "            end\n",
    "        end\n",
    "        act=[action[k] for k in ntrack+1:2*ntrack]\n",
    "        filter!(e->e!=0,act)\n",
    "        print(\"Launch from 1st terminal launcher: \",[a for a in act],\" missile(s) launched at missile(s) of type \",[k for k in type_ter],\" aiming at target(s) \",[k for k in tgt_ter],\"\\n\")\n",
    "    end\n",
    "    if nter2!=0\n",
    "        type_ter=[]\n",
    "        tgt_ter=[]\n",
    "        for i in 1:ntrack\n",
    "            if action[i+2*ntrack]>0\n",
    "                push!(type_ter,state[3*(nmid+nter)+ntargets+2*ntrack+i])\n",
    "                push!(tgt_ter,state[3*(nmid+nter)+ntargets+ntrack+i])\n",
    "                countter2fired[state[3*(nmid+nter)+ntargets+2*ntrack+i]][state[3*(nmid+nter)+ntargets+ntrack+i]]+=1\n",
    "                ter2fired[state[3*(nmid+nter)+ntargets+2*ntrack+i]][state[3*(nmid+nter)+ntargets+ntrack+i]]+=action[i+2*ntrack]\n",
    "            end\n",
    "        end\n",
    "        act=[action[k] for k in 2*ntrack+1:3*ntrack]\n",
    "        filter!(e->e!=0,act)\n",
    "        print(\"Launch from 2nd terminal launcher: \",[a for a in act],\" missile(s) launched at missile(s) of type \",[k for k in type_ter],\" aiming at target(s) \",[k for k in tgt_ter],\"\\n\")\n",
    "    end   \n",
    "    for k in 0:nmid-1\n",
    "        if sum(action[s] for s in 1+k*ntrack:(k+1)*ntrack)==0\n",
    "            if newstate[2*(nter+nmid)+k+1]!=state[2*(nter+nmid)+k+1] && newstate[2*(nter+nmid)+k+1]!=0\n",
    "                print(\"Reload occurred (midcourse) \\n\")\n",
    "            end\n",
    "        end\n",
    "    end\n",
    "    for k in 0:nter-1\n",
    "        if sum(action[s] for s in 1+nmid*ntrack+k*ntrack:nmid*ntrack+(k+1)*ntrack)==0\n",
    "            if newstate[2*(nter+nmid)+nmid+k+1]!=state[2*(nter+nmid)+nmid+k+1] && newstate[2*(nter+nmid)+nmid+k+1]!=0\n",
    "                print(\"Reload occurred (terminal $(k+1)) \\n\")\n",
    "            end\n",
    "        end\n",
    "    end\n",
    "    if sum(newstate[k+(nmid+nter)]+newstate[k+2*(nmid+nter)] for k in 1:nmid)==0\n",
    "        print(\"You have no more mid-course missiles \\n\")\n",
    "    end\n",
    "    if sum(newstate[k+(2*nmid+nter)]+newstate[k+2*(nmid+nter)+nmid] for k in 1:nter)==0\n",
    "        print(\"You have no more terminal missiles \\n\")\n",
    "    end\n",
    "    # lost health points\n",
    "    #index=sum((newstate[k]!=-1 && state[k]<=0) for k in 3*(nmid+nter)+ntargets+1:3*(nmid+nter)+ntargets+ntrack)\n",
    "    index=sum((newstate[k]==8 || newstate[k]==10) for k in 3*(nmid+nter)+ntargets+1:3*(nmid+nter)+ntargets+ntrack)\n",
    "    #index contains the number of new missiles\n",
    "    for i in 1:ntargets\n",
    "        if state[3*(nmid+nter)+i]!=newstate[3*(nmid+nter)+i]\n",
    "            mtypehere=[]\n",
    "            for i in 1:ntrack\n",
    "                if newstate[i+3*(nmid+nter)+ntargets]==0\n",
    "                    push!(mtypehere,state[i-index+3*(nmid+nter)+ntargets+2*ntrack])\n",
    "                end\n",
    "            end\n",
    "            print(\"Target $i was hit by missile(s) of type \",[m for m in mtypehere],\", loss of \",state[3*(nmid+nter)+i]-newstate[3*(nmid+nter)+i],\" health points \\n\")\n",
    "        end\n",
    "    end\n",
    "    for i in 1:ntrack-index\n",
    "        if newstate[3*(nmid+nter)+ntargets+i+index]==-1 && state[3*(nmid+nter)+ntargets+i]>0\n",
    "            mtypehere=state[3*(nmid+nter)+ntargets+i+2*ntrack]\n",
    "            print(\"You destroyed an ennemy missile of type $mtypehere \\n\")\n",
    "        end\n",
    "    end\n",
    "    #if the launchers have zero health cannot launch missiles\n",
    "    for i in 1:nmid+nter\n",
    "        if newstate[3*(nmid+nter)+(ntargets-nmid-nter)+i]==0 && state[3*(nmid+nter)+(ntargets-nmid-nter)+i]!=0\n",
    "            if i==1\n",
    "                tag=\"midcourse\"\n",
    "            elseif i==2\n",
    "                tag=\"terminal1\"\n",
    "            else \n",
    "                tag=\"terminal2\"\n",
    "            end\n",
    "            print(\"You lost one of your launchers (\",tag,\") \\n\")\n",
    "        end\n",
    "    end\n",
    "    return(midfired,ter1fired,ter2fired,countmidfired,countter1fired,countter2fired)\n",
    "end"
   ]
  },
  {
   "cell_type": "code",
   "execution_count": 0,
   "metadata": {
    "id": "yHQW7sMd6wGP",
    "colab_type": "code",
    "colab": {},
    "outputId": "b7600341-7b0c-4407-8773-3b60eb207d46"
   },
   "outputs": [
    {
     "data": {
      "text/plain": [
       "collect_state2 (generic function with 1 method)"
      ]
     },
     "execution_count": 70,
     "metadata": {
      "tags": []
     },
     "output_type": "execute_result"
    }
   ],
   "source": [
    "function collect_state2(state::Array{Int64,1},action::Array{Int64,1},newstate::Array{Int64,1},midfired::Array{Array{Int64,1},1},ter1fired::Array{Array{Int64,1},1},ter2fired::Array{Array{Int64,1},1},countmidfired::Array{Array{Int64,1},1},countter1fired::Array{Array{Int64,1},1},countter2fired::Array{Array{Int64,1},1})\n",
    "\n",
    "    nmid1=sum(action[k] for k in 1:ntrack)\n",
    "    nter1=sum(action[k] for k in ntrack+1:2*ntrack)\n",
    "    nter2=sum(action[k] for k in 2*ntrack+1:3*ntrack)\n",
    "    if nmid1!=0\n",
    "        for i in 1:ntrack\n",
    "            if action[i]>0\n",
    "                midfired[state[3*(nmid+nter)+ntargets+2*ntrack+i]][state[3*(nmid+nter)+ntargets+ntrack+i]]+=1\n",
    "                countmidfired[state[3*(nmid+nter)+ntargets+2*ntrack+i]][state[3*(nmid+nter)+ntargets+ntrack+i]]+=action[i]\n",
    "            end\n",
    "        end\n",
    "    end\n",
    "    if nter1!=0\n",
    "        for i in 1:ntrack\n",
    "            if action[i+ntrack]>0\n",
    "                countter1fired[state[3*(nmid+nter)+ntargets+2*ntrack+i]][state[3*(nmid+nter)+ntargets+ntrack+i]]+=1\n",
    "                ter1fired[state[3*(nmid+nter)+ntargets+2*ntrack+i]][state[3*(nmid+nter)+ntargets+ntrack+i]]+=action[i+ntrack]\n",
    "            end\n",
    "        end\n",
    "    end\n",
    "    if nter2!=0\n",
    "        for i in 1:ntrack\n",
    "            if action[i+2*ntrack]>0\n",
    "                countter2fired[state[3*(nmid+nter)+ntargets+2*ntrack+i]][state[3*(nmid+nter)+ntargets+ntrack+i]]+=1\n",
    "                ter2fired[state[3*(nmid+nter)+ntargets+2*ntrack+i]][state[3*(nmid+nter)+ntargets+ntrack+i]]+=action[i+2*ntrack]\n",
    "            end\n",
    "        end\n",
    "    end\n",
    "    return(midfired,ter1fired,ter2fired,countmidfired,countter1fired,countter2fired)\n",
    "end"
   ]
  },
  {
   "cell_type": "markdown",
   "metadata": {
    "id": "_8gI0jq96wGS",
    "colab_type": "text"
   },
   "source": [
    "#### Viewing baseline and no action policies"
   ]
  },
  {
   "cell_type": "markdown",
   "metadata": {
    "id": "HcbGdX1G6wGT",
    "colab_type": "text"
   },
   "source": [
    "Initialize a state with missiles ready to shoot and no coming birds and a zero action"
   ]
  },
  {
   "cell_type": "code",
   "execution_count": 0,
   "metadata": {
    "id": "dw0-ehzP6wGU",
    "colab_type": "code",
    "colab": {},
    "outputId": "daa2d4c4-60c2-43ae-b950-e267345303f0"
   },
   "outputs": [
    {
     "data": {
      "text/plain": [
       "300-element Array{Int64,1}:\n",
       " 0\n",
       " 0\n",
       " 0\n",
       " 0\n",
       " 0\n",
       " 0\n",
       " 0\n",
       " 0\n",
       " 0\n",
       " 0\n",
       " 0\n",
       " 0\n",
       " 0\n",
       " ⋮\n",
       " 0\n",
       " 0\n",
       " 0\n",
       " 0\n",
       " 0\n",
       " 0\n",
       " 0\n",
       " 0\n",
       " 0\n",
       " 0\n",
       " 0\n",
       " 0"
      ]
     },
     "execution_count": 71,
     "metadata": {
      "tags": []
     },
     "output_type": "execute_result"
    }
   ],
   "source": [
    "POMDPs.initialstate_distribution(mdp::BMDMDP) = Deterministic(state0)\n",
    "action0=[0 for k in 1:(ntrack*(nmid+nter))]"
   ]
  },
  {
   "cell_type": "markdown",
   "metadata": {
    "id": "gkyrUqF56wGX",
    "colab_type": "text"
   },
   "source": [
    "The baseline policy (2 at every missile in range)"
   ]
  },
  {
   "cell_type": "code",
   "execution_count": 0,
   "metadata": {
    "id": "iEVYr7AY6wGX",
    "colab_type": "code",
    "colab": {},
    "outputId": "27b5822f-a8a0-440f-d2c5-52f7cf61dd41"
   },
   "outputs": [
    {
     "data": {
      "text/plain": [
       "baseline (generic function with 1 method)"
      ]
     },
     "execution_count": 72,
     "metadata": {
      "tags": []
     },
     "output_type": "execute_result"
    }
   ],
   "source": [
    "function baseline(state::Array{Int64,1})\n",
    "    action=[0 for k in 1:((nmid+nter)*ntrack)]\n",
    "    \n",
    "    index=3*(nmid+nter)+ntargets+1\n",
    "    incoming=state[index:index+ntrack-1]\n",
    "    index_mid=[]\n",
    "    index_ter=[]\n",
    "    \n",
    "    nincoming=sum(incoming[k]>-1 for k in 1:length(incoming))\n",
    "    if nincoming==0\n",
    "        return([0 for k in 1:ntrack*(nmid+nter)])\n",
    "    end\n",
    "    \n",
    "    for i in 1:length(incoming)\n",
    "        if incoming[i]==rangemid && state[3*(nmid+nter)+ntargets+ntrack*2+i]!=1\n",
    "            push!(index_mid,i)\n",
    "        end\n",
    "        if incoming[i]==rangeter\n",
    "            push!(index_ter,i)\n",
    "        end\n",
    "    end\n",
    "    #index_mid and index_ter now contain the indexes of the missiles that can be shot by both types of missiles\n",
    "    if length(index_mid)!=0\n",
    "        maxshots_mid1=state[nmid+nter+1]\n",
    "        available=maxshots_mid1\n",
    "        step=1\n",
    "        while available>=0 && step<=length(index_mid)\n",
    "            action[index_mid[step]]=min(2,available)\n",
    "            available-=2\n",
    "            step+=1\n",
    "        end   \n",
    "    end\n",
    "    if length(index_ter)!=0\n",
    "        maxshots_ter1=state[nmid+nter+2]\n",
    "        maxshots_ter2=state[nmid+nter+3]\n",
    "        available=maxshots_ter1+maxshots_ter2\n",
    "        step=1\n",
    "        while available>=maxshots_ter2 && step<=length(index_ter)\n",
    "            action[ntrack+index_ter[step]]=min(2,available-maxshots_ter2)\n",
    "            available-=min(2,available-maxshots_ter2)\n",
    "            step+=1\n",
    "        end   \n",
    "        while available>=0 && step<=length(index_ter)\n",
    "            action[2*ntrack+index_ter[step]]=min(2,available)\n",
    "            available-=2\n",
    "            step+=1\n",
    "        end  \n",
    "    end\n",
    "    sp,r=nextstateMDP(s,action,rng)\n",
    "    sp=copy(sp)\n",
    "    if !isvalidaction(s,action,sp)\n",
    "        return([0 for k in 1:(nmid+nter)*ntrack])\n",
    "    end\n",
    "    return(action)\n",
    "end"
   ]
  },
  {
   "cell_type": "code",
   "execution_count": 0,
   "metadata": {
    "id": "J8GaSSzd6wGZ",
    "colab_type": "code",
    "colab": {},
    "outputId": "31a08d39-704d-441c-ca08-6aeeafc54c0b"
   },
   "outputs": [
    {
     "name": "stdout",
     "output_type": "stream",
     "text": [
      "Step: 1\n"
     ]
    },
    {
     "ename": "UndefVarError",
     "evalue": "UndefVarError: mdp not defined",
     "traceback": [
      "UndefVarError: mdp not defined",
      "",
      "Stacktrace:",
      " [1] top-level scope at In[73]:27"
     ],
     "output_type": "error"
    }
   ],
   "source": [
    "r_total=0.0\n",
    "d=1.0\n",
    "rng=MersenneTwister(123)\n",
    "s=state0\n",
    "depth=20\n",
    "nmidbase=[]\n",
    "nterbase=[]\n",
    "rbase=[]\n",
    "midfiredbase=[[0,0,0,0],[0,0,0,0]]\n",
    "ter1firedbase=[[0,0,0,0],[0,0,0,0]]\n",
    "ter2firedbase=[[0,0,0,0],[0,0,0,0]]\n",
    "\n",
    "for i in 1:depth\n",
    "    print(\"Step: \",i,\"\\n\")\n",
    "    if sum(s[k]!=-1 for k in 3*(nmid+nter)+ntargets+1:3*(nmid+nter)+ntargets+ntrack)!=0\n",
    "        indx=0\n",
    "        while s[3*(nmid+nter)+ntargets+1+indx]>0\n",
    "            print(\"Incoming missile of type \",s[3*(nmid+nter)+ntargets+1+indx+2*ntrack],\" aimed at target \",s[3*(nmid+nter)+ntargets+1+indx+ntrack] ,\" and \",s[3*(nmid+nter)+ntargets+1+indx],\" steps away \\n\")\n",
    "            indx+=1\n",
    "        end\n",
    "    end\n",
    "    a=baseline(s)\n",
    "    nmidhere=sum(a[s] for s in 1:nmid*ntrack)\n",
    "    nterhere=sum(a[s] for s in 1+nmid*ntrack:nmid*ntrack+nter*ntrack)\n",
    "    push!(nmidbase,nmidhere)\n",
    "    push!(nterbase,nterhere)\n",
    "    sp,r=generate_sr(mdp,s,a,rng)\n",
    "    l=isvalidaction(s,a,sp)\n",
    "    midfired2,ter1fired2,ter2fired2=collect_state(s,a,sp,midfiredbase,ter1firedbase,ter2firedbase)\n",
    "    midfiredbase=copy(midfired2)\n",
    "    ter1firedbase=copy(ter1fired2)\n",
    "    ter2firedbase=copy(ter2fired2)\n",
    "    s=copy(sp)\n",
    "    r_total+=d*r\n",
    "    push!(rbase,r)\n",
    "    d*=discount(mdp)\n",
    "end\n",
    "print(r_total)"
   ]
  },
  {
   "cell_type": "markdown",
   "metadata": {
    "id": "LtCrMvaz6wGb",
    "colab_type": "text"
   },
   "source": [
    "#### Implementing MCTS"
   ]
  },
  {
   "cell_type": "code",
   "execution_count": 0,
   "metadata": {
    "id": "cWDPBt8O6wGc",
    "colab_type": "code",
    "colab": {},
    "outputId": "18e85949-859f-4753-832e-56e1e398f317"
   },
   "outputs": [
    {
     "name": "stdout",
     "output_type": "stream",
     "text": [
      "INFO: POMDPs.jl requirements for \u001b[34maction(::AbstractMCTSPlanner, ::Any)\u001b[39m and dependencies. ([✔] = implemented correctly; [X] = missing)\n",
      "\n",
      "For \u001b[34maction(::AbstractMCTSPlanner, ::Any)\u001b[39m:\n",
      "  [No additional requirements]\n",
      "For \u001b[34msimulate(::AbstractMCTSPlanner, ::Any, ::Int64)\u001b[39m (in action(::AbstractMCTSPlanner, ::Any)):\n",
      "\u001b[32m  [✔] discount(::BMDMDP)\u001b[39m\n",
      "\u001b[32m  [✔] isterminal(::BMDMDP, ::Array)\u001b[39m\n",
      "\u001b[32m  [✔] generate_sr(::BMDMDP, ::Array, ::Array, ::MersenneTwister)\u001b[39m\n",
      "\u001b[32m  [✔] isequal(::Array, ::Array)\u001b[39m\n",
      "\u001b[32m  [✔] hash(::Array)\u001b[39m\n",
      "For \u001b[34minsert_node!(::MCTSPlanner, ::Array)\u001b[39m (in simulate(::AbstractMCTSPlanner, ::Any, ::Int64)):\n",
      "  [No requirements specified]\n",
      "For \u001b[34mestimate_value(::MCTS.SolvedRolloutEstimator, ::MDP, ::Any, ::Int64)\u001b[39m (in simulate(::AbstractMCTSPlanner, ::Any, ::Int64)):\n",
      "  [No additional requirements]\n",
      "For \u001b[34mrollout(::MCTS.SolvedRolloutEstimator, ::MDP, ::Any, ::Int64)\u001b[39m (in estimate_value(::MCTS.SolvedRolloutEstimator, ::MDP, ::Any, ::Int64)):\n",
      "  [No additional requirements]\n",
      "For \u001b[34msimulate(::RolloutSimulator, ::MDP, ::Policy, ::Any)\u001b[39m (in rollout(::MCTS.SolvedRolloutEstimator, ::MDP, ::Any, ::Int64)):\n",
      "\u001b[32m  [✔] action(::RandomPolicy, ::Array)\u001b[39m\n"
     ]
    },
    {
     "data": {
      "text/plain": [
       "MCTSPlanner{BMDMDP,Array{Int64,1},Array{Int64,1},MCTS.SolvedRolloutEstimator{RandomPolicy{MersenneTwister,BMDMDP,BeliefUpdaters.NothingUpdater},MersenneTwister},MersenneTwister}(MCTSSolver(500, 20, 5.0, MersenneTwister(UInt32[0x6ebeafda, 0x6d720531, 0x2c14ce20, 0x7ada389c], Random.DSFMT.DSFMT_state(Int32[-876382834, 1073691712, -1279564101, 1072993241, -129956242, 1073225707, 173570849, 1073373277, 708327490, 1073085995  …  -684303054, 1072734125, -1406263053, 1073606911, -391150304, -1216180654, -2042395455, 1258049176, 382, 0]), [1.47401, 1.29462, 1.96099, 1.19951, 1.44266, 1.45662, 1.44506, 1.83656, 1.88176, 1.65684  …  1.39538, 1.4343, 1.18105, 1.66023, 1.68188, 1.65491, 1.24744, 1.80473, 1.03898, 1.87134], UInt128[0x00000000000000000000000000000000, 0x00000000000000000000000000000000, 0x00000000000000000000000000000000, 0x00000000000000000000000000000000, 0x00000000000000000000000000000000, 0x00000000000000000000000000000000, 0x00000000000000000000000000000000, 0x00000000000000000000000000000000, 0x00000000000000000000000000000000, 0x00000000000000000000000000000000  …  0x00000000000000000000000000000000, 0x00000000000000000000000000000000, 0x00000000000000000000000000000000, 0x00000000000000000000000000000000, 0x00000000000000000000000000000000, 0x00000000000000000000000000000000, 0x00000000000000000000000000000000, 0x00000000000000000000000000000000, 0x00000000000000000000000000000000, 0x00000000000000000000000000000000], 311, 0), RolloutEstimator(RandomSolver(MersenneTwister(UInt32[0x6ebeafda, 0x6d720531, 0x2c14ce20, 0x7ada389c], Random.DSFMT.DSFMT_state(Int32[-876382834, 1073691712, -1279564101, 1072993241, -129956242, 1073225707, 173570849, 1073373277, 708327490, 1073085995  …  -684303054, 1072734125, -1406263053, 1073606911, -391150304, -1216180654, -2042395455, 1258049176, 382, 0]), [1.47401, 1.29462, 1.96099, 1.19951, 1.44266, 1.45662, 1.44506, 1.83656, 1.88176, 1.65684  …  1.39538, 1.4343, 1.18105, 1.66023, 1.68188, 1.65491, 1.24744, 1.80473, 1.03898, 1.87134], UInt128[0x00000000000000000000000000000000, 0x00000000000000000000000000000000, 0x00000000000000000000000000000000, 0x00000000000000000000000000000000, 0x00000000000000000000000000000000, 0x00000000000000000000000000000000, 0x00000000000000000000000000000000, 0x00000000000000000000000000000000, 0x00000000000000000000000000000000, 0x00000000000000000000000000000000  …  0x00000000000000000000000000000000, 0x00000000000000000000000000000000, 0x00000000000000000000000000000000, 0x00000000000000000000000000000000, 0x00000000000000000000000000000000, 0x00000000000000000000000000000000, 0x00000000000000000000000000000000, 0x00000000000000000000000000000000, 0x00000000000000000000000000000000, 0x00000000000000000000000000000000], 311, 0))), 0.0, 0, false, true), BMDMDP(), MCTS.MCTSTree{Array{Int64,1},Array{Int64,1}}(Dict{Array{Int64,1},Int64}(), Array{Int64,1}[], Int64[], Array{Int64,1}[], Int64[], Float64[], Array{Int64,1}[], Dict{Pair{Int64,Int64},Int64}()), MCTS.SolvedRolloutEstimator{RandomPolicy{MersenneTwister,BMDMDP,BeliefUpdaters.NothingUpdater},MersenneTwister}(RandomPolicy{MersenneTwister,BMDMDP,BeliefUpdaters.NothingUpdater}(MersenneTwister(UInt32[0x6ebeafda, 0x6d720531, 0x2c14ce20, 0x7ada389c], Random.DSFMT.DSFMT_state(Int32[-876382834, 1073691712, -1279564101, 1072993241, -129956242, 1073225707, 173570849, 1073373277, 708327490, 1073085995  …  -684303054, 1072734125, -1406263053, 1073606911, -391150304, -1216180654, -2042395455, 1258049176, 382, 0]), [1.47401, 1.29462, 1.96099, 1.19951, 1.44266, 1.45662, 1.44506, 1.83656, 1.88176, 1.65684  …  1.39538, 1.4343, 1.18105, 1.66023, 1.68188, 1.65491, 1.24744, 1.80473, 1.03898, 1.87134], UInt128[0x00000000000000000000000000000000, 0x00000000000000000000000000000000, 0x00000000000000000000000000000000, 0x00000000000000000000000000000000, 0x00000000000000000000000000000000, 0x00000000000000000000000000000000, 0x00000000000000000000000000000000, 0x00000000000000000000000000000000, 0x00000000000000000000000000000000, 0x00000000000000000000000000000000  …  0x00000000000000000000000000000000, 0x00000000000000000000000000000000, 0x00000000000000000000000000000000, 0x00000000000000000000000000000000, 0x00000000000000000000000000000000, 0x00000000000000000000000000000000, 0x00000000000000000000000000000000, 0x00000000000000000000000000000000, 0x00000000000000000000000000000000, 0x00000000000000000000000000000000], 311, 0), BMDMDP(), BeliefUpdaters.NothingUpdater()), MersenneTwister(UInt32[0x6ebeafda, 0x6d720531, 0x2c14ce20, 0x7ada389c], Random.DSFMT.DSFMT_state(Int32[-876382834, 1073691712, -1279564101, 1072993241, -129956242, 1073225707, 173570849, 1073373277, 708327490, 1073085995  …  -684303054, 1072734125, -1406263053, 1073606911, -391150304, -1216180654, -2042395455, 1258049176, 382, 0]), [1.47401, 1.29462, 1.96099, 1.19951, 1.44266, 1.45662, 1.44506, 1.83656, 1.88176, 1.65684  …  1.39538, 1.4343, 1.18105, 1.66023, 1.68188, 1.65491, 1.24744, 1.80473, 1.03898, 1.87134], UInt128[0x00000000000000000000000000000000, 0x00000000000000000000000000000000, 0x00000000000000000000000000000000, 0x00000000000000000000000000000000, 0x00000000000000000000000000000000, 0x00000000000000000000000000000000, 0x00000000000000000000000000000000, 0x00000000000000000000000000000000, 0x00000000000000000000000000000000, 0x00000000000000000000000000000000  …  0x00000000000000000000000000000000, 0x00000000000000000000000000000000, 0x00000000000000000000000000000000, 0x00000000000000000000000000000000, 0x00000000000000000000000000000000, 0x00000000000000000000000000000000, 0x00000000000000000000000000000000, 0x00000000000000000000000000000000, 0x00000000000000000000000000000000, 0x00000000000000000000000000000000], 311, 0)), MersenneTwister(UInt32[0x6ebeafda, 0x6d720531, 0x2c14ce20, 0x7ada389c], Random.DSFMT.DSFMT_state(Int32[-876382834, 1073691712, -1279564101, 1072993241, -129956242, 1073225707, 173570849, 1073373277, 708327490, 1073085995  …  -684303054, 1072734125, -1406263053, 1073606911, -391150304, -1216180654, -2042395455, 1258049176, 382, 0]), [1.47401, 1.29462, 1.96099, 1.19951, 1.44266, 1.45662, 1.44506, 1.83656, 1.88176, 1.65684  …  1.39538, 1.4343, 1.18105, 1.66023, 1.68188, 1.65491, 1.24744, 1.80473, 1.03898, 1.87134], UInt128[0x00000000000000000000000000000000, 0x00000000000000000000000000000000, 0x00000000000000000000000000000000, 0x00000000000000000000000000000000, 0x00000000000000000000000000000000, 0x00000000000000000000000000000000, 0x00000000000000000000000000000000, 0x00000000000000000000000000000000, 0x00000000000000000000000000000000, 0x00000000000000000000000000000000  …  0x00000000000000000000000000000000, 0x00000000000000000000000000000000, 0x00000000000000000000000000000000, 0x00000000000000000000000000000000, 0x00000000000000000000000000000000, 0x00000000000000000000000000000000, 0x00000000000000000000000000000000, 0x00000000000000000000000000000000, 0x00000000000000000000000000000000, 0x00000000000000000000000000000000], 311, 0))"
      ]
     },
     "execution_count": 74,
     "metadata": {
      "tags": []
     },
     "output_type": "execute_result"
    }
   ],
   "source": [
    "mdp = BMDMDP()\n",
    "depth=20\n",
    "@requirements_info MCTSSolver() BMDMDP()\n",
    "solver = MCTSSolver(enable_tree_vis=true,n_iterations=500,depth=depth,exploration_constant=5.0)\n",
    "policy=solve(solver,mdp)"
   ]
  },
  {
   "cell_type": "code",
   "execution_count": 0,
   "metadata": {
    "id": "jFHJyfdQ6wGe",
    "colab_type": "code",
    "colab": {},
    "outputId": "7797adcf-e050-48d4-9247-e0e72dc59b75"
   },
   "outputs": [
    {
     "ename": "MethodError",
     "evalue": "MethodError: no method matching enemystrategyMDP(::MersenneTwister, ::Int64)\nClosest candidates are:\n  enemystrategyMDP(::AbstractRNG) at In[60]:2",
     "traceback": [
      "MethodError: no method matching enemystrategyMDP(::MersenneTwister, ::Int64)\nClosest candidates are:\n  enemystrategyMDP(::AbstractRNG) at In[60]:2",
      "",
      "Stacktrace:",
      " [1] nextstateMDP(::Array{Int64,1}, ::Array{Int64,1}, ::MersenneTwister) at ./In[64]:46",
      " [2] generate_sr(::BMDMDP, ::Array{Int64,1}, ::Array{Int64,1}, ::MersenneTwister) at ./In[66]:5",
      " [3] simulate at /Users/jamesmyerson/.julia/packages/MCTS/b8QUV/src/vanilla.jl:280 [inlined]",
      " [4] build_tree(::MCTSPlanner{BMDMDP,Array{Int64,1},Array{Int64,1},MCTS.SolvedRolloutEstimator{RandomPolicy{MersenneTwister,BMDMDP,BeliefUpdaters.NothingUpdater},MersenneTwister},MersenneTwister}, ::Array{Int64,1}) at /Users/jamesmyerson/.julia/packages/MCTS/b8QUV/src/vanilla.jl:258",
      " [5] plan! at /Users/jamesmyerson/.julia/packages/MCTS/b8QUV/src/vanilla.jl:234 [inlined]",
      " [6] action(::MCTSPlanner{BMDMDP,Array{Int64,1},Array{Int64,1},MCTS.SolvedRolloutEstimator{RandomPolicy{MersenneTwister,BMDMDP,BeliefUpdaters.NothingUpdater},MersenneTwister},MersenneTwister}, ::Array{Int64,1}) at /Users/jamesmyerson/.julia/packages/MCTS/b8QUV/src/vanilla.jl:191",
      " [7] top-level scope at In[75]:1"
     ],
     "output_type": "error"
    }
   ],
   "source": [
    "a=action(policy,state0)"
   ]
  },
  {
   "cell_type": "code",
   "execution_count": 0,
   "metadata": {
    "id": "znrDzFeG6wGg",
    "colab_type": "code",
    "colab": {}
   },
   "outputs": [],
   "source": [
    "using D3Trees\n",
    "\n",
    "#UNCOMMENT TO RUN !\n",
    "#D3Tree(policy,state0,init_expand=min(10,depth))"
   ]
  },
  {
   "cell_type": "markdown",
   "metadata": {
    "id": "ZmxeEjMR6wGl",
    "colab_type": "text"
   },
   "source": [
    "# Evaluating the poor strategy\n",
    "\n",
    "Shoots with probability 1/3\n",
    "When does shoot shoots only one missile, at a random target, which is of type 1 with pbty 0.95"
   ]
  },
  {
   "cell_type": "code",
   "execution_count": 0,
   "metadata": {
    "id": "HMAw-aEs6wGl",
    "colab_type": "code",
    "colab": {},
    "outputId": "5b7d842f-35f2-48b9-bc9b-7ca063c367f5"
   },
   "outputs": [
    {
     "data": {
      "text/plain": [
       "poor (generic function with 1 method)"
      ]
     },
     "execution_count": 77,
     "metadata": {
      "tags": []
     },
     "output_type": "execute_result"
    }
   ],
   "source": [
    "function poor(rng::AbstractRNG,time::Int)\n",
    "    pshoot=rand(rng)\n",
    "    pdumb=rand(rng)\n",
    "    if pshoot<1/3 && time<=20\n",
    "        type=1\n",
    "        time=8\n",
    "        if pdumb>=0.95\n",
    "            type=2\n",
    "            time=10\n",
    "        end\n",
    "        tgt=trunc(Int,4*rand(rng))+1\n",
    "        return([time],[tgt],[type])\n",
    "    end\n",
    "    return([],[],[])\n",
    "end"
   ]
  },
  {
   "cell_type": "code",
   "execution_count": 0,
   "metadata": {
    "id": "-lRH_Qqy6wGr",
    "colab_type": "code",
    "colab": {},
    "outputId": "108a00fc-4b93-4599-9760-e4fdbcaea9cf"
   },
   "outputs": [
    {
     "name": "stdout",
     "output_type": "stream",
     "text": [
      "Step: 1\n",
      "No action taken\n",
      "Step: 2\n",
      "No action taken\n",
      "Step: 3\n",
      "No action taken\n",
      "Step: 4\n",
      "No action taken\n",
      "Step: 5\n",
      "Incoming missile of type 1 aimed at target 1 and 8 steps away \n",
      "No action taken\n",
      "Step: 6\n",
      "Incoming missile of type 1 aimed at target 1 and 7 steps away \n",
      "No action taken\n",
      "Step: 7\n",
      "Incoming missile of type 1 aimed at target 1 and 6 steps away \n",
      "No action taken\n",
      "Step: 8\n",
      "Incoming missile of type 1 aimed at target 1 and 8 steps away \n",
      "Incoming missile of type 1 aimed at target 1 and 5 steps away \n",
      "No action taken\n",
      "Step: 9\n",
      "Incoming missile of type 1 aimed at target 1 and 7 steps away \n",
      "Incoming missile of type 1 aimed at target 1 and 4 steps away \n",
      "No action taken\n",
      "Step: 10\n",
      "Incoming missile of type 1 aimed at target 2 and 8 steps away \n",
      "Incoming missile of type 1 aimed at target 1 and 6 steps away \n",
      "Incoming missile of type 1 aimed at target 1 and 3 steps away \n",
      "No action taken\n",
      "Step: 11\n",
      "Incoming missile of type 1 aimed at target 2 and 7 steps away \n",
      "Incoming missile of type 1 aimed at target 1 and 5 steps away \n",
      "Incoming missile of type 1 aimed at target 1 and 2 steps away \n",
      "No action taken\n",
      "Step: 12\n",
      "Incoming missile of type 1 aimed at target 2 and 6 steps away \n",
      "Incoming missile of type 1 aimed at target 1 and 4 steps away \n",
      "Incoming missile of type 1 aimed at target 1 and 1 steps away \n",
      "No action taken\n",
      "Step: 13\n",
      "Incoming missile of type 1 aimed at target 2 and 5 steps away \n",
      "Incoming missile of type 1 aimed at target 1 and 3 steps away \n",
      "No action taken\n",
      "Step: 14\n",
      "Incoming missile of type 1 aimed at target 2 and 8 steps away \n",
      "Incoming missile of type 1 aimed at target 2 and 4 steps away \n",
      "Incoming missile of type 1 aimed at target 1 and 2 steps away \n",
      "No action taken\n",
      "Step: 15\n",
      "Incoming missile of type 1 aimed at target 2 and 8 steps away \n",
      "Incoming missile of type 1 aimed at target 2 and 7 steps away \n",
      "Incoming missile of type 1 aimed at target 2 and 3 steps away \n",
      "Incoming missile of type 1 aimed at target 1 and 1 steps away \n",
      "No action taken\n",
      "Target 1 was hit by missile(s) of type [1], loss of 5 health points \n",
      "Step: 16\n",
      "Incoming missile of type 1 aimed at target 2 and 7 steps away \n",
      "Incoming missile of type 1 aimed at target 2 and 6 steps away \n",
      "Incoming missile of type 1 aimed at target 2 and 2 steps away \n",
      "No action taken\n",
      "Step: 17\n",
      "Incoming missile of type 1 aimed at target 3 and 8 steps away \n",
      "Incoming missile of type 1 aimed at target 2 and 6 steps away \n",
      "Incoming missile of type 1 aimed at target 2 and 5 steps away \n",
      "Incoming missile of type 1 aimed at target 2 and 1 steps away \n",
      "No action taken\n",
      "Step: 18\n",
      "Incoming missile of type 1 aimed at target 1 and 8 steps away \n",
      "Incoming missile of type 1 aimed at target 3 and 7 steps away \n",
      "Incoming missile of type 1 aimed at target 2 and 5 steps away \n",
      "Incoming missile of type 1 aimed at target 2 and 4 steps away \n",
      "No action taken\n",
      "Step: 19\n",
      "Incoming missile of type 1 aimed at target 1 and 7 steps away \n",
      "Incoming missile of type 1 aimed at target 3 and 6 steps away \n",
      "Incoming missile of type 1 aimed at target 2 and 4 steps away \n",
      "Incoming missile of type 1 aimed at target 2 and 3 steps away \n",
      "No action taken\n",
      "Step: 20\n",
      "Incoming missile of type 1 aimed at target 1 and 6 steps away \n",
      "Incoming missile of type 1 aimed at target 3 and 5 steps away \n",
      "Incoming missile of type 1 aimed at target 2 and 3 steps away \n",
      "Incoming missile of type 1 aimed at target 2 and 2 steps away \n",
      "No action taken\n",
      "Step: 21\n",
      "Incoming missile of type 1 aimed at target 4 and 8 steps away \n",
      "Incoming missile of type 1 aimed at target 1 and 5 steps away \n",
      "Incoming missile of type 1 aimed at target 3 and 4 steps away \n",
      "Incoming missile of type 1 aimed at target 2 and 2 steps away \n",
      "Incoming missile of type 1 aimed at target 2 and 1 steps away \n",
      "No action taken\n",
      "Step: 22\n",
      "Incoming missile of type 1 aimed at target 4 and 7 steps away \n",
      "Incoming missile of type 1 aimed at target 1 and 4 steps away \n",
      "Incoming missile of type 1 aimed at target 3 and 3 steps away \n",
      "Incoming missile of type 1 aimed at target 2 and 1 steps away \n",
      "No action taken\n",
      "Step: 23\n",
      "Incoming missile of type 1 aimed at target 4 and 6 steps away \n",
      "Incoming missile of type 1 aimed at target 1 and 3 steps away \n",
      "Incoming missile of type 1 aimed at target 3 and 2 steps away \n",
      "No action taken\n",
      "Step: 24\n",
      "Incoming missile of type 1 aimed at target 4 and 5 steps away \n",
      "Incoming missile of type 1 aimed at target 1 and 2 steps away \n",
      "Incoming missile of type 1 aimed at target 3 and 1 steps away \n",
      "No action taken\n",
      "Step: 25\n",
      "Incoming missile of type 1 aimed at target 4 and 4 steps away \n",
      "Incoming missile of type 1 aimed at target 1 and 1 steps away \n",
      "No action taken\n",
      "Target 1 was hit by missile(s) of type [1], loss of 5 health points \n",
      "Step: 26\n",
      "Incoming missile of type 1 aimed at target 4 and 3 steps away \n",
      "No action taken\n",
      "Step: 27\n",
      "Incoming missile of type 1 aimed at target 4 and 2 steps away \n",
      "No action taken\n",
      "Step: 28\n",
      "Incoming missile of type 1 aimed at target 4 and 1 steps away \n",
      "No action taken\n",
      "Step: 29\n",
      "No action taken\n",
      "Step: 30\n",
      "No action taken\n",
      "Step: 31\n",
      "No action taken\n",
      "Step: 32\n",
      "No action taken\n",
      "-100.0"
     ]
    }
   ],
   "source": [
    "function enemystrategyMDP(rng::AbstractRNG,time::Int)\n",
    "    return(poor(rng,time))\n",
    "end\n",
    "\n",
    "mdp = BMDMDP()\n",
    "\n",
    "# policy that maps every input to no action\n",
    "policy = FunctionPolicy(o->action0)\n",
    "\n",
    "r_total=0.0\n",
    "d=1.0\n",
    "rng=MersenneTwister(1234)\n",
    "s=copy(state0)\n",
    "depth=32\n",
    "nmidzero=[]\n",
    "nterzero=[]\n",
    "rzero=[]\n",
    "midfiredzero=[[0,0,0,0],[0,0,0,0]]\n",
    "ter1firedzero=[[0,0,0,0],[0,0,0,0]]\n",
    "ter2firedzero=[[0,0,0,0],[0,0,0,0]]\n",
    "countmidfiredzero=[[0,0,0,0],[0,0,0,0]]\n",
    "countter1firedzero=[[0,0,0,0],[0,0,0,0]]\n",
    "countter2firedzero=[[0,0,0,0],[0,0,0,0]]\n",
    "\n",
    "for i in 1:depth\n",
    "    \n",
    "    print(\"Step: \",i,\"\\n\")\n",
    "    if sum(s[k]!=-1 for k in 3*(nmid+nter)+ntargets+1:3*(nmid+nter)+ntargets+ntrack)!=0\n",
    "        indx=0\n",
    "        while s[3*(nmid+nter)+ntargets+1+indx]>0\n",
    "            print(\"Incoming missile of type \",s[3*(nmid+nter)+ntargets+1+indx+2*ntrack],\" aimed at target \",s[3*(nmid+nter)+ntargets+1+indx+ntrack] ,\" and \",s[3*(nmid+nter)+ntargets+1+indx],\" steps away \\n\")\n",
    "            indx+=1\n",
    "        end\n",
    "    end\n",
    "    a=action(policy,s)\n",
    "    nmidhere=sum(a[s] for s in 1:nmid*ntrack)\n",
    "    nterhere=sum(a[s] for s in 1+nmid*ntrack:nmid*ntrack+nter*ntrack)\n",
    "    push!(nmidzero,nmidhere)\n",
    "    push!(nterzero,nterhere)\n",
    "    sp,r=generate_sr(mdp,s,a,rng)\n",
    "    midfired2,ter1fired2,ter2fired2,countmidfired2,countter1fired2,countter2fired2=collect_state(s,a,sp,midfiredzero,ter1firedzero,ter2firedzero,countmidfiredzero,countter1firedzero,countter2firedzero)\n",
    "    midfiredzero=copy(midfired2)\n",
    "    ter1firedzero=copy(ter1fired2)\n",
    "    ter2firedzero=copy(ter2fired2)\n",
    "    countmidfiredzero=copy(countmidfired2)\n",
    "    countter1firedzero=copy(countter1fired2)\n",
    "    countter2firedzero=copy(countter2fired2)\n",
    "    s=copy(sp)\n",
    "    r_total+=d*r\n",
    "    push!(rzero,r)\n",
    "    d*=discount(mdp)\n",
    "end\n",
    "print(r_total)"
   ]
  },
  {
   "cell_type": "code",
   "execution_count": 0,
   "metadata": {
    "id": "a869T1rn6wGx",
    "colab_type": "code",
    "colab": {},
    "outputId": "23b70531-f783-4de8-be4a-b06553cda239"
   },
   "outputs": [
    {
     "name": "stdout",
     "output_type": "stream",
     "text": [
      "Step: 1\n",
      "No action taken\n",
      "Step: 2\n",
      "No action taken\n",
      "Step: 3\n",
      "No action taken\n",
      "Step: 4\n",
      "No action taken\n",
      "Step: 5\n",
      "Incoming missile of type 1 aimed at target 1 and 8 steps away \n",
      "No action taken\n",
      "Step: 6\n",
      "Incoming missile of type 1 aimed at target 1 and 7 steps away \n",
      "No action taken\n",
      "Step: 7\n",
      "Incoming missile of type 1 aimed at target 1 and 6 steps away \n",
      "No action taken\n",
      "Step: 8\n",
      "Incoming missile of type 1 aimed at target 1 and 8 steps away \n",
      "Incoming missile of type 1 aimed at target 1 and 5 steps away \n",
      "No action taken\n",
      "Step: 9\n",
      "Incoming missile of type 1 aimed at target 1 and 7 steps away \n",
      "Incoming missile of type 1 aimed at target 1 and 4 steps away \n",
      "No action taken\n",
      "Step: 10\n",
      "Incoming missile of type 1 aimed at target 1 and 8 steps away \n",
      "Incoming missile of type 1 aimed at target 1 and 6 steps away \n",
      "Incoming missile of type 1 aimed at target 1 and 3 steps away \n",
      "No action taken\n",
      "Step: 11\n",
      "Incoming missile of type 1 aimed at target 3 and 8 steps away \n",
      "Incoming missile of type 1 aimed at target 1 and 7 steps away \n",
      "Incoming missile of type 1 aimed at target 1 and 5 steps away \n",
      "Incoming missile of type 1 aimed at target 1 and 2 steps away \n",
      "Launch from 1st terminal launcher: [2] missile(s) launched at missile(s) of type [1] aiming at target(s) [1]\n",
      "You destroyed an ennemy missile of type 1 \n",
      "Step: 12\n",
      "Incoming missile of type 1 aimed at target 3 and 7 steps away \n",
      "Incoming missile of type 1 aimed at target 1 and 6 steps away \n",
      "Incoming missile of type 1 aimed at target 1 and 4 steps away \n",
      "No action taken\n",
      "Reload occurred (terminal 1) \n",
      "Step: 13\n",
      "Incoming missile of type 1 aimed at target 3 and 6 steps away \n",
      "Incoming missile of type 1 aimed at target 1 and 5 steps away \n",
      "Incoming missile of type 1 aimed at target 1 and 3 steps away \n",
      "No action taken\n",
      "Step: 14\n",
      "Incoming missile of type 1 aimed at target 4 and 8 steps away \n",
      "Incoming missile of type 1 aimed at target 3 and 5 steps away \n",
      "Incoming missile of type 1 aimed at target 1 and 4 steps away \n",
      "Incoming missile of type 1 aimed at target 1 and 2 steps away \n",
      "Launch from 1st terminal launcher: [2] missile(s) launched at missile(s) of type [1] aiming at target(s) [1]\n",
      "You destroyed an ennemy missile of type 1 \n",
      "Step: 15\n",
      "Incoming missile of type 1 aimed at target 3 and 8 steps away \n",
      "Incoming missile of type 1 aimed at target 4 and 7 steps away \n",
      "Incoming missile of type 1 aimed at target 3 and 4 steps away \n",
      "Incoming missile of type 1 aimed at target 1 and 3 steps away \n",
      "No action taken\n",
      "Reload occurred (terminal 1) \n",
      "Step: 16\n",
      "Incoming missile of type 1 aimed at target 3 and 7 steps away \n",
      "Incoming missile of type 1 aimed at target 4 and 6 steps away \n",
      "Incoming missile of type 1 aimed at target 3 and 3 steps away \n",
      "Incoming missile of type 1 aimed at target 1 and 2 steps away \n",
      "Launch from 1st terminal launcher: [2] missile(s) launched at missile(s) of type [1] aiming at target(s) [1]\n",
      "You destroyed an ennemy missile of type 1 \n",
      "Step: 17\n",
      "Incoming missile of type 1 aimed at target 3 and 8 steps away \n",
      "Incoming missile of type 1 aimed at target 3 and 6 steps away \n",
      "Incoming missile of type 1 aimed at target 4 and 5 steps away \n",
      "Incoming missile of type 1 aimed at target 3 and 2 steps away \n",
      "Launch from 1st terminal launcher: [2] missile(s) launched at missile(s) of type [1] aiming at target(s) [3]\n",
      "You destroyed an ennemy missile of type 1 \n",
      "Step: 18\n",
      "Incoming missile of type 1 aimed at target 2 and 8 steps away \n",
      "Incoming missile of type 1 aimed at target 3 and 7 steps away \n",
      "Incoming missile of type 1 aimed at target 3 and 5 steps away \n",
      "Incoming missile of type 1 aimed at target 4 and 4 steps away \n",
      "No action taken\n",
      "Reload occurred (terminal 1) \n",
      "Step: 19\n",
      "Incoming missile of type 1 aimed at target 2 and 7 steps away \n",
      "Incoming missile of type 1 aimed at target 3 and 6 steps away \n",
      "Incoming missile of type 1 aimed at target 3 and 4 steps away \n",
      "Incoming missile of type 1 aimed at target 4 and 3 steps away \n",
      "No action taken\n",
      "Step: 20\n",
      "Incoming missile of type 1 aimed at target 2 and 6 steps away \n",
      "Incoming missile of type 1 aimed at target 3 and 5 steps away \n",
      "Incoming missile of type 1 aimed at target 3 and 3 steps away \n",
      "Incoming missile of type 1 aimed at target 4 and 2 steps away \n",
      "Launch from 1st terminal launcher: [2] missile(s) launched at missile(s) of type [1] aiming at target(s) [4]\n",
      "You destroyed an ennemy missile of type 1 \n",
      "Step: 21\n",
      "Incoming missile of type 1 aimed at target 2 and 5 steps away \n",
      "Incoming missile of type 1 aimed at target 3 and 4 steps away \n",
      "Incoming missile of type 1 aimed at target 3 and 2 steps away \n",
      "Launch from 1st terminal launcher: [2] missile(s) launched at missile(s) of type [1] aiming at target(s) [3]\n",
      "You destroyed an ennemy missile of type 1 \n",
      "Step: 22\n",
      "Incoming missile of type 1 aimed at target 2 and 4 steps away \n",
      "Incoming missile of type 1 aimed at target 3 and 3 steps away \n",
      "No action taken\n",
      "Step: 23\n",
      "Incoming missile of type 1 aimed at target 2 and 3 steps away \n",
      "Incoming missile of type 1 aimed at target 3 and 2 steps away \n",
      "Launch from 1st terminal launcher: [2] missile(s) launched at missile(s) of type [1] aiming at target(s) [3]\n",
      "You destroyed an ennemy missile of type 1 \n",
      "Step: 24\n",
      "Incoming missile of type 1 aimed at target 2 and 2 steps away \n",
      "Launch from 1st terminal launcher: [2] missile(s) launched at missile(s) of type [1] aiming at target(s) [2]\n",
      "You destroyed an ennemy missile of type 1 \n",
      "Step: 25\n",
      "No action taken\n",
      "Step: 26\n",
      "No action taken\n",
      "Step: 27\n",
      "No action taken\n",
      "Step: 28\n",
      "No action taken\n",
      "Step: 29\n",
      "No action taken\n",
      "Step: 30\n",
      "No action taken\n",
      "Step: 31\n",
      "No action taken\n",
      "Step: 32\n",
      "No action taken\n",
      "-0.135"
     ]
    }
   ],
   "source": [
    "function enemystrategyMDP(rng::AbstractRNG,time::Int)\n",
    "    return(poor(rng,time))\n",
    "end\n",
    "\n",
    "mdp = BMDMDP()\n",
    "\n",
    "r_total=0.0\n",
    "d=1.0\n",
    "rng=MersenneTwister(1234)\n",
    "s=copy(state0)\n",
    "depth=32\n",
    "nmidbase=[]\n",
    "nterbase=[]\n",
    "rbase=[]\n",
    "midfiredbase=[[0,0,0,0],[0,0,0,0]]\n",
    "ter1firedbase=[[0,0,0,0],[0,0,0,0]]\n",
    "ter2firedbase=[[0,0,0,0],[0,0,0,0]]\n",
    "countmidfiredbase=[[0,0,0,0],[0,0,0,0]]\n",
    "countter1firedbase=[[0,0,0,0],[0,0,0,0]]\n",
    "countter2firedbase=[[0,0,0,0],[0,0,0,0]]\n",
    "\n",
    "for i in 1:depth\n",
    "    print(\"Step: \",i,\"\\n\")\n",
    "    if sum(s[k]!=-1 for k in 3*(nmid+nter)+ntargets+1:3*(nmid+nter)+ntargets+ntrack)!=0\n",
    "        indx=0\n",
    "        while s[3*(nmid+nter)+ntargets+1+indx]>0\n",
    "            print(\"Incoming missile of type \",s[3*(nmid+nter)+ntargets+1+indx+2*ntrack],\" aimed at target \",s[3*(nmid+nter)+ntargets+1+indx+ntrack] ,\" and \",s[3*(nmid+nter)+ntargets+1+indx],\" steps away \\n\")\n",
    "            indx+=1\n",
    "        end\n",
    "    end\n",
    "    a=baseline(s)\n",
    "    nmidhere=sum(a[s] for s in 1:nmid*ntrack)\n",
    "    nterhere=sum(a[s] for s in 1+nmid*ntrack:nmid*ntrack+nter*ntrack)\n",
    "    push!(nmidbase,nmidhere)\n",
    "    push!(nterbase,nterhere)\n",
    "    sp,r=generate_sr(mdp,s,a,rng)\n",
    "    midfired2,ter1fired2,ter2fired2,countmidfired2,countter1fired2,countter2fired2=collect_state(s,a,sp,midfiredbase,ter1firedbase,ter2firedbase,countmidfiredbase,countter1firedbase,countter2firedbase)\n",
    "    midfiredbase=copy(midfired2)\n",
    "    ter1firedbase=copy(ter1fired2)\n",
    "    ter2firedbase=copy(ter2fired2)\n",
    "    countmidfiredbase=copy(countmidfired2)\n",
    "    countter1firedbase=copy(countter1fired2)\n",
    "    countter2firedbase=copy(countter2fired2)\n",
    "    s=copy(sp)\n",
    "    r_total+=d*r\n",
    "    push!(rbase,r)\n",
    "    d*=discount(mdp)\n",
    "end\n",
    "print(r_total)"
   ]
  },
  {
   "cell_type": "code",
   "execution_count": 0,
   "metadata": {
    "id": "25pp2Aym6wGz",
    "colab_type": "code",
    "colab": {},
    "outputId": "a1729954-5469-445a-c9b0-5f0cdd93e152"
   },
   "outputs": [
    {
     "name": "stdout",
     "output_type": "stream",
     "text": [
      "Step: 1\n",
      "No action taken\n",
      "Step: 2\n",
      "No action taken\n",
      "Step: 3\n",
      "No action taken\n",
      "Step: 4\n",
      "No action taken\n",
      "Step: 5\n",
      "Incoming missile of type 1 aimed at target 1 and 8 steps away \n",
      "No action taken\n",
      "Step: 6\n",
      "Incoming missile of type 1 aimed at target 1 and 7 steps away \n",
      "No action taken\n",
      "Step: 7\n",
      "Incoming missile of type 1 aimed at target 1 and 6 steps away \n",
      "No action taken\n",
      "Step: 8\n",
      "Incoming missile of type 1 aimed at target 1 and 8 steps away \n",
      "Incoming missile of type 1 aimed at target 1 and 5 steps away \n",
      "No action taken\n",
      "Step: 9\n",
      "Incoming missile of type 1 aimed at target 1 and 7 steps away \n",
      "Incoming missile of type 1 aimed at target 1 and 4 steps away \n",
      "No action taken\n",
      "Step: 10\n",
      "Incoming missile of type 1 aimed at target 2 and 8 steps away \n",
      "Incoming missile of type 1 aimed at target 1 and 6 steps away \n",
      "Incoming missile of type 1 aimed at target 1 and 3 steps away \n",
      "No action taken\n",
      "Step: 11\n",
      "Incoming missile of type 1 aimed at target 2 and 7 steps away \n",
      "Incoming missile of type 1 aimed at target 1 and 5 steps away \n",
      "Incoming missile of type 1 aimed at target 1 and 2 steps away \n",
      "Launch from 1st terminal launcher: [3] missile(s) launched at missile(s) of type [1] aiming at target(s) [1]\n",
      "Launch from 2nd terminal launcher: [2] missile(s) launched at missile(s) of type [1] aiming at target(s) [1]\n",
      "You destroyed an ennemy missile of type 1 \n",
      "Step: 12\n",
      "Incoming missile of type 1 aimed at target 2 and 6 steps away \n",
      "Incoming missile of type 1 aimed at target 1 and 4 steps away \n",
      "No action taken\n",
      "Reload occurred (terminal 1) \n",
      "Reload occurred (terminal 2) \n",
      "Step: 13\n",
      "Incoming missile of type 1 aimed at target 2 and 8 steps away \n",
      "Incoming missile of type 1 aimed at target 2 and 5 steps away \n",
      "Incoming missile of type 1 aimed at target 1 and 3 steps away \n",
      "No action taken\n",
      "Step: 14\n",
      "Incoming missile of type 1 aimed at target 2 and 8 steps away \n",
      "Incoming missile of type 1 aimed at target 2 and 7 steps away \n",
      "Incoming missile of type 1 aimed at target 2 and 4 steps away \n",
      "Incoming missile of type 1 aimed at target 1 and 2 steps away \n",
      "Launch from 1st terminal launcher: [4] missile(s) launched at missile(s) of type [1] aiming at target(s) [1]\n",
      "Launch from 2nd terminal launcher: [1] missile(s) launched at missile(s) of type [1] aiming at target(s) [1]\n",
      "You destroyed an ennemy missile of type 1 \n",
      "Step: 15\n",
      "Incoming missile of type 1 aimed at target 2 and 7 steps away \n",
      "Incoming missile of type 1 aimed at target 2 and 6 steps away \n",
      "Incoming missile of type 1 aimed at target 2 and 3 steps away \n",
      "No action taken\n",
      "Reload occurred (terminal 1) \n",
      "Reload occurred (terminal 2) \n",
      "Step: 16\n",
      "Incoming missile of type 1 aimed at target 2 and 6 steps away \n",
      "Incoming missile of type 1 aimed at target 2 and 5 steps away \n",
      "Incoming missile of type 1 aimed at target 2 and 2 steps away \n",
      "Launch from 1st terminal launcher: [1] missile(s) launched at missile(s) of type [1] aiming at target(s) [2]\n",
      "Launch from 2nd terminal launcher: [1] missile(s) launched at missile(s) of type [1] aiming at target(s) [2]\n",
      "You destroyed an ennemy missile of type 1 \n",
      "Step: 17\n",
      "Incoming missile of type 1 aimed at target 2 and 5 steps away \n",
      "Incoming missile of type 1 aimed at target 2 and 4 steps away \n",
      "No action taken\n",
      "Reload occurred (terminal 1) \n",
      "Reload occurred (terminal 2) \n",
      "Step: 18\n",
      "Incoming missile of type 1 aimed at target 2 and 4 steps away \n",
      "Incoming missile of type 1 aimed at target 2 and 3 steps away \n",
      "No action taken\n",
      "Step: 19\n",
      "Incoming missile of type 1 aimed at target 2 and 3 steps away \n",
      "Incoming missile of type 1 aimed at target 2 and 2 steps away \n",
      "Launch from 1st terminal launcher: [2] missile(s) launched at missile(s) of type [1] aiming at target(s) [2]\n",
      "Launch from 2nd terminal launcher: [3] missile(s) launched at missile(s) of type [1] aiming at target(s) [2]\n",
      "You destroyed an ennemy missile of type 1 \n",
      "Step: 20\n",
      "Incoming missile of type 1 aimed at target 4 and 8 steps away \n",
      "Incoming missile of type 1 aimed at target 2 and 2 steps away \n",
      "Launch from 1st terminal launcher: [2] missile(s) launched at missile(s) of type [1] aiming at target(s) [2]\n",
      "Launch from 2nd terminal launcher: [1] missile(s) launched at missile(s) of type [1] aiming at target(s) [2]\n",
      "You destroyed an ennemy missile of type 1 \n",
      "Step: 21\n",
      "Incoming missile of type 1 aimed at target 4 and 7 steps away \n",
      "No action taken\n",
      "Reload occurred (terminal 2) \n",
      "Step: 22\n",
      "Incoming missile of type 1 aimed at target 4 and 6 steps away \n",
      "No action taken\n",
      "Step: 23\n",
      "Incoming missile of type 1 aimed at target 4 and 5 steps away \n",
      "No action taken\n",
      "Step: 24\n",
      "Incoming missile of type 1 aimed at target 4 and 4 steps away \n",
      "No action taken\n",
      "Step: 25\n",
      "Incoming missile of type 1 aimed at target 4 and 3 steps away \n",
      "No action taken\n",
      "Step: 26\n",
      "Incoming missile of type 1 aimed at target 4 and 2 steps away \n",
      "Launch from 1st terminal launcher: [2] missile(s) launched at missile(s) of type [1] aiming at target(s) [4]\n",
      "You destroyed an ennemy missile of type 1 \n",
      "Step: 27\n",
      "No action taken\n",
      "Step: 28\n",
      "No action taken\n",
      "Step: 29\n",
      "No action taken\n",
      "Step: 30\n",
      "No action taken\n",
      "Step: 31\n",
      "No action taken\n",
      "Step: 32\n",
      "No action taken\n",
      "-0.195"
     ]
    }
   ],
   "source": [
    "function enemystrategyMDP(rng::AbstractRNG,time::Int)\n",
    "    return(poor(rng,time))\n",
    "end\n",
    "\n",
    "mdp = BMDMDP()\n",
    "\n",
    "r_total=0.0\n",
    "d=1.0\n",
    "rng=MersenneTwister(1234)\n",
    "s=copy(state0)\n",
    "depth=32\n",
    "nmidmcts=[]\n",
    "ntermcts=[]\n",
    "rmcts=[]\n",
    "midfiredmcts=[[0,0,0,0],[0,0,0,0]]\n",
    "ter1firedmcts=[[0,0,0,0],[0,0,0,0]]\n",
    "ter2firedmcts=[[0,0,0,0],[0,0,0,0]]\n",
    "countmidfiredmcts=[[0,0,0,0],[0,0,0,0]]\n",
    "countter1firedmcts=[[0,0,0,0],[0,0,0,0]]\n",
    "countter2firedmcts=[[0,0,0,0],[0,0,0,0]]\n",
    "\n",
    "for i in 1:depth\n",
    "    print(\"Step: \",i,\"\\n\")\n",
    "    if sum(s[k]!=-1 for k in 3*(nmid+nter)+ntargets+1:3*(nmid+nter)+ntargets+ntrack)!=0\n",
    "        indx=0\n",
    "        while s[3*(nmid+nter)+ntargets+1+indx]>0\n",
    "            print(\"Incoming missile of type \",s[3*(nmid+nter)+ntargets+1+indx+2*ntrack],\" aimed at target \",s[3*(nmid+nter)+ntargets+1+indx+ntrack] ,\" and \",s[3*(nmid+nter)+ntargets+1+indx],\" steps away \\n\")\n",
    "            indx+=1\n",
    "        end\n",
    "    end\n",
    "    solver = MCTSSolver(enable_tree_vis=true,n_iterations=500,depth=depth-i,exploration_constant=5.0)\n",
    "    policy=solve(solver,mdp)\n",
    "    a=action(policy,s)\n",
    "    nmidhere=sum(a[s] for s in 1:nmid*ntrack)\n",
    "    nterhere=sum(a[s] for s in 1+nmid*ntrack:nmid*ntrack+nter*ntrack)\n",
    "    push!(nmidmcts,nmidhere)\n",
    "    push!(ntermcts,nterhere)\n",
    "    sp,r=generate_sr(mdp,s,a,rng)\n",
    "    midfired2,ter1fired2,ter2fired2,countmidfired2,countter1fired2,countter2fired2=collect_state(s,a,sp,midfiredmcts,ter1firedmcts,ter2firedmcts,countmidfiredmcts,countter1firedmcts,countter2firedmcts)\n",
    "    midfiredmcts=copy(midfired2)\n",
    "    ter1firedmcts=copy(ter1fired2)\n",
    "    ter2firedmcts=copy(ter2fired2)\n",
    "    countmidfiredmcts=copy(countmidfired2)\n",
    "    countter1firedmcts=copy(countter1fired2)\n",
    "    countter2firedmcts=copy(countter2fired2)\n",
    "    s=copy(sp)\n",
    "    push!(rmcts,r)\n",
    "    r_total+=d*r\n",
    "    d*=discount(mdp)\n",
    "end\n",
    "print(r_total)"
   ]
  },
  {
   "cell_type": "code",
   "execution_count": 0,
   "metadata": {
    "id": "3ukDv2vJ6wG1",
    "colab_type": "code",
    "colab": {},
    "outputId": "28db407a-f69d-42b9-943f-79e0852e1d29"
   },
   "outputs": [
    {
     "data": {
      "image/png": "[encoded data removed]",
      "text/plain": [
       "Figure(PyObject <Figure size 640x480 with 1 Axes>)"
      ]
     },
     "metadata": {
      "tags": []
     },
     "output_type": "display_data"
    }
   ],
   "source": [
    "PyPlot.plot(nmidmcts,\"r-\",label=\"MCTS\")\n",
    "PyPlot.plot(nmidbase,\"b-\",label=\"Baseline\")\n",
    "PyPlot.plot(nmidzero,\"g-\",label=\"No action\")\n",
    "PyPlot.legend()\n",
    "PyPlot.title(\"Midcourse missiles fired over time\")\n",
    "PyPlot.ylabel(\"Mid-course fired\")\n",
    "PyPlot.xlabel(\"Step\")\n",
    "PyPlot.show()"
   ]
  },
  {
   "cell_type": "code",
   "execution_count": 0,
   "metadata": {
    "id": "3Y-xH5Lv6wG3",
    "colab_type": "code",
    "colab": {},
    "outputId": "e3d5106c-3e68-469b-a8b2-4336430ca9dd"
   },
   "outputs": [
    {
     "data": {
      "image/png": "[encoded data removed]",
      "text/plain": [
       "Figure(PyObject <Figure size 640x480 with 1 Axes>)"
      ]
     },
     "metadata": {
      "tags": []
     },
     "output_type": "display_data"
    }
   ],
   "source": [
    "PyPlot.plot(ntermcts,\"r-\",label=\"MCTS\")\n",
    "PyPlot.plot(nterbase,\"b-\",label=\"Baseline\")\n",
    "PyPlot.plot(nterzero,\"g-\",label=\"No action\")\n",
    "PyPlot.legend()\n",
    "PyPlot.title(\"Terminal missiles fired over time\")\n",
    "PyPlot.ylabel(\"Terminal fired\")\n",
    "PyPlot.xlabel(\"Step\")\n",
    "PyPlot.show()"
   ]
  },
  {
   "cell_type": "code",
   "execution_count": 0,
   "metadata": {
    "id": "BT1X3LRi6wG7",
    "colab_type": "code",
    "colab": {},
    "outputId": "8543f257-88fc-4088-ca54-5833ba0af156"
   },
   "outputs": [
    {
     "data": {
      "image/png": "[encoded data removed]",
      "text/plain": [
       "Figure(PyObject <Figure size 640x480 with 1 Axes>)"
      ]
     },
     "metadata": {
      "tags": []
     },
     "output_type": "display_data"
    }
   ],
   "source": [
    "PyPlot.plot(rmcts,\"r-\",label=\"MCTS\")\n",
    "PyPlot.plot(rbase,\"b-\",label=\"Baseline\")\n",
    "PyPlot.plot(rzero,\"g-\",label=\"No action\")\n",
    "PyPlot.legend()\n",
    "PyPlot.title(\"Rewards observed over time\")\n",
    "PyPlot.ylabel(\"Immediate reward observed\")\n",
    "PyPlot.xlabel(\"Step\")\n",
    "PyPlot.show()"
   ]
  },
  {
   "cell_type": "code",
   "execution_count": 0,
   "metadata": {
    "id": "rw4U1wTo6wG-",
    "colab_type": "code",
    "colab": {},
    "outputId": "20dc0fb5-f9ec-4734-8dab-8c088f86f451"
   },
   "outputs": [
    {
     "data": {
      "image/png": "[encoded data removed]",
      "text/plain": [
       "Figure(PyObject <Figure size 640x480 with 1 Axes>)"
      ]
     },
     "metadata": {
      "tags": []
     },
     "output_type": "display_data"
    }
   ],
   "source": [
    "avgmidfiredmcts=[[0.0,0.0,0.0,0.0],[0.0,0.0,0.0,0.0]]\n",
    "avgter1firedmcts=[[0.0,0.0,0.0,0.0],[0.0,0.0,0.0,0.0]]\n",
    "avgter2firedmcts=[[0.0,0.0,0.0,0.0],[0.0,0.0,0.0,0.0]]\n",
    "avgmidfiredzero=[[0.0,0,0,0],[0,0,0,0]]\n",
    "avgterfiredzero=[[0.0,0,0,0],[0,0,0,0]]\n",
    "avgter1firedzero=[[0.0,0,0,0],[0,0,0,0]]\n",
    "avgter2firedzero=[[0.0,0,0,0],[0,0,0,0]]\n",
    "avgterfiredbase=[[0.0,0,0,0],[0,0,0,0]]\n",
    "avgmidfiredbase=[[0.0,0,0,0],[0,0,0,0]]\n",
    "avgter1firedbase=[[0.0,0,0,0],[0,0,0,0]]\n",
    "avgter2firedbase=[[0.0,0,0,0],[0,0,0,0]]\n",
    "avgterfiredmcts=[[0.0,0,0,0],[0,0,0,0]]\n",
    "\n",
    "for t in 1:ntargets\n",
    "    for m in 1:ntype\n",
    "        avgmidfiredmcts[m][t]=1*countmidfiredmcts[m][t]/max(1,midfiredmcts[m][t])\n",
    "        avgter1firedmcts[m][t]=1*ter1firedmcts[m][t]/max(1,countter1firedmcts[m][t])\n",
    "        avgter2firedmcts[m][t]=1*ter2firedmcts[m][t]/max(1,countter2firedmcts[m][t])\n",
    "        avgmidfiredzero[m][t]=1*countmidfiredzero[m][t]/max(1,midfiredzero[m][t])\n",
    "        avgter1firedzero[m][t]=1*ter1firedzero[m][t]/max(1,countter1firedzero[m][t])\n",
    "        avgter2firedzero[m][t]=1*ter2firedzero[m][t]/max(1,countter2firedzero[m][t])\n",
    "        avgmidfiredbase[m][t]=1*countmidfiredbase[m][t]/max(1,midfiredbase[m][t])\n",
    "        avgter1firedbase[m][t]=1*ter1firedbase[m][t]/max(1,countter1firedbase[m][t])\n",
    "        avgter2firedbase[m][t]=1*ter2firedbase[m][t]/max(1,countter2firedbase[m][t])\n",
    "    end\n",
    "end\n",
    "        \n",
    "avgterfirebase=0.5*(avgter1firedbase+avgter2firedbase)\n",
    "avgterfiredzero=0.5*(avgter1firedzero+avgter2firedzero)\n",
    "avgterfiredmcts=0.5*(avgter1firedmcts+avgter2firedmcts)\n",
    "\n",
    "barwidth=0.1\n",
    "t=[1,2,3,4]\n",
    "W=[barwidth,barwidth,barwidth,barwidth]\n",
    "\n",
    "PyPlot.bar(x=t,height=avgterfiredmcts[1],color=\"r\",width=barwidth,label=\"type 1, MCTS, ter\")\n",
    "PyPlot.bar(x=t+W,height=avgmidfiredmcts[1],color=\"b\",width=barwidth,label=\"type 1, MCTS, mid\")\n",
    "PyPlot.bar(x=t+2*W,height=avgterfiredmcts[2],color=\"g\",width=barwidth,label=\"type 2, MCTS, ter\")\n",
    "PyPlot.bar(x=t+3*W,height=avgmidfiredmcts[2],width=barwidth,color=\"y\",label=\"type 2, MCTS, mid\")\n",
    "PyPlot.legend()\n",
    "PyPlot.title(\"Missiles fired at each target\")\n",
    "PyPlot.xticks(t+W,t)\n",
    "PyPlot.ylabel(\"Average number of shots\")\n",
    "PyPlot.xlabel(\"Target\")\n",
    "PyPlot.show()"
   ]
  },
  {
   "cell_type": "code",
   "execution_count": 0,
   "metadata": {
    "id": "FolhI2-m6wHA",
    "colab_type": "code",
    "colab": {},
    "outputId": "18c51846-4930-4c16-8b47-3fa3e757b3b6"
   },
   "outputs": [
    {
     "name": "stdout",
     "output_type": "stream",
     "text": [
      "-15.248986813923645-182.02452832728295-51.0-100.0-51.0-1.0-50.0-50.0-15.248986813923645-64.24898681392365-51.0-101.0-114.24898681392365-1.0-1.0-152.0-100.0-82.02452832728295-30.76125097756512-50.0-50.0-202.0-51.0-102.0-1.0-51.0-100.0-14.248986813923645-16.2489868139236440.0-52.0-132.02452832728295-14.248986813923645-50.0-114.24898681392365-52.0-81.02452832728295-33.02452832728295-14.248986813923645-15.248986813923645-1.0-15.248986813923645-152.0-47.503191837669114-1.0-52.0-1.00.0-1.0-51.0-51.0-50.0-100.0-64.24898681392365-51.0-99.88130753561820.0-148.50319183766914-150.0-2.0-50.0-129.7612509775651-2.0-14.2489868139236450.0-2.0-50.0-50.00.0-52.0-2.0-115.24898681392365-150.0-65.24898681392365-66.24898681392365-30.76125097756512-64.24898681392365-114.24898681392365-65.24898681392365-51.0-50.0-65.24898681392365-50.0-165.24898681392364-1.0-15.248986813923645-115.24898681392365-1.00.0-14.248986813923645-65.24898681392365-51.0-81.02452832728295-1.00.0-150.0-51.0-51.0-2.0-102.0"
     ]
    }
   ],
   "source": [
    "function enemystrategyMDP(rng::AbstractRNG,time::Int)\n",
    "    return(poor(rng,time))\n",
    "end\n",
    "\n",
    "mdp = BMDMDP()\n",
    "\n",
    "# policy that maps every input to no action\n",
    "policy = FunctionPolicy(o->action0)\n",
    "\n",
    "rtotalzero=[]\n",
    "d=1.0\n",
    "rng=MersenneTwister(123)\n",
    "depth=32\n",
    "nmidzero=[]\n",
    "nterzero=[]\n",
    "rzero=[]\n",
    "midfiredzero=[[0,0,0,0],[0,0,0,0]]\n",
    "ter1firedzero=[[0,0,0,0],[0,0,0,0]]\n",
    "ter2firedzero=[[0,0,0,0],[0,0,0,0]]\n",
    "countmidfiredzero=[[0,0,0,0],[0,0,0,0]]\n",
    "countter1firedzero=[[0,0,0,0],[0,0,0,0]]\n",
    "countter2firedzero=[[0,0,0,0],[0,0,0,0]]\n",
    "\n",
    "for rep in 1:100\n",
    "    s=copy(state0)\n",
    "    r_total=0.0\n",
    "    for i in 1:depth\n",
    "        a=action(policy,s)\n",
    "        nmidhere=sum(a[s] for s in 1:nmid*ntrack)\n",
    "        nterhere=sum(a[s] for s in 1+nmid*ntrack:nmid*ntrack+nter*ntrack)\n",
    "        push!(nmidzero,nmidhere)\n",
    "        push!(nterzero,nterhere)\n",
    "        sp,r=generate_sr(mdp,s,a,rng)\n",
    "        midfired2,ter1fired2,ter2fired2,countmidfired2,countter1fired2,countter2fired2=collect_state2(s,a,sp,midfiredzero,ter1firedzero,ter2firedzero,countmidfiredzero,countter1firedzero,countter2firedzero)\n",
    "        midfiredzero=copy(midfired2)\n",
    "        ter1firedzero=copy(ter1fired2)\n",
    "        ter2firedzero=copy(ter2fired2)\n",
    "        countmidfiredzero=copy(countmidfired2)\n",
    "        countter1firedzero=copy(countter1fired2)\n",
    "        countter2firedzero=copy(countter2fired2)\n",
    "        s=copy(sp)\n",
    "        r_total+=d*r\n",
    "        push!(rzero,r)\n",
    "        d*=discount(mdp)\n",
    "    end\n",
    "    push!(rtotalzero,r_total)\n",
    "    print(r_total)\n",
    "end"
   ]
  },
  {
   "cell_type": "code",
   "execution_count": 0,
   "metadata": {
    "id": "45snaIGJ6wHC",
    "colab_type": "code",
    "colab": {},
    "outputId": "7fc46102-94ca-4bc2-f695-fa5eb270228c"
   },
   "outputs": [
    {
     "name": "stdout",
     "output_type": "stream",
     "text": [
      "-0.15-0.08-0.1-50.11-0.235-0.095-0.075-50.06-0.115-0.14-0.095-0.16000000000000003-14.378986813923646-0.045-0.13-0.1-0.065-50.20000000000001-1.03-0.125-0.2-14.378986813923646-0.045-100.23-0.095-0.045-1.05-0.075-0.20000000000000007-1.0999999999999996-50.230000000000004-1.1749999999999996-1.35-0.065-50.085-0.095-50.135000000000005-0.09-0.095-0.19000000000000006-0.045-0.205-0.14500000000000002-0.06-0.075-0.05-0.08-0.195-0.13-0.22500000000000003-1.0799999999999998-0.065-0.135-0.16999999999999998-50.095-0.12-0.15500000000000003-1.04-0.14-0.15999999999999998-51.095000000000006-0.135-0.085-0.085-0.255-0.135-0.195-0.075-0.095-0.10500000000000001-0.14-0.11-101.24000000000001-0.09-0.21500000000000002-0.14-64.38898681392365-0.115-1.165-0.075-51.175-0.065-0.22500000000000003-0.075-0.065-0.11-0.10500000000000001-0.30500000000000005-0.075-1.105-1.105-0.08-0.19500000000000006-0.095-0.12000000000000001-50.1-0.16000000000000003-50.120000000000005-0.19-50.11"
     ]
    }
   ],
   "source": [
    "function enemystrategyMDP(rng::AbstractRNG,time::Int)\n",
    "    return(poor(rng,time))\n",
    "end\n",
    "\n",
    "mdp = BMDMDP()\n",
    "\n",
    "rtotalbase=[]\n",
    "d=1.0\n",
    "rng=MersenneTwister(123)\n",
    "depth=30\n",
    "ennemyoffense=20\n",
    "nmidbase=[]\n",
    "nterbase=[]\n",
    "rbase=[]\n",
    "midfiredbase=[[0,0,0,0],[0,0,0,0]]\n",
    "ter1firedbase=[[0,0,0,0],[0,0,0,0]]\n",
    "ter2firedbase=[[0,0,0,0],[0,0,0,0]]\n",
    "countmidfiredbase=[[0,0,0,0],[0,0,0,0]]\n",
    "countter1firedbase=[[0,0,0,0],[0,0,0,0]]\n",
    "countter2firedbase=[[0,0,0,0],[0,0,0,0]]\n",
    "\n",
    "for rep in 1:100\n",
    "    s=copy(state0)\n",
    "    r_total=0.0\n",
    "    for i in 1:depth\n",
    "        a=baseline(s)\n",
    "        nmidhere=sum(a[s] for s in 1:nmid*ntrack)\n",
    "        nterhere=sum(a[s] for s in 1+nmid*ntrack:nmid*ntrack+nter*ntrack)\n",
    "        push!(nmidbase,nmidhere)\n",
    "        push!(nterbase,nterhere)\n",
    "        sp,r=generate_sr(mdp,s,a,rng)\n",
    "        midfired2,ter1fired2,ter2fired2,countmidfired2,countter1fired2,countter2fired2=collect_state2(s,a,sp,midfiredbase,ter1firedbase,ter2firedbase,countmidfiredbase,countter1firedbase,countter2firedbase)\n",
    "        midfiredbase=copy(midfired2)\n",
    "        ter1firedbase=copy(ter1fired2)\n",
    "        ter2firedbase=copy(ter2fired2)\n",
    "        countmidfiredbase=copy(countmidfired2)\n",
    "        countter1firedbase=copy(countter1fired2)\n",
    "        countter2firedbase=copy(countter2fired2)\n",
    "        s=copy(sp)\n",
    "        r_total+=d*r\n",
    "        push!(rbase,r)\n",
    "        d*=discount(mdp)\n",
    "    end\n",
    "    push!(rtotalbase,r_total)\n",
    "    print(r_total)\n",
    "end"
   ]
  },
  {
   "cell_type": "code",
   "execution_count": 0,
   "metadata": {
    "id": "cYLhCpBO6wHD",
    "colab_type": "code",
    "colab": {},
    "outputId": "3514774a-a2b0-4c83-a575-37d2994e1f40"
   },
   "outputs": [
    {
     "name": "stdout",
     "output_type": "stream",
     "text": [
      "-0.175-0.8250000000000002-0.14500000000000002-1.21-0.18500000000000003-0.14500000000000002-0.14-1.135-0.22-0.26-65.46398681392365-0.11-0.11-0.14-0.235-0.22000000000000003-0.5850000000000001-0.275-0.155-0.795-0.29000000000000004-0.21000000000000002-0.27-0.125-0.7700000000000001-0.245-0.16-1.225-0.135-0.255-0.185-0.7000000000000001-0.21000000000000002-0.265-0.20999999999999996-1.515-0.21500000000000002-0.13-0.22500000000000003-0.09-1.1649999999999998-0.6200000000000001-0.105-1.2399999999999995-0.02-0.17-0.29500000000000004-0.23-0.24000000000000002-0.21000000000000002-0.14-0.4900000000000001-0.315-0.155-0.21500000000000002-0.185-51.28-0.18-0.26-100.305-0.16-0.29500000000000004-0.16000000000000003-0.615-0.15500000000000003-2.165-0.26-0.245-0.17500000000000002-0.8-0.115-0.265-1.2249999999999999-0.22999999999999995-1.2850000000000001-0.21-0.135-0.22000000000000003-50.23-0.8400000000000002-0.16499999999999998-0.7050000000000002-0.18-0.08000000000000002-1.285-1.19-0.195-0.5000000000000001-1.3299999999999998-0.08-14.388986813923644-0.13-14.378986813923646-0.245-0.53-0.11-1.2149999999999999-0.185-0.6450000000000001-0.195"
     ]
    }
   ],
   "source": [
    "function enemystrategyMDP(rng::AbstractRNG,time::Int)\n",
    "    return(poor(rng,time))\n",
    "end\n",
    "\n",
    "mdp = BMDMDP()\n",
    "\n",
    "# policy that maps every input to no action\n",
    "policy = FunctionPolicy(o->action0)\n",
    "\n",
    "d=1.0\n",
    "rng=MersenneTwister(123)\n",
    "depth=32\n",
    "nmidmcts=[]\n",
    "ntermcts=[]\n",
    "rmcts=[]\n",
    "midfiredmcts=[[0,0,0,0],[0,0,0,0]]\n",
    "ter1firedmcts=[[0,0,0,0],[0,0,0,0]]\n",
    "ter2firedmcts=[[0,0,0,0],[0,0,0,0]]\n",
    "countmidfiredmcts=[[0,0,0,0],[0,0,0,0]]\n",
    "countter1firedmcts=[[0,0,0,0],[0,0,0,0]]\n",
    "countter2firedmcts=[[0,0,0,0],[0,0,0,0]]\n",
    "\n",
    "for rep in 1:100\n",
    "    s=copy(state0)\n",
    "    r_total=0.0\n",
    "    for i in 1:depth\n",
    "        solver = MCTSSolver(enable_tree_vis=true,n_iterations=500,depth=depth-i,exploration_constant=5.0)\n",
    "        policy=solve(solver,mdp)\n",
    "        a=action(policy,s)       \n",
    "        nmidhere=sum(a[s] for s in 1:nmid*ntrack)\n",
    "        nterhere=sum(a[s] for s in 1+nmid*ntrack:nmid*ntrack+nter*ntrack)\n",
    "        push!(nmidmcts,nmidhere)\n",
    "        push!(ntermcts,nterhere)\n",
    "        sp,r=generate_sr(mdp,s,a,rng)\n",
    "        midfired2,ter1fired2,ter2fired2,countmidfired2,countter1fired2,countter2fired2=collect_state2(s,a,sp,midfiredmcts,ter1firedmcts,ter2firedmcts,countmidfiredmcts,countter1firedmcts,countter2firedmcts)\n",
    "        midfiredmcts=copy(midfired2)\n",
    "        ter1firedmcts=copy(ter1fired2)\n",
    "        ter2firedmcts=copy(ter2fired2)\n",
    "        countmidfiredmcts=copy(countmidfired2)\n",
    "        countter1firedmcts=copy(countter1fired2)\n",
    "        countter2firedmcts=copy(countter2fired2)\n",
    "        s=copy(sp)\n",
    "        r_total+=d*r\n",
    "        push!(rmcts,r)\n",
    "        d*=discount(mdp)\n",
    "    end\n",
    "    push!(rmcts,r_total)\n",
    "    print(r_total)\n",
    "end"
   ]
  },
  {
   "cell_type": "code",
   "execution_count": 0,
   "metadata": {
    "id": "jkiSFRWL6wHG",
    "colab_type": "code",
    "colab": {},
    "outputId": "1fe87359-60ba-4c8b-d57f-1c75c0eabdd2"
   },
   "outputs": [
    {
     "data": {
      "image/png": "[encoded data removed]",
      "text/plain": [
       "Figure(PyObject <Figure size 640x480 with 1 Axes>)"
      ]
     },
     "metadata": {
      "tags": []
     },
     "output_type": "display_data"
    }
   ],
   "source": [
    "avgmidfiredmcts=[[0.0,0.0,0.0,0.0],[0.0,0.0,0.0,0.0]]\n",
    "avgter1firedmcts=[[0.0,0.0,0.0,0.0],[0.0,0.0,0.0,0.0]]\n",
    "avgter2firedmcts=[[0.0,0.0,0.0,0.0],[0.0,0.0,0.0,0.0]]\n",
    "avgmidfiredzero=[[0.0,0,0,0],[0,0,0,0]]\n",
    "avgterfiredzero=[[0.0,0,0,0],[0,0,0,0]]\n",
    "avgter1firedzero=[[0.0,0,0,0],[0,0,0,0]]\n",
    "avgter2firedzero=[[0.0,0,0,0],[0,0,0,0]]\n",
    "avgterfiredbase=[[0.0,0,0,0],[0,0,0,0]]\n",
    "avgmidfiredbase=[[0.0,0,0,0],[0,0,0,0]]\n",
    "avgter1firedbase=[[0.0,0,0,0],[0,0,0,0]]\n",
    "avgter2firedbase=[[0.0,0,0,0],[0,0,0,0]]\n",
    "avgterfiredmcts=[[0.0,0,0,0],[0,0,0,0]]\n",
    "\n",
    "for t in 1:ntargets\n",
    "    for m in 1:ntype\n",
    "        avgmidfiredmcts[m][t]=1*countmidfiredmcts[m][t]/max(1,midfiredmcts[m][t])\n",
    "        avgter1firedmcts[m][t]=1*ter1firedmcts[m][t]/max(1,countter1firedmcts[m][t])\n",
    "        avgter2firedmcts[m][t]=1*ter2firedmcts[m][t]/max(1,countter2firedmcts[m][t])\n",
    "    end\n",
    "end\n",
    "        \n",
    "avgterfirebase=0.5*(avgter1firedbase+avgter2firedbase)\n",
    "avgterfiredzero=0.5*(avgter1firedzero+avgter2firedzero)\n",
    "avgterfiredmcts=0.5*(avgter1firedmcts+avgter2firedmcts)\n",
    "\n",
    "barwidth=0.1\n",
    "t=[1,2,3,4]\n",
    "W=[barwidth,barwidth,barwidth,barwidth]\n",
    "\n",
    "PyPlot.bar(x=t,height=avgterfiredmcts[1],color=\"r\",width=barwidth,label=\"type 1, MCTS, ter\")\n",
    "PyPlot.bar(x=t+W,height=avgmidfiredmcts[1],color=\"b\",width=barwidth,label=\"type 1, MCTS, mid\")\n",
    "PyPlot.bar(x=t+2*W,height=avgterfiredmcts[2],color=\"g\",width=barwidth,label=\"type 2, MCTS, ter\")\n",
    "PyPlot.bar(x=t+3*W,height=avgmidfiredmcts[2],width=barwidth,color=\"y\",label=\"type 2, MCTS, mid\")\n",
    "PyPlot.legend()\n",
    "PyPlot.title(\"Missiles fired at each target\")\n",
    "PyPlot.xticks(t+W,t)\n",
    "PyPlot.ylabel(\"Average number of shots\")\n",
    "PyPlot.xlabel(\"Target\")\n",
    "PyPlot.show()"
   ]
  },
  {
   "cell_type": "code",
   "execution_count": 0,
   "metadata": {
    "id": "LLFOlc-06wHH",
    "colab_type": "code",
    "colab": {},
    "outputId": "1f4d1f2f-8b50-441d-f1da-5285fc78cf98"
   },
   "outputs": [
    {
     "data": {
      "image/png": "[encoded data removed]",
      "text/plain": [
       "Figure(PyObject <Figure size 640x480 with 1 Axes>)"
      ]
     },
     "metadata": {
      "tags": []
     },
     "output_type": "display_data"
    },
    {
     "name": "stdout",
     "output_type": "stream",
     "text": [
      "Mean total reward for MTCTS is -0.2032102790556187\n",
      "Mean total reward for base is -0.3061023201472565\n",
      "Mean total reward for no action is -1.7351697763923255\n"
     ]
    }
   ],
   "source": [
    "print(\"Mean total reward for MTCTS is \",mean(rmcts),\"\\n\")\n",
    "print(\"Mean total reward for base is \",mean(rbase),\"\\n\")\n",
    "print(\"Mean total reward for no action is \",mean(rzero),\"\\n\")\n",
    "PyPlot.plot(rmcts,\"ro\",label=\"MCTS\")\n",
    "PyPlot.plot(rbase,\"bo\",label=\"Baseline\")\n",
    "PyPlot.plot(rzero,\"go\",label=\"No action\")\n",
    "PyPlot.legend()\n",
    "PyPlot.title(\"Rewards observed\")\n",
    "PyPlot.ylabel(\"Total reward\")\n",
    "PyPlot.xlabel(\"Simulation\")\n",
    "PyPlot.show()"
   ]
  },
  {
   "cell_type": "markdown",
   "metadata": {
    "id": "ZV8gr7LN6wHJ",
    "colab_type": "text"
   },
   "source": [
    "# Evaluating the medium strategy\n",
    "\n",
    "Shoots with probability 1/2\n",
    "When does shoot shoots only one or 2 missiles (equally likely), at a random target. Missile tpye is 1 with pbty 0.75, if he does have a 2 it goes to the military target."
   ]
  },
  {
   "cell_type": "code",
   "execution_count": 0,
   "metadata": {
    "id": "eYW4p34e6wHJ",
    "colab_type": "code",
    "colab": {},
    "outputId": "20bae689-d920-49de-d253-dd26932ad6ff"
   },
   "outputs": [
    {
     "data": {
      "text/plain": [
       "medium (generic function with 1 method)"
      ]
     },
     "execution_count": 97,
     "metadata": {
      "tags": []
     },
     "output_type": "execute_result"
    }
   ],
   "source": [
    "function medium(rng::AbstractRNG,time::Int)\n",
    "    pshoot=rand(rng)   \n",
    "    if pshoot<1/2 || time>20\n",
    "        return([],[],[])\n",
    "    end\n",
    "    pdumb=rand(rng)\n",
    "    pnum=rand(rng)\n",
    "    type=1\n",
    "    time=8\n",
    "    tgt=trunc(Int,4*rand(rng))+1\n",
    "    if pdumb>=0.75\n",
    "        type=2\n",
    "        time=10\n",
    "        pmilitary=rand(rng)\n",
    "        if pmilitary>0.75\n",
    "            tgt=2\n",
    "        end\n",
    "    end\n",
    "    if pnum<1/2\n",
    "        pdumb2=rand(rng)\n",
    "        type2=1\n",
    "        time2=8\n",
    "        tgt2=trunc(Int,4*rand(rng))+1\n",
    "        if pdumb2>=0.75\n",
    "            type2=2\n",
    "            time2=10\n",
    "            pmilitary2=rand(rng)\n",
    "            if pmilitary2>0.75\n",
    "                tgt2=2\n",
    "            end\n",
    "        end\n",
    "        return([time,time2],[tgt,tgt2],[type,type2])\n",
    "    end\n",
    "    return([time],[tgt],[type])\n",
    "end"
   ]
  },
  {
   "cell_type": "code",
   "execution_count": 0,
   "metadata": {
    "id": "1so2mVuZ6wHL",
    "colab_type": "code",
    "colab": {},
    "outputId": "febad38b-3184-4543-d291-cc32484536ab"
   },
   "outputs": [
    {
     "name": "stdout",
     "output_type": "stream",
     "text": [
      "Step: 1\n",
      "No action taken\n",
      "Step: 2\n",
      "Incoming missile of type 2 aimed at target 2 and 10 steps away \n",
      "Incoming missile of type 1 aimed at target 4 and 8 steps away \n",
      "No action taken\n",
      "Step: 3\n",
      "Incoming missile of type 2 aimed at target 2 and 9 steps away \n",
      "Incoming missile of type 1 aimed at target 4 and 7 steps away \n",
      "No action taken\n",
      "You destroyed an ennemy missile of type 1 \n",
      "Step: 4\n",
      "Incoming missile of type 2 aimed at target 2 and 8 steps away \n",
      "Incoming missile of type 1 aimed at target 3 and 8 steps away \n",
      "Incoming missile of type 1 aimed at target 4 and 6 steps away \n",
      "No action taken\n",
      "Step: 5\n",
      "Incoming missile of type 2 aimed at target 2 and 7 steps away \n",
      "Incoming missile of type 1 aimed at target 3 and 7 steps away \n",
      "Incoming missile of type 1 aimed at target 4 and 5 steps away \n",
      "No action taken\n",
      "Step: 6\n",
      "Incoming missile of type 2 aimed at target 2 and 6 steps away \n",
      "Incoming missile of type 1 aimed at target 3 and 6 steps away \n",
      "Incoming missile of type 1 aimed at target 4 and 4 steps away \n",
      "No action taken\n",
      "Step: 7\n",
      "Incoming missile of type 2 aimed at target 2 and 5 steps away \n",
      "Incoming missile of type 1 aimed at target 3 and 5 steps away \n",
      "Incoming missile of type 1 aimed at target 4 and 3 steps away \n",
      "No action taken\n",
      "Step: 8\n",
      "Incoming missile of type 1 aimed at target 3 and 8 steps away \n",
      "Incoming missile of type 2 aimed at target 2 and 4 steps away \n",
      "Incoming missile of type 1 aimed at target 3 and 4 steps away \n",
      "Incoming missile of type 1 aimed at target 4 and 2 steps away \n",
      "No action taken\n",
      "Step: 9\n",
      "Incoming missile of type 1 aimed at target 4 and 8 steps away \n",
      "Incoming missile of type 1 aimed at target 3 and 7 steps away \n",
      "Incoming missile of type 2 aimed at target 2 and 3 steps away \n",
      "Incoming missile of type 1 aimed at target 3 and 3 steps away \n",
      "Incoming missile of type 1 aimed at target 4 and 1 steps away \n",
      "No action taken\n",
      "Target 4 was hit by missile(s) of type [1], loss of 1 health points \n",
      "You lost one of your launchers (terminal2) \n",
      "Step: 10\n",
      "Incoming missile of type 1 aimed at target 3 and 8 steps away \n",
      "Incoming missile of type 1 aimed at target 4 and 7 steps away \n",
      "Incoming missile of type 1 aimed at target 3 and 6 steps away \n",
      "Incoming missile of type 2 aimed at target 2 and 2 steps away \n",
      "Incoming missile of type 1 aimed at target 3 and 2 steps away \n",
      "No action taken\n",
      "Step: 11\n",
      "Incoming missile of type 1 aimed at target 2 and 8 steps away \n",
      "Incoming missile of type 1 aimed at target 1 and 8 steps away \n",
      "Incoming missile of type 1 aimed at target 3 and 7 steps away \n",
      "Incoming missile of type 1 aimed at target 4 and 6 steps away \n",
      "Incoming missile of type 1 aimed at target 3 and 5 steps away \n",
      "Incoming missile of type 2 aimed at target 2 and 1 steps away \n",
      "Incoming missile of type 1 aimed at target 3 and 1 steps away \n",
      "No action taken\n",
      "Target 2 was hit by missile(s) of type [2, 1], loss of 2 health points \n",
      "Step: 12\n",
      "Incoming missile of type 1 aimed at target 2 and 7 steps away \n",
      "Incoming missile of type 1 aimed at target 1 and 7 steps away \n",
      "Incoming missile of type 1 aimed at target 3 and 6 steps away \n",
      "Incoming missile of type 1 aimed at target 4 and 5 steps away \n",
      "Incoming missile of type 1 aimed at target 3 and 4 steps away \n",
      "No action taken\n",
      "Step: 13\n",
      "Incoming missile of type 1 aimed at target 1 and 8 steps away \n",
      "Incoming missile of type 1 aimed at target 2 and 6 steps away \n",
      "Incoming missile of type 1 aimed at target 1 and 6 steps away \n",
      "Incoming missile of type 1 aimed at target 3 and 5 steps away \n",
      "Incoming missile of type 1 aimed at target 4 and 4 steps away \n",
      "Incoming missile of type 1 aimed at target 3 and 3 steps away \n",
      "No action taken\n",
      "Step: 14\n",
      "Incoming missile of type 1 aimed at target 1 and 7 steps away \n",
      "Incoming missile of type 1 aimed at target 2 and 5 steps away \n",
      "Incoming missile of type 1 aimed at target 1 and 5 steps away \n",
      "Incoming missile of type 1 aimed at target 3 and 4 steps away \n",
      "Incoming missile of type 1 aimed at target 4 and 3 steps away \n",
      "Incoming missile of type 1 aimed at target 3 and 2 steps away \n",
      "No action taken\n",
      "Step: 15\n",
      "Incoming missile of type 1 aimed at target 1 and 6 steps away \n",
      "Incoming missile of type 1 aimed at target 2 and 4 steps away \n",
      "Incoming missile of type 1 aimed at target 1 and 4 steps away \n",
      "Incoming missile of type 1 aimed at target 3 and 3 steps away \n",
      "Incoming missile of type 1 aimed at target 4 and 2 steps away \n",
      "Incoming missile of type 1 aimed at target 3 and 1 steps away \n",
      "No action taken\n",
      "Step: 16\n",
      "Incoming missile of type 1 aimed at target 2 and 8 steps away \n",
      "Incoming missile of type 1 aimed at target 1 and 5 steps away \n",
      "Incoming missile of type 1 aimed at target 2 and 3 steps away \n",
      "Incoming missile of type 1 aimed at target 1 and 3 steps away \n",
      "Incoming missile of type 1 aimed at target 3 and 2 steps away \n",
      "Incoming missile of type 1 aimed at target 4 and 1 steps away \n",
      "No action taken\n",
      "Step: 17\n",
      "Incoming missile of type 1 aimed at target 4 and 8 steps away \n",
      "Incoming missile of type 1 aimed at target 4 and 8 steps away \n",
      "Incoming missile of type 1 aimed at target 2 and 7 steps away \n",
      "Incoming missile of type 1 aimed at target 1 and 4 steps away \n",
      "Incoming missile of type 1 aimed at target 2 and 2 steps away \n",
      "Incoming missile of type 1 aimed at target 1 and 2 steps away \n",
      "Incoming missile of type 1 aimed at target 3 and 1 steps away \n",
      "No action taken\n",
      "Step: 18\n",
      "Incoming missile of type 2 aimed at target 3 and 10 steps away \n",
      "Incoming missile of type 1 aimed at target 4 and 7 steps away \n",
      "Incoming missile of type 1 aimed at target 4 and 7 steps away \n",
      "Incoming missile of type 1 aimed at target 2 and 6 steps away \n",
      "Incoming missile of type 1 aimed at target 1 and 3 steps away \n",
      "Incoming missile of type 1 aimed at target 2 and 1 steps away \n",
      "Incoming missile of type 1 aimed at target 1 and 1 steps away \n",
      "No action taken\n",
      "Step: 19\n",
      "Incoming missile of type 2 aimed at target 3 and 9 steps away \n",
      "Incoming missile of type 1 aimed at target 4 and 8 steps away \n",
      "Incoming missile of type 1 aimed at target 4 and 6 steps away \n",
      "Incoming missile of type 1 aimed at target 4 and 6 steps away \n",
      "Incoming missile of type 1 aimed at target 2 and 5 steps away \n",
      "Incoming missile of type 1 aimed at target 1 and 2 steps away \n",
      "No action taken\n",
      "You destroyed an ennemy missile of type 1 \n",
      "Step: 20\n",
      "Incoming missile of type 2 aimed at target 2 and 10 steps away \n",
      "Incoming missile of type 2 aimed at target 3 and 8 steps away \n",
      "Incoming missile of type 1 aimed at target 2 and 8 steps away \n",
      "Incoming missile of type 1 aimed at target 4 and 7 steps away \n",
      "Incoming missile of type 1 aimed at target 4 and 5 steps away \n",
      "Incoming missile of type 1 aimed at target 4 and 5 steps away \n",
      "Incoming missile of type 1 aimed at target 2 and 4 steps away \n",
      "Incoming missile of type 1 aimed at target 1 and 1 steps away \n",
      "No action taken\n",
      "Target 1 was hit by missile(s) of type [1], loss of 5 health points \n",
      "Step: 21\n",
      "Incoming missile of type 2 aimed at target 2 and 9 steps away \n",
      "Incoming missile of type 2 aimed at target 3 and 7 steps away \n",
      "Incoming missile of type 1 aimed at target 2 and 7 steps away \n",
      "Incoming missile of type 1 aimed at target 4 and 6 steps away \n",
      "Incoming missile of type 1 aimed at target 4 and 4 steps away \n",
      "Incoming missile of type 1 aimed at target 4 and 4 steps away \n",
      "Incoming missile of type 1 aimed at target 2 and 3 steps away \n",
      "No action taken\n",
      "You destroyed an ennemy missile of type 1 \n",
      "Step: 22\n",
      "Incoming missile of type 2 aimed at target 2 and 8 steps away \n",
      "Incoming missile of type 2 aimed at target 3 and 6 steps away \n",
      "Incoming missile of type 1 aimed at target 2 and 6 steps away \n",
      "Incoming missile of type 1 aimed at target 4 and 5 steps away \n",
      "Incoming missile of type 1 aimed at target 4 and 3 steps away \n",
      "Incoming missile of type 1 aimed at target 4 and 3 steps away \n",
      "Incoming missile of type 1 aimed at target 2 and 2 steps away \n",
      "No action taken\n",
      "Step: 23\n",
      "Incoming missile of type 2 aimed at target 2 and 7 steps away \n",
      "Incoming missile of type 2 aimed at target 3 and 5 steps away \n",
      "Incoming missile of type 1 aimed at target 2 and 5 steps away \n",
      "Incoming missile of type 1 aimed at target 4 and 4 steps away \n",
      "Incoming missile of type 1 aimed at target 4 and 2 steps away \n",
      "Incoming missile of type 1 aimed at target 4 and 2 steps away \n",
      "Incoming missile of type 1 aimed at target 2 and 1 steps away \n",
      "No action taken\n",
      "Step: 24\n",
      "Incoming missile of type 2 aimed at target 2 and 6 steps away \n",
      "Incoming missile of type 2 aimed at target 3 and 4 steps away \n",
      "Incoming missile of type 1 aimed at target 2 and 4 steps away \n",
      "Incoming missile of type 1 aimed at target 4 and 3 steps away \n",
      "Incoming missile of type 1 aimed at target 4 and 1 steps away \n",
      "Incoming missile of type 1 aimed at target 4 and 1 steps away \n",
      "No action taken\n",
      "Step: 25\n",
      "Incoming missile of type 2 aimed at target 2 and 5 steps away \n",
      "Incoming missile of type 2 aimed at target 3 and 3 steps away \n",
      "Incoming missile of type 1 aimed at target 2 and 3 steps away \n",
      "Incoming missile of type 1 aimed at target 4 and 2 steps away \n",
      "No action taken\n",
      "Step: 26\n",
      "Incoming missile of type 2 aimed at target 2 and 4 steps away \n",
      "Incoming missile of type 2 aimed at target 3 and 2 steps away \n",
      "Incoming missile of type 1 aimed at target 2 and 2 steps away \n",
      "Incoming missile of type 1 aimed at target 4 and 1 steps away \n",
      "No action taken\n",
      "Step: 27\n",
      "Incoming missile of type 2 aimed at target 2 and 3 steps away \n",
      "Incoming missile of type 2 aimed at target 3 and 1 steps away \n",
      "Incoming missile of type 1 aimed at target 2 and 1 steps away \n",
      "No action taken\n",
      "You have no more terminal missiles \n",
      "Target 3 was hit by missile(s) of type [2, 1], loss of 1 health points \n",
      "You lost one of your launchers (terminal1) \n",
      "Step: 28\n",
      "Incoming missile of type 2 aimed at target 2 and 2 steps away \n",
      "No action taken\n",
      "You have no more terminal missiles \n",
      "Step: 29\n",
      "Incoming missile of type 2 aimed at target 2 and 1 steps away \n",
      "No action taken\n",
      "You have no more terminal missiles \n",
      "Target 2 was hit by missile(s) of type [2], loss of 2 health points \n",
      "Step: 30\n",
      "No action taken\n",
      "You have no more terminal missiles \n",
      "Step: 31\n",
      "No action taken\n",
      "You have no more terminal missiles \n",
      "Step: 32\n",
      "No action taken\n",
      "You have no more terminal missiles \n",
      "-118.24641612942165"
     ]
    }
   ],
   "source": [
    "function enemystrategyMDP(rng::AbstractRNG,time::Int)\n",
    "    return(medium(rng,time))\n",
    "end\n",
    "\n",
    "mdp = BMDMDP()\n",
    "\n",
    "# policy that maps every input to no action\n",
    "policy = FunctionPolicy(o->action0)\n",
    "\n",
    "r_total=0.0\n",
    "d=1.0\n",
    "rng=MersenneTwister(12345)\n",
    "s=copy(state0)\n",
    "depth=32\n",
    "nmidzero=[]\n",
    "nterzero=[]\n",
    "rzero=[]\n",
    "midfiredzero=[[0,0,0,0],[0,0,0,0]]\n",
    "ter1firedzero=[[0,0,0,0],[0,0,0,0]]\n",
    "ter2firedzero=[[0,0,0,0],[0,0,0,0]]\n",
    "countmidfiredzero=[[0,0,0,0],[0,0,0,0]]\n",
    "countter1firedzero=[[0,0,0,0],[0,0,0,0]]\n",
    "countter2firedzero=[[0,0,0,0],[0,0,0,0]]\n",
    "\n",
    "for i in 1:depth\n",
    "    \n",
    "    print(\"Step: \",i,\"\\n\")\n",
    "    if sum(s[k]!=-1 for k in 3*(nmid+nter)+ntargets+1:3*(nmid+nter)+ntargets+ntrack)!=0\n",
    "        indx=0\n",
    "        while s[3*(nmid+nter)+ntargets+1+indx]>0\n",
    "            print(\"Incoming missile of type \",s[3*(nmid+nter)+ntargets+1+indx+2*ntrack],\" aimed at target \",s[3*(nmid+nter)+ntargets+1+indx+ntrack] ,\" and \",s[3*(nmid+nter)+ntargets+1+indx],\" steps away \\n\")\n",
    "            indx+=1\n",
    "        end\n",
    "    end\n",
    "    a=action(policy,s)\n",
    "    nmidhere=sum(a[s] for s in 1:nmid*ntrack)\n",
    "    nterhere=sum(a[s] for s in 1+nmid*ntrack:nmid*ntrack+nter*ntrack)\n",
    "    push!(nmidzero,nmidhere)\n",
    "    push!(nterzero,nterhere)\n",
    "    sp,r=generate_sr(mdp,s,a,rng)\n",
    "    midfired2,ter1fired2,ter2fired2,countmidfired2,countter1fired2,countter2fired2=collect_state(s,a,sp,midfiredzero,ter1firedzero,ter2firedzero,countmidfiredzero,countter1firedzero,countter2firedzero)\n",
    "    midfiredzero=copy(midfired2)\n",
    "    ter1firedzero=copy(ter1fired2)\n",
    "    ter2firedzero=copy(ter2fired2)\n",
    "    countmidfiredzero=copy(countmidfired2)\n",
    "    countter1firedzero=copy(countter1fired2)\n",
    "    countter2firedzero=copy(countter2fired2)\n",
    "    s=copy(sp)\n",
    "    r_total+=d*r\n",
    "    push!(rzero,r)\n",
    "    d*=discount(mdp)\n",
    "end\n",
    "print(r_total)"
   ]
  },
  {
   "cell_type": "code",
   "execution_count": 0,
   "metadata": {
    "id": "Thuom5XC6wHP",
    "colab_type": "code",
    "colab": {},
    "outputId": "c9d46499-8001-4fc6-fdd1-f0b5d05c6e19"
   },
   "outputs": [
    {
     "name": "stdout",
     "output_type": "stream",
     "text": [
      "Step: 1\n",
      "No action taken\n",
      "Step: 2\n",
      "Incoming missile of type 2 aimed at target 2 and 10 steps away \n",
      "Incoming missile of type 1 aimed at target 4 and 8 steps away \n",
      "No action taken\n",
      "Step: 3\n",
      "Incoming missile of type 2 aimed at target 2 and 9 steps away \n",
      "Incoming missile of type 1 aimed at target 3 and 8 steps away \n",
      "Incoming missile of type 1 aimed at target 4 and 7 steps away \n",
      "No action taken\n",
      "You destroyed an ennemy missile of type 1 \n",
      "Step: 4\n",
      "Incoming missile of type 2 aimed at target 2 and 8 steps away \n",
      "Incoming missile of type 1 aimed at target 3 and 7 steps away \n",
      "Incoming missile of type 1 aimed at target 4 and 6 steps away \n",
      "No action taken\n",
      "Step: 5\n",
      "Incoming missile of type 1 aimed at target 3 and 8 steps away \n",
      "Incoming missile of type 2 aimed at target 2 and 7 steps away \n",
      "Incoming missile of type 1 aimed at target 3 and 6 steps away \n",
      "Incoming missile of type 1 aimed at target 4 and 5 steps away \n",
      "No action taken\n",
      "Step: 6\n",
      "Incoming missile of type 1 aimed at target 1 and 8 steps away \n",
      "Incoming missile of type 1 aimed at target 3 and 7 steps away \n",
      "Incoming missile of type 2 aimed at target 2 and 6 steps away \n",
      "Incoming missile of type 1 aimed at target 3 and 5 steps away \n",
      "Incoming missile of type 1 aimed at target 4 and 4 steps away \n",
      "Launch from mid-course launcher: [2] missile(s) launched at missile(s) of type [2] aiming at target(s) [2]\n",
      "You destroyed an ennemy missile of type 1 \n",
      "Step: 7\n",
      "Incoming missile of type 1 aimed at target 1 and 7 steps away \n",
      "Incoming missile of type 1 aimed at target 3 and 6 steps away \n",
      "Incoming missile of type 1 aimed at target 3 and 4 steps away \n",
      "Incoming missile of type 1 aimed at target 4 and 3 steps away \n",
      "No action taken\n",
      "Reload occurred (midcourse) \n",
      "Step: 8\n",
      "Incoming missile of type 1 aimed at target 1 and 6 steps away \n",
      "Incoming missile of type 1 aimed at target 3 and 5 steps away \n",
      "Incoming missile of type 1 aimed at target 3 and 3 steps away \n",
      "Incoming missile of type 1 aimed at target 4 and 2 steps away \n",
      "Launch from 1st terminal launcher: [2] missile(s) launched at missile(s) of type [1] aiming at target(s) [4]\n",
      "You destroyed an ennemy missile of type 1 \n",
      "Step: 9\n",
      "Incoming missile of type 1 aimed at target 1 and 5 steps away \n",
      "Incoming missile of type 1 aimed at target 3 and 4 steps away \n",
      "Incoming missile of type 1 aimed at target 3 and 2 steps away \n",
      "Launch from 1st terminal launcher: [2] missile(s) launched at missile(s) of type [1] aiming at target(s) [3]\n",
      "You destroyed an ennemy missile of type 1 \n",
      "Step: 10\n",
      "Incoming missile of type 1 aimed at target 1 and 4 steps away \n",
      "Incoming missile of type 1 aimed at target 3 and 3 steps away \n",
      "No action taken\n",
      "Reload occurred (terminal 1) \n",
      "Step: 11\n",
      "Incoming missile of type 1 aimed at target 3 and 8 steps away \n",
      "Incoming missile of type 1 aimed at target 1 and 3 steps away \n",
      "Incoming missile of type 1 aimed at target 3 and 2 steps away \n",
      "Launch from 1st terminal launcher: [2] missile(s) launched at missile(s) of type [1] aiming at target(s) [3]\n",
      "You destroyed an ennemy missile of type 1 \n",
      "Step: 12\n",
      "Incoming missile of type 2 aimed at target 3 and 10 steps away \n",
      "Incoming missile of type 1 aimed at target 3 and 7 steps away \n",
      "Incoming missile of type 1 aimed at target 1 and 2 steps away \n",
      "Launch from 1st terminal launcher: [2] missile(s) launched at missile(s) of type [1] aiming at target(s) [1]\n",
      "You destroyed an ennemy missile of type 1 \n",
      "Step: 13\n",
      "Incoming missile of type 2 aimed at target 3 and 9 steps away \n",
      "Incoming missile of type 1 aimed at target 3 and 6 steps away \n",
      "No action taken\n",
      "Reload occurred (terminal 1) \n",
      "You destroyed an ennemy missile of type 1 \n",
      "Step: 14\n",
      "Incoming missile of type 2 aimed at target 3 and 8 steps away \n",
      "Incoming missile of type 1 aimed at target 3 and 5 steps away \n",
      "No action taken\n",
      "Step: 15\n",
      "Incoming missile of type 2 aimed at target 2 and 10 steps away \n",
      "Incoming missile of type 2 aimed at target 3 and 7 steps away \n",
      "Incoming missile of type 1 aimed at target 3 and 4 steps away \n",
      "No action taken\n",
      "Step: 16\n",
      "Incoming missile of type 2 aimed at target 2 and 9 steps away \n",
      "Incoming missile of type 2 aimed at target 3 and 6 steps away \n",
      "Incoming missile of type 1 aimed at target 3 and 3 steps away \n",
      "Launch from mid-course launcher: [2] missile(s) launched at missile(s) of type [2] aiming at target(s) [3]\n",
      "You destroyed an ennemy missile of type 2 \n",
      "You destroyed an ennemy missile of type 1 \n",
      "Step: 17\n",
      "Incoming missile of type 2 aimed at target 2 and 8 steps away \n",
      "Incoming missile of type 1 aimed at target 3 and 8 steps away \n",
      "Incoming missile of type 1 aimed at target 3 and 8 steps away \n",
      "Incoming missile of type 1 aimed at target 3 and 2 steps away \n",
      "Launch from 1st terminal launcher: [2] missile(s) launched at missile(s) of type [1] aiming at target(s) [3]\n",
      "Reload occurred (midcourse) \n",
      "Step: 18\n",
      "Incoming missile of type 1 aimed at target 2 and 8 steps away \n",
      "Incoming missile of type 1 aimed at target 2 and 8 steps away \n",
      "Incoming missile of type 2 aimed at target 2 and 7 steps away \n",
      "Incoming missile of type 1 aimed at target 3 and 7 steps away \n",
      "Incoming missile of type 1 aimed at target 3 and 7 steps away \n",
      "Incoming missile of type 1 aimed at target 3 and 1 steps away \n",
      "No action taken\n",
      "Reload occurred (terminal 1) \n",
      "Step: 19\n",
      "Incoming missile of type 1 aimed at target 3 and 8 steps away \n",
      "Incoming missile of type 1 aimed at target 2 and 8 steps away \n",
      "Incoming missile of type 1 aimed at target 2 and 7 steps away \n",
      "Incoming missile of type 1 aimed at target 2 and 7 steps away \n",
      "Incoming missile of type 2 aimed at target 2 and 6 steps away \n",
      "Incoming missile of type 1 aimed at target 3 and 6 steps away \n",
      "Incoming missile of type 1 aimed at target 3 and 6 steps away \n",
      "Launch from mid-course launcher: [2] missile(s) launched at missile(s) of type [2] aiming at target(s) [2]\n",
      "You destroyed an ennemy missile of type 1 \n",
      "Step: 20\n",
      "Incoming missile of type 1 aimed at target 3 and 8 steps away \n",
      "Incoming missile of type 1 aimed at target 1 and 8 steps away \n",
      "Incoming missile of type 1 aimed at target 3 and 7 steps away \n",
      "Incoming missile of type 1 aimed at target 2 and 7 steps away \n",
      "Incoming missile of type 1 aimed at target 2 and 6 steps away \n",
      "Incoming missile of type 1 aimed at target 2 and 6 steps away \n",
      "Incoming missile of type 1 aimed at target 3 and 5 steps away \n",
      "Incoming missile of type 1 aimed at target 3 and 5 steps away \n",
      "No action taken\n",
      "Reload occurred (midcourse) \n",
      "Step: 21\n",
      "Incoming missile of type 1 aimed at target 3 and 8 steps away \n",
      "Incoming missile of type 1 aimed at target 3 and 8 steps away \n",
      "Incoming missile of type 1 aimed at target 3 and 7 steps away \n",
      "Incoming missile of type 1 aimed at target 1 and 7 steps away \n",
      "Incoming missile of type 1 aimed at target 3 and 6 steps away \n",
      "Incoming missile of type 1 aimed at target 2 and 6 steps away \n",
      "Incoming missile of type 1 aimed at target 2 and 5 steps away \n",
      "Incoming missile of type 1 aimed at target 2 and 5 steps away \n",
      "Incoming missile of type 1 aimed at target 3 and 4 steps away \n",
      "Incoming missile of type 1 aimed at target 3 and 4 steps away \n",
      "No action taken\n",
      "Step: 22\n",
      "Incoming missile of type 1 aimed at target 3 and 7 steps away \n",
      "Incoming missile of type 1 aimed at target 3 and 7 steps away \n",
      "Incoming missile of type 1 aimed at target 3 and 6 steps away \n",
      "Incoming missile of type 1 aimed at target 1 and 6 steps away \n",
      "Incoming missile of type 1 aimed at target 3 and 5 steps away \n",
      "Incoming missile of type 1 aimed at target 2 and 5 steps away \n",
      "Incoming missile of type 1 aimed at target 2 and 4 steps away \n",
      "Incoming missile of type 1 aimed at target 2 and 4 steps away \n",
      "Incoming missile of type 1 aimed at target 3 and 3 steps away \n",
      "Incoming missile of type 1 aimed at target 3 and 3 steps away \n",
      "No action taken\n",
      "Step: 23\n",
      "Incoming missile of type 1 aimed at target 3 and 6 steps away \n",
      "Incoming missile of type 1 aimed at target 3 and 6 steps away \n",
      "Incoming missile of type 1 aimed at target 3 and 5 steps away \n",
      "Incoming missile of type 1 aimed at target 1 and 5 steps away \n",
      "Incoming missile of type 1 aimed at target 3 and 4 steps away \n",
      "Incoming missile of type 1 aimed at target 2 and 4 steps away \n",
      "Incoming missile of type 1 aimed at target 2 and 3 steps away \n",
      "Incoming missile of type 1 aimed at target 2 and 3 steps away \n",
      "Incoming missile of type 1 aimed at target 3 and 2 steps away \n",
      "Incoming missile of type 1 aimed at target 3 and 2 steps away \n",
      "Launch from 1st terminal launcher: [2, 2] missile(s) launched at missile(s) of type [1, 1] aiming at target(s) [3, 3]\n",
      "You destroyed an ennemy missile of type 1 \n",
      "Step: 24\n",
      "Incoming missile of type 1 aimed at target 3 and 5 steps away \n",
      "Incoming missile of type 1 aimed at target 3 and 5 steps away \n",
      "Incoming missile of type 1 aimed at target 3 and 4 steps away \n",
      "Incoming missile of type 1 aimed at target 1 and 4 steps away \n",
      "Incoming missile of type 1 aimed at target 3 and 3 steps away \n",
      "Incoming missile of type 1 aimed at target 2 and 3 steps away \n",
      "Incoming missile of type 1 aimed at target 2 and 2 steps away \n",
      "Incoming missile of type 1 aimed at target 2 and 2 steps away \n",
      "Incoming missile of type 1 aimed at target 3 and 1 steps away \n",
      "No action taken\n",
      "Target 3 was hit by missile(s) of type [1], loss of 1 health points \n",
      "You lost one of your launchers (terminal1) \n",
      "Step: 25\n",
      "Incoming missile of type 1 aimed at target 3 and 4 steps away \n",
      "Incoming missile of type 1 aimed at target 3 and 4 steps away \n",
      "Incoming missile of type 1 aimed at target 3 and 3 steps away \n",
      "Incoming missile of type 1 aimed at target 1 and 3 steps away \n",
      "Incoming missile of type 1 aimed at target 3 and 2 steps away \n",
      "Incoming missile of type 1 aimed at target 2 and 2 steps away \n",
      "Incoming missile of type 1 aimed at target 2 and 1 steps away \n",
      "Incoming missile of type 1 aimed at target 2 and 1 steps away \n",
      "No action taken\n",
      "Step: 26\n",
      "Incoming missile of type 1 aimed at target 3 and 3 steps away \n",
      "Incoming missile of type 1 aimed at target 3 and 3 steps away \n",
      "Incoming missile of type 1 aimed at target 3 and 2 steps away \n",
      "Incoming missile of type 1 aimed at target 1 and 2 steps away \n",
      "Incoming missile of type 1 aimed at target 3 and 1 steps away \n",
      "Incoming missile of type 1 aimed at target 2 and 1 steps away \n",
      "No action taken\n",
      "Target 2 was hit by missile(s) of type [1, 1], loss of 1 health points \n",
      "Step: 27\n",
      "Incoming missile of type 1 aimed at target 3 and 2 steps away \n",
      "Incoming missile of type 1 aimed at target 3 and 2 steps away \n",
      "Incoming missile of type 1 aimed at target 3 and 1 steps away \n",
      "Incoming missile of type 1 aimed at target 1 and 1 steps away \n",
      "No action taken\n",
      "Target 1 was hit by missile(s) of type [1, 1], loss of 5 health points \n",
      "Step: 28\n",
      "Incoming missile of type 1 aimed at target 3 and 1 steps away \n",
      "Incoming missile of type 1 aimed at target 3 and 1 steps away \n",
      "No action taken\n",
      "Step: 29\n",
      "No action taken\n",
      "Step: 30\n",
      "No action taken\n",
      "Step: 31\n",
      "No action taken\n",
      "Step: 32\n",
      "No action taken\n",
      "-65.66398681392364"
     ]
    }
   ],
   "source": [
    "function enemystrategyMDP(rng::AbstractRNG,time::Int)\n",
    "    return(medium(rng,time))\n",
    "end\n",
    "\n",
    "mdp = BMDMDP()\n",
    "\n",
    "r_total=0.0\n",
    "d=1.0\n",
    "rng=MersenneTwister(12345)\n",
    "s=copy(state0)\n",
    "depth=32\n",
    "nmidbase=[]\n",
    "nterbase=[]\n",
    "rbase=[]\n",
    "midfiredbase=[[0,0,0,0],[0,0,0,0]]\n",
    "ter1firedbase=[[0,0,0,0],[0,0,0,0]]\n",
    "ter2firedbase=[[0,0,0,0],[0,0,0,0]]\n",
    "countmidfiredbase=[[0,0,0,0],[0,0,0,0]]\n",
    "countter1firedbase=[[0,0,0,0],[0,0,0,0]]\n",
    "countter2firedbase=[[0,0,0,0],[0,0,0,0]]\n",
    "\n",
    "for i in 1:depth\n",
    "    \n",
    "    print(\"Step: \",i,\"\\n\")\n",
    "    if sum(s[k]!=-1 for k in 3*(nmid+nter)+ntargets+1:3*(nmid+nter)+ntargets+ntrack)!=0\n",
    "        indx=0\n",
    "        while s[3*(nmid+nter)+ntargets+1+indx]>0\n",
    "            print(\"Incoming missile of type \",s[3*(nmid+nter)+ntargets+1+indx+2*ntrack],\" aimed at target \",s[3*(nmid+nter)+ntargets+1+indx+ntrack] ,\" and \",s[3*(nmid+nter)+ntargets+1+indx],\" steps away \\n\")\n",
    "            indx+=1\n",
    "        end\n",
    "    end\n",
    "    a=baseline(s)\n",
    "    nmidhere=sum(a[s] for s in 1:nmid*ntrack)\n",
    "    nterhere=sum(a[s] for s in 1+nmid*ntrack:nmid*ntrack+nter*ntrack)\n",
    "    push!(nmidbase,nmidhere)\n",
    "    push!(nterbase,nterhere)\n",
    "    sp,r=generate_sr(mdp,s,a,rng)\n",
    "    midfired2,ter1fired2,ter2fired2,countmidfired2,countter1fired2,countter2fired2=collect_state(s,a,sp,midfiredbase,ter1firedbase,ter2firedbase,countmidfiredbase,countter1firedbase,countter2firedbase)\n",
    "    midfiredbase=copy(midfired2)\n",
    "    ter1firedbase=copy(ter1fired2)\n",
    "    ter2firedbase=copy(ter2fired2)\n",
    "    countmidfiredbase=copy(countmidfired2)\n",
    "    countter1firedbase=copy(countter1fired2)\n",
    "    countter2firedbase=copy(countter2fired2)\n",
    "    s=copy(sp)\n",
    "    r_total+=d*r\n",
    "    push!(rbase,r)\n",
    "    d*=discount(mdp)\n",
    "end\n",
    "print(r_total)"
   ]
  },
  {
   "cell_type": "code",
   "execution_count": 0,
   "metadata": {
    "id": "V4fgHl7h6wHS",
    "colab_type": "code",
    "colab": {},
    "outputId": "977462a7-aff6-4d2f-c7da-787fde2620be"
   },
   "outputs": [
    {
     "name": "stdout",
     "output_type": "stream",
     "text": [
      "Step: 1\n",
      "No action taken\n",
      "Step: 2\n",
      "Incoming missile of type 2 aimed at target 2 and 10 steps away \n",
      "Incoming missile of type 1 aimed at target 4 and 8 steps away \n",
      "No action taken\n",
      "Step: 3\n",
      "Incoming missile of type 2 aimed at target 2 and 9 steps away \n",
      "Incoming missile of type 1 aimed at target 4 and 7 steps away \n",
      "No action taken\n",
      "You destroyed an ennemy missile of type 1 \n",
      "Step: 4\n",
      "Incoming missile of type 2 aimed at target 2 and 8 steps away \n",
      "Incoming missile of type 1 aimed at target 3 and 8 steps away \n",
      "Incoming missile of type 1 aimed at target 4 and 6 steps away \n",
      "No action taken\n",
      "Step: 5\n",
      "Incoming missile of type 2 aimed at target 2 and 7 steps away \n",
      "Incoming missile of type 1 aimed at target 3 and 7 steps away \n",
      "Incoming missile of type 1 aimed at target 4 and 5 steps away \n",
      "No action taken\n",
      "Step: 6\n",
      "Incoming missile of type 2 aimed at target 2 and 6 steps away \n",
      "Incoming missile of type 1 aimed at target 3 and 6 steps away \n",
      "Incoming missile of type 1 aimed at target 4 and 4 steps away \n",
      "Launch from mid-course launcher: [17] missile(s) launched at missile(s) of type [2] aiming at target(s) [2]\n",
      "You destroyed an ennemy missile of type 1 \n",
      "Step: 7\n",
      "Incoming missile of type 1 aimed at target 3 and 5 steps away \n",
      "Incoming missile of type 1 aimed at target 4 and 3 steps away \n",
      "No action taken\n",
      "Reload occurred (midcourse) \n",
      "Step: 8\n",
      "Incoming missile of type 1 aimed at target 3 and 8 steps away \n",
      "Incoming missile of type 1 aimed at target 3 and 8 steps away \n",
      "Incoming missile of type 1 aimed at target 3 and 4 steps away \n",
      "Incoming missile of type 1 aimed at target 4 and 2 steps away \n",
      "Launch from 1st terminal launcher: [4] missile(s) launched at missile(s) of type [1] aiming at target(s) [4]\n",
      "Launch from 2nd terminal launcher: [2] missile(s) launched at missile(s) of type [1] aiming at target(s) [4]\n",
      "You destroyed an ennemy missile of type 1 \n",
      "Step: 9\n",
      "Incoming missile of type 2 aimed at target 4 and 10 steps away \n",
      "Incoming missile of type 1 aimed at target 3 and 7 steps away \n",
      "Incoming missile of type 1 aimed at target 3 and 7 steps away \n",
      "Incoming missile of type 1 aimed at target 3 and 3 steps away \n",
      "No action taken\n",
      "Reload occurred (terminal 1) \n",
      "Reload occurred (terminal 2) \n",
      "Step: 10\n",
      "Incoming missile of type 2 aimed at target 4 and 9 steps away \n",
      "Incoming missile of type 1 aimed at target 3 and 8 steps away \n",
      "Incoming missile of type 1 aimed at target 3 and 6 steps away \n",
      "Incoming missile of type 1 aimed at target 3 and 6 steps away \n",
      "Incoming missile of type 1 aimed at target 3 and 2 steps away \n",
      "Launch from 1st terminal launcher: [3] missile(s) launched at missile(s) of type [1] aiming at target(s) [3]\n",
      "You destroyed an ennemy missile of type 1 \n",
      "You destroyed an ennemy missile of type 1 \n",
      "Step: 11\n",
      "Incoming missile of type 2 aimed at target 4 and 8 steps away \n",
      "Incoming missile of type 1 aimed at target 2 and 8 steps away \n",
      "Incoming missile of type 1 aimed at target 1 and 8 steps away \n",
      "Incoming missile of type 1 aimed at target 3 and 7 steps away \n",
      "Incoming missile of type 1 aimed at target 3 and 5 steps away \n",
      "Incoming missile of type 1 aimed at target 3 and 5 steps away \n",
      "No action taken\n",
      "Reload occurred (terminal 1) \n",
      "Step: 12\n",
      "Incoming missile of type 2 aimed at target 4 and 7 steps away \n",
      "Incoming missile of type 1 aimed at target 2 and 7 steps away \n",
      "Incoming missile of type 1 aimed at target 1 and 7 steps away \n",
      "Incoming missile of type 1 aimed at target 3 and 6 steps away \n",
      "Incoming missile of type 1 aimed at target 3 and 4 steps away \n",
      "Incoming missile of type 1 aimed at target 3 and 4 steps away \n",
      "No action taken\n",
      "Step: 13\n",
      "Incoming missile of type 2 aimed at target 4 and 6 steps away \n",
      "Incoming missile of type 1 aimed at target 2 and 6 steps away \n",
      "Incoming missile of type 1 aimed at target 1 and 6 steps away \n",
      "Incoming missile of type 1 aimed at target 3 and 5 steps away \n",
      "Incoming missile of type 1 aimed at target 3 and 3 steps away \n",
      "Incoming missile of type 1 aimed at target 3 and 3 steps away \n",
      "Launch from mid-course launcher: [5] missile(s) launched at missile(s) of type [2] aiming at target(s) [4]\n",
      "You destroyed an ennemy missile of type 1 \n",
      "Step: 14\n",
      "Incoming missile of type 1 aimed at target 1 and 8 steps away \n",
      "Incoming missile of type 1 aimed at target 2 and 5 steps away \n",
      "Incoming missile of type 1 aimed at target 1 and 5 steps away \n",
      "Incoming missile of type 1 aimed at target 3 and 4 steps away \n",
      "Incoming missile of type 1 aimed at target 3 and 2 steps away \n",
      "Incoming missile of type 1 aimed at target 3 and 2 steps away \n",
      "Launch from 1st terminal launcher: [1, 1] missile(s) launched at missile(s) of type [1, 1] aiming at target(s) [3, 3]\n",
      "Launch from 2nd terminal launcher: [2, 2] missile(s) launched at missile(s) of type [1, 1] aiming at target(s) [3, 3]\n",
      "Reload occurred (midcourse) \n",
      "You destroyed an ennemy missile of type 1 \n",
      "You destroyed an ennemy missile of type 1 \n",
      "Step: 15\n",
      "Incoming missile of type 1 aimed at target 1 and 7 steps away \n",
      "Incoming missile of type 1 aimed at target 2 and 4 steps away \n",
      "Incoming missile of type 1 aimed at target 1 and 4 steps away \n",
      "Incoming missile of type 1 aimed at target 3 and 3 steps away \n",
      "No action taken\n",
      "Reload occurred (terminal 1) \n",
      "Reload occurred (terminal 2) \n",
      "Step: 16\n",
      "Incoming missile of type 2 aimed at target 4 and 10 steps away \n",
      "Incoming missile of type 1 aimed at target 2 and 8 steps away \n",
      "Incoming missile of type 1 aimed at target 1 and 6 steps away \n",
      "Incoming missile of type 1 aimed at target 2 and 3 steps away \n",
      "Incoming missile of type 1 aimed at target 1 and 3 steps away \n",
      "Incoming missile of type 1 aimed at target 3 and 2 steps away \n",
      "Launch from 2nd terminal launcher: [1] missile(s) launched at missile(s) of type [1] aiming at target(s) [3]\n",
      "You destroyed an ennemy missile of type 1 \n",
      "Step: 17\n",
      "Incoming missile of type 2 aimed at target 4 and 9 steps away \n",
      "Incoming missile of type 1 aimed at target 3 and 8 steps away \n",
      "Incoming missile of type 1 aimed at target 2 and 7 steps away \n",
      "Incoming missile of type 1 aimed at target 1 and 5 steps away \n",
      "Incoming missile of type 1 aimed at target 2 and 2 steps away \n",
      "Incoming missile of type 1 aimed at target 1 and 2 steps away \n",
      "Launch from 1st terminal launcher: [2] missile(s) launched at missile(s) of type [1] aiming at target(s) [1]\n",
      "Reload occurred (terminal 2) \n",
      "You destroyed an ennemy missile of type 1 \n",
      "You destroyed an ennemy missile of type 1 \n",
      "Step: 18\n",
      "Incoming missile of type 2 aimed at target 4 and 8 steps away \n",
      "Incoming missile of type 1 aimed at target 3 and 7 steps away \n",
      "Incoming missile of type 1 aimed at target 2 and 6 steps away \n",
      "Incoming missile of type 1 aimed at target 1 and 4 steps away \n",
      "Incoming missile of type 1 aimed at target 2 and 1 steps away \n",
      "No action taken\n",
      "Reload occurred (terminal 1) \n",
      "Step: 19\n",
      "Incoming missile of type 2 aimed at target 3 and 10 steps away \n",
      "Incoming missile of type 2 aimed at target 4 and 7 steps away \n",
      "Incoming missile of type 1 aimed at target 3 and 6 steps away \n",
      "Incoming missile of type 1 aimed at target 2 and 5 steps away \n",
      "Incoming missile of type 1 aimed at target 1 and 3 steps away \n",
      "No action taken\n",
      "Step: 20\n",
      "Incoming missile of type 2 aimed at target 3 and 10 steps away \n",
      "Incoming missile of type 2 aimed at target 3 and 9 steps away \n",
      "Incoming missile of type 1 aimed at target 4 and 8 steps away \n",
      "Incoming missile of type 2 aimed at target 4 and 6 steps away \n",
      "Incoming missile of type 1 aimed at target 3 and 5 steps away \n",
      "Incoming missile of type 1 aimed at target 2 and 4 steps away \n",
      "Incoming missile of type 1 aimed at target 1 and 2 steps away \n",
      "Launch from mid-course launcher: [20] missile(s) launched at missile(s) of type [2] aiming at target(s) [4]\n",
      "You destroyed an ennemy missile of type 1 \n",
      "You destroyed an ennemy missile of type 1 \n",
      "Step: 21\n",
      "Incoming missile of type 2 aimed at target 2 and 10 steps away \n",
      "Incoming missile of type 2 aimed at target 3 and 9 steps away \n",
      "Incoming missile of type 2 aimed at target 3 and 8 steps away \n",
      "Incoming missile of type 1 aimed at target 2 and 8 steps away \n",
      "Incoming missile of type 1 aimed at target 4 and 7 steps away \n",
      "Incoming missile of type 1 aimed at target 3 and 4 steps away \n",
      "Incoming missile of type 1 aimed at target 2 and 3 steps away \n",
      "Incoming missile of type 1 aimed at target 1 and 1 steps away \n",
      "No action taken\n",
      "Target 1 was hit by missile(s) of type [1], loss of 5 health points \n",
      "You destroyed an ennemy missile of type 1 \n",
      "Step: 22\n",
      "Incoming missile of type 2 aimed at target 2 and 9 steps away \n",
      "Incoming missile of type 2 aimed at target 3 and 8 steps away \n",
      "Incoming missile of type 2 aimed at target 3 and 7 steps away \n",
      "Incoming missile of type 1 aimed at target 2 and 7 steps away \n",
      "Incoming missile of type 1 aimed at target 4 and 6 steps away \n",
      "Incoming missile of type 1 aimed at target 3 and 3 steps away \n",
      "Incoming missile of type 1 aimed at target 2 and 2 steps away \n"
     ]
    },
    {
     "name": "stdout",
     "output_type": "stream",
     "text": [
      "Launch from 1st terminal launcher: [1] missile(s) launched at missile(s) of type [1] aiming at target(s) [2]\n",
      "Launch from 2nd terminal launcher: [1] missile(s) launched at missile(s) of type [1] aiming at target(s) [2]\n",
      "You destroyed an ennemy missile of type 1 \n",
      "You destroyed an ennemy missile of type 1 \n",
      "Step: 23\n",
      "Incoming missile of type 2 aimed at target 2 and 8 steps away \n",
      "Incoming missile of type 2 aimed at target 3 and 7 steps away \n",
      "Incoming missile of type 2 aimed at target 3 and 6 steps away \n",
      "Incoming missile of type 1 aimed at target 2 and 6 steps away \n",
      "Incoming missile of type 1 aimed at target 4 and 5 steps away \n",
      "Incoming missile of type 1 aimed at target 3 and 2 steps away \n",
      "Launch from 2nd terminal launcher: [1] missile(s) launched at missile(s) of type [1] aiming at target(s) [3]\n",
      "You destroyed an ennemy missile of type 1 \n",
      "Step: 24\n",
      "Incoming missile of type 2 aimed at target 2 and 7 steps away \n",
      "Incoming missile of type 2 aimed at target 3 and 6 steps away \n",
      "Incoming missile of type 2 aimed at target 3 and 5 steps away \n",
      "Incoming missile of type 1 aimed at target 2 and 5 steps away \n",
      "Incoming missile of type 1 aimed at target 4 and 4 steps away \n",
      "No action taken\n",
      "Reload occurred (terminal 2) \n",
      "Step: 25\n",
      "Incoming missile of type 2 aimed at target 2 and 6 steps away \n",
      "Incoming missile of type 2 aimed at target 3 and 5 steps away \n",
      "Incoming missile of type 2 aimed at target 3 and 4 steps away \n",
      "Incoming missile of type 1 aimed at target 2 and 4 steps away \n",
      "Incoming missile of type 1 aimed at target 4 and 3 steps away \n",
      "No action taken\n",
      "Step: 26\n",
      "Incoming missile of type 2 aimed at target 2 and 5 steps away \n",
      "Incoming missile of type 2 aimed at target 3 and 4 steps away \n",
      "Incoming missile of type 2 aimed at target 3 and 3 steps away \n",
      "Incoming missile of type 1 aimed at target 2 and 3 steps away \n",
      "Incoming missile of type 1 aimed at target 4 and 2 steps away \n",
      "Launch from 2nd terminal launcher: [1] missile(s) launched at missile(s) of type [1] aiming at target(s) [4]\n",
      "Step: 27\n",
      "Incoming missile of type 2 aimed at target 2 and 4 steps away \n",
      "Incoming missile of type 2 aimed at target 3 and 3 steps away \n",
      "Incoming missile of type 2 aimed at target 3 and 2 steps away \n",
      "Incoming missile of type 1 aimed at target 2 and 2 steps away \n",
      "Incoming missile of type 1 aimed at target 4 and 1 steps away \n",
      "Launch from 1st terminal launcher: [1] missile(s) launched at missile(s) of type [1] aiming at target(s) [2]\n",
      "Launch from 2nd terminal launcher: [2] missile(s) launched at missile(s) of type [2] aiming at target(s) [3]\n",
      "You destroyed an ennemy missile of type 1 \n",
      "You destroyed an ennemy missile of type 1 \n",
      "Step: 28\n",
      "Incoming missile of type 2 aimed at target 2 and 3 steps away \n",
      "Incoming missile of type 2 aimed at target 3 and 2 steps away \n",
      "Launch from 1st terminal launcher: [3] missile(s) launched at missile(s) of type [2] aiming at target(s) [3]\n",
      "Launch from 2nd terminal launcher: [1] missile(s) launched at missile(s) of type [2] aiming at target(s) [3]\n",
      "You destroyed an ennemy missile of type 2 \n",
      "Step: 29\n",
      "Incoming missile of type 2 aimed at target 2 and 2 steps away \n",
      "No action taken\n",
      "Step: 30\n",
      "Incoming missile of type 2 aimed at target 2 and 1 steps away \n",
      "No action taken\n",
      "-52.345"
     ]
    }
   ],
   "source": [
    "function enemystrategyMDP(rng::AbstractRNG,time::Int)\n",
    "    return(medium(rng,time))\n",
    "end\n",
    "\n",
    "mdp = BMDMDP()\n",
    "\n",
    "r_total=0.0\n",
    "d=1.0\n",
    "rng=MersenneTwister(12345)\n",
    "s=copy(state0)\n",
    "depth=30\n",
    "nmidmcts=[]\n",
    "ntermcts=[]\n",
    "rmcts=[]\n",
    "midfiredmcts=[[0,0,0,0],[0,0,0,0]]\n",
    "ter1firedmcts=[[0,0,0,0],[0,0,0,0]]\n",
    "ter2firedmcts=[[0,0,0,0],[0,0,0,0]]\n",
    "countmidfiredmcts=[[0,0,0,0],[0,0,0,0]]\n",
    "countter1firedmcts=[[0,0,0,0],[0,0,0,0]]\n",
    "countter2firedmcts=[[0,0,0,0],[0,0,0,0]]\n",
    "\n",
    "for i in 1:depth\n",
    "    print(\"Step: \",i,\"\\n\")\n",
    "    if i == ennemyoffense\n",
    "        function enemystrategyMDP(rng::AbstractRNG)\n",
    "            return(noshot(rng))\n",
    "        end\n",
    "        mdp=BMDMDP()\n",
    "    end\n",
    "    if sum(s[k]!=-1 for k in 3*(nmid+nter)+ntargets+1:3*(nmid+nter)+ntargets+ntrack)!=0\n",
    "        indx=0\n",
    "        while s[3*(nmid+nter)+ntargets+1+indx]>0\n",
    "            print(\"Incoming missile of type \",s[3*(nmid+nter)+ntargets+1+indx+2*ntrack],\" aimed at target \",s[3*(nmid+nter)+ntargets+1+indx+ntrack] ,\" and \",s[3*(nmid+nter)+ntargets+1+indx],\" steps away \\n\")\n",
    "            indx+=1\n",
    "        end\n",
    "    end\n",
    "    solver = MCTSSolver(enable_tree_vis=true,n_iterations=500,depth=depth-i,exploration_constant=5.0)\n",
    "    policy=solve(solver,mdp)\n",
    "    a=action(policy,s)\n",
    "    nmidhere=sum(a[s] for s in 1:nmid*ntrack)\n",
    "    nterhere=sum(a[s] for s in 1+nmid*ntrack:nmid*ntrack+nter*ntrack)\n",
    "    push!(nmidmcts,nmidhere)\n",
    "    push!(ntermcts,nterhere)\n",
    "    sp,r=generate_sr(mdp,s,a,rng)\n",
    "    midfired2,ter1fired2,ter2fired2,countmidfired2,countter1fired2,countter2fired2=collect_state(s,a,sp,midfiredmcts,ter1firedmcts,ter2firedmcts,countmidfiredmcts,countter1firedmcts,countter2firedmcts)\n",
    "    midfiredmcts=copy(midfired2)\n",
    "    ter1firedmcts=copy(ter1fired2)\n",
    "    ter2firedmcts=copy(ter2fired2)\n",
    "    countmidfiredmcts=copy(countmidfired2)\n",
    "    countter1firedmcts=copy(countter1fired2)\n",
    "    countter2firedmcts=copy(countter2fired2)\n",
    "    s=copy(sp)\n",
    "    push!(rmcts,r)\n",
    "    r_total+=d*r\n",
    "    d*=discount(mdp)\n",
    "end\n",
    "print(r_total)"
   ]
  },
  {
   "cell_type": "code",
   "execution_count": 0,
   "metadata": {
    "id": "4-uX47Ff6wHU",
    "colab_type": "code",
    "colab": {},
    "outputId": "669c2a53-ec72-4aa1-9595-b50d9231c1a1"
   },
   "outputs": [
    {
     "data": {
      "image/png": "[encoded data removed]",
      "text/plain": [
       "Figure(PyObject <Figure size 640x480 with 1 Axes>)"
      ]
     },
     "metadata": {
      "tags": []
     },
     "output_type": "display_data"
    }
   ],
   "source": [
    "PyPlot.plot(nmidmcts,\"r-\",label=\"MCTS\")\n",
    "PyPlot.plot(nmidbase,\"b-\",label=\"Baseline\")\n",
    "PyPlot.plot(nmidzero,\"g-\",label=\"No action\")\n",
    "PyPlot.legend()\n",
    "PyPlot.title(\"Midcourse missiles fired over time\")\n",
    "PyPlot.ylabel(\"Mid-course fired\")\n",
    "PyPlot.xlabel(\"Step\")\n",
    "PyPlot.show()"
   ]
  },
  {
   "cell_type": "code",
   "execution_count": 0,
   "metadata": {
    "id": "eqyZvbqy6wHV",
    "colab_type": "code",
    "colab": {},
    "outputId": "1b5136a2-78c4-4c56-c2d9-ac88e6fae652"
   },
   "outputs": [
    {
     "data": {
      "image/png": "[encoded data removed]",
      "text/plain": [
       "Figure(PyObject <Figure size 640x480 with 1 Axes>)"
      ]
     },
     "metadata": {
      "tags": []
     },
     "output_type": "display_data"
    }
   ],
   "source": [
    "PyPlot.plot(ntermcts,\"r-\",label=\"MCTS\")\n",
    "PyPlot.plot(nterbase,\"b-\",label=\"Baseline\")\n",
    "PyPlot.plot(nterzero,\"g-\",label=\"No action\")\n",
    "PyPlot.legend()\n",
    "PyPlot.title(\"Terminal missiles fired over time\")\n",
    "PyPlot.ylabel(\"Terminal fired\")\n",
    "PyPlot.xlabel(\"Step\")\n",
    "PyPlot.show()"
   ]
  },
  {
   "cell_type": "code",
   "execution_count": 0,
   "metadata": {
    "id": "tKN0IF9u6wHX",
    "colab_type": "code",
    "colab": {},
    "outputId": "e388cccc-8353-46a5-9cf3-3ad42dbef091"
   },
   "outputs": [
    {
     "data": {
      "image/png": "[encoded data removed]",
      "text/plain": [
       "Figure(PyObject <Figure size 640x480 with 1 Axes>)"
      ]
     },
     "metadata": {
      "tags": []
     },
     "output_type": "display_data"
    }
   ],
   "source": [
    "PyPlot.plot(rmcts,\"r-\",label=\"MCTS\")\n",
    "PyPlot.plot(rbase,\"b-\",label=\"Baseline\")\n",
    "PyPlot.plot(rzero,\"g-\",label=\"No action\")\n",
    "PyPlot.legend()\n",
    "PyPlot.title(\"Rewards observed over time\")\n",
    "PyPlot.ylabel(\"Immediate reward observed\")\n",
    "PyPlot.xlabel(\"Step\")\n",
    "PyPlot.show()"
   ]
  },
  {
   "cell_type": "code",
   "execution_count": 0,
   "metadata": {
    "id": "yiVmU3Hj6wHc",
    "colab_type": "code",
    "colab": {},
    "outputId": "cf20b2d9-82b1-443b-afe3-3d8bacdfae9d"
   },
   "outputs": [
    {
     "data": {
      "image/png": "[encoded data removed]",
      "text/plain": [
       "Figure(PyObject <Figure size 640x480 with 1 Axes>)"
      ]
     },
     "metadata": {
      "tags": []
     },
     "output_type": "display_data"
    }
   ],
   "source": [
    "avgmidfiredmcts=[[0.0,0.0,0.0,0.0],[0.0,0.0,0.0,0.0]]\n",
    "avgter1firedmcts=[[0.0,0.0,0.0,0.0],[0.0,0.0,0.0,0.0]]\n",
    "avgter2firedmcts=[[0.0,0.0,0.0,0.0],[0.0,0.0,0.0,0.0]]\n",
    "avgmidfiredzero=[[0.0,0,0,0],[0,0,0,0]]\n",
    "avgterfiredzero=[[0.0,0,0,0],[0,0,0,0]]\n",
    "avgter1firedzero=[[0.0,0,0,0],[0,0,0,0]]\n",
    "avgter2firedzero=[[0.0,0,0,0],[0,0,0,0]]\n",
    "avgterfiredbase=[[0.0,0,0,0],[0,0,0,0]]\n",
    "avgmidfiredbase=[[0.0,0,0,0],[0,0,0,0]]\n",
    "avgter1firedbase=[[0.0,0,0,0],[0,0,0,0]]\n",
    "avgter2firedbase=[[0.0,0,0,0],[0,0,0,0]]\n",
    "avgterfiredmcts=[[0.0,0,0,0],[0,0,0,0]]\n",
    "\n",
    "for t in 1:ntargets\n",
    "    for m in 1:ntype\n",
    "        avgmidfiredmcts[m][t]=1*countmidfiredmcts[m][t]/max(1,midfiredmcts[m][t])\n",
    "        avgter1firedmcts[m][t]=1*ter1firedmcts[m][t]/max(1,countter1firedmcts[m][t])\n",
    "        avgter2firedmcts[m][t]=1*ter2firedmcts[m][t]/max(1,countter2firedmcts[m][t])\n",
    "        avgmidfiredzero[m][t]=1*countmidfiredzero[m][t]/max(1,midfiredzero[m][t])\n",
    "        avgter1firedzero[m][t]=1*ter1firedzero[m][t]/max(1,countter1firedzero[m][t])\n",
    "        avgter2firedzero[m][t]=1*ter2firedzero[m][t]/max(1,countter2firedzero[m][t])\n",
    "        avgmidfiredbase[m][t]=1*countmidfiredbase[m][t]/max(1,midfiredbase[m][t])\n",
    "        avgter1firedbase[m][t]=1*ter1firedbase[m][t]/max(1,countter1firedbase[m][t])\n",
    "        avgter2firedbase[m][t]=1*ter2firedbase[m][t]/max(1,countter2firedbase[m][t])\n",
    "    end\n",
    "end\n",
    "        \n",
    "avgterfirebase=0.5*(avgter1firedbase+avgter2firedbase)\n",
    "avgterfiredzero=0.5*(avgter1firedzero+avgter2firedzero)\n",
    "avgterfiredmcts=0.5*(avgter1firedmcts+avgter2firedmcts)\n",
    "\n",
    "barwidth=0.1\n",
    "t=[1,2,3,4]\n",
    "W=[barwidth,barwidth,barwidth,barwidth]\n",
    "\n",
    "PyPlot.bar(x=t,height=avgterfiredmcts[1],color=\"r\",width=barwidth,label=\"type 1, MCTS, ter\")\n",
    "PyPlot.bar(x=t+W,height=avgmidfiredmcts[1],color=\"b\",width=barwidth,label=\"type 1, MCTS, mid\")\n",
    "PyPlot.bar(x=t+2*W,height=avgterfiredmcts[2],color=\"g\",width=barwidth,label=\"type 2, MCTS, ter\")\n",
    "PyPlot.bar(x=t+3*W,height=avgmidfiredmcts[2],width=barwidth,color=\"y\",label=\"type 2, MCTS, mid\")\n",
    "PyPlot.legend()\n",
    "PyPlot.title(\"Missiles fired at each target\")\n",
    "PyPlot.xticks(t+W,t)\n",
    "PyPlot.ylabel(\"Average number of shots\")\n",
    "PyPlot.xlabel(\"Target\")\n",
    "PyPlot.show()"
   ]
  },
  {
   "cell_type": "code",
   "execution_count": 0,
   "metadata": {
    "id": "dp2AL_sy6wHf",
    "colab_type": "code",
    "colab": {},
    "outputId": "a3f7d8bf-1e8c-4433-e766-75552b8e1e05"
   },
   "outputs": [
    {
     "name": "stdout",
     "output_type": "stream",
     "text": [
      "-183.02452832728295-86.60999259849547-233.02452832728295-250.0427394825839-66.24898681392365-101.0-147.6516308391557-149.50319183766914-132.02452832728295-198.6516308391557-168.24641612942165-133.02452832728295-152.0-82.02452832728295-186.4615535970089-180.7612509775651-218.24641612942165-235.72559700909153-152.0-168.24641612942165-33.02452832728295-115.24898681392365-233.02452832728295-83.02452832728295-155.73721077741018-52.0-255.73721077741018-199.5031918376691-30.76125097756512-51.0-149.50319183766914-464.1322871284632-84.46155359700889-136.60999259849547-48.503191837669114-133.02452832728295-83.02452832728295-2.0-98.50319183766912-183.02452832728295-248.5031918376691-249.12168847827613-98.65163083915569-2.0-182.02452832728295-116.24898681392365-267.2464161294216-202.0-52.0-32.02452832728295-151.0-215.24898681392364-168.24641612942165-196.77383263673406-268.2464161294216-130.7612509775651-16.248986813923644-248.6516308391557-185.72559700909153-201.0-205.73721077741018-165.24898681392364-132.02452832728295-198.50319183766914-233.02452832728295-52.0-30.76125097756512-86.46155359700889-83.02452832728295-133.02452832728295-51.0-117.24641612942165-206.73721077741018-282.02452832728295-149.50319183766914-51.0-155.70695092100317-33.02452832728295-221.4437756042774-167.24641612942165-183.02452832728295-171.4437756042774-151.0-116.24641612942165-68.24641612942165-116.24898681392365-130.7612509775651-67.24641612942165-115.24898681392365-217.24641612942165-67.24641612942165-168.24641612942165-216.24898681392364-133.02452832728295-232.02452832728295-182.02452832728295-249.5031918376691-65.24898681392365-83.02452832728295-133.02452832728295"
     ]
    }
   ],
   "source": [
    "function enemystrategyMDP(rng::AbstractRNG,time::Int)\n",
    "    return(medium(rng,time))\n",
    "end\n",
    "\n",
    "mdp = BMDMDP()\n",
    "\n",
    "# policy that maps every input to no action\n",
    "policy = FunctionPolicy(o->action0)\n",
    "\n",
    "d=1.0\n",
    "rng=MersenneTwister(123)\n",
    "depth=32\n",
    "ennemyoffense=20\n",
    "nmidzero=[]\n",
    "nterzero=[]\n",
    "rzero=[]\n",
    "midfiredzero=[[0,0,0,0],[0,0,0,0]]\n",
    "ter1firedzero=[[0,0,0,0],[0,0,0,0]]\n",
    "ter2firedzero=[[0,0,0,0],[0,0,0,0]]\n",
    "countmidfiredzero=[[0,0,0,0],[0,0,0,0]]\n",
    "countter1firedzero=[[0,0,0,0],[0,0,0,0]]\n",
    "countter2firedzero=[[0,0,0,0],[0,0,0,0]]\n",
    "\n",
    "for rep in 1:100\n",
    "    s=copy(state0)\n",
    "    r_total=0.0\n",
    "    for i in 1:depth\n",
    "        a=action(policy,s)\n",
    "        nmidhere=sum(a[s] for s in 1:nmid*ntrack)\n",
    "        nterhere=sum(a[s] for s in 1+nmid*ntrack:nmid*ntrack+nter*ntrack)\n",
    "        push!(nmidzero,nmidhere)\n",
    "        push!(nterzero,nterhere)\n",
    "        sp,r=generate_sr(mdp,s,a,rng)\n",
    "        midfired2,ter1fired2,ter2fired2,countmidfired2,countter1fired2,countter2fired2=collect_state2(s,a,sp,midfiredzero,ter1firedzero,ter2firedzero,countmidfiredzero,countter1firedzero,countter2firedzero)\n",
    "        midfiredzero=copy(midfired2)\n",
    "        ter1firedzero=copy(ter1fired2)\n",
    "        ter2firedzero=copy(ter2fired2)\n",
    "        countmidfiredzero=copy(countmidfired2)\n",
    "        countter1firedzero=copy(countter1fired2)\n",
    "        countter2firedzero=copy(countter2fired2)\n",
    "        s=copy(sp)\n",
    "        r_total+=d*r\n",
    "        push!(rzero,r)\n",
    "        d*=discount(mdp)\n",
    "    end\n",
    "    push!(rtotalzero,r_total)\n",
    "    print(r_total)\n",
    "end"
   ]
  },
  {
   "cell_type": "code",
   "execution_count": 0,
   "metadata": {
    "id": "qhUNmuwY6wHh",
    "colab_type": "code",
    "colab": {},
    "outputId": "15e4386a-cdde-44cc-9999-26c5cb383432"
   },
   "outputs": [
    {
     "name": "stdout",
     "output_type": "stream",
     "text": [
      "-14.688986813923645-102.58000000000001-0.29000000000000004-14.773986813923646-2.225-51.435-1.345-1.265-0.43500000000000005-251.29-0.43500000000000005-15.983986813923645-0.585-2.1350000000000002-50.725-1.525-167.17898681392364-1.23-0.43000000000000005-2.625-0.43000000000000005-0.52-1.4149999999999994-65.92398681392365-100.42499999999998-1.03-0.22000000000000003-50.61-51.25-1.91-1.525-0.6050000000000001-2.015-2.525-51.635-1.5100000000000002-0.51-0.30500000000000005-52.335-102.53999999999999-65.76398681392365-1.4250000000000003-51.355-51.735-14.778986813923645-50.35-0.42500000000000004-2.7050000000000005-16.158986813923644-0.42000000000000004-50.415000000000006-15.583986813923644-50.495000000000005-14.778986813923645-0.43000000000000005-50.335-0.3350000000000001-51.535000000000004-101.33000000000001-101.52-0.495-51.435-65.67398681392365-51.245-1.48-0.1-0.625-50.34-50.714999999999996-0.425-14.678986813923645-0.7100000000000001-0.9149999999999999-1.8199999999999998-0.52-1.365-50.305-51.43-65.97398681392364-50.53-15.488986813923647-67.07398681392365-96.80835348943785-2.03-51.725-0.41500000000000004-50.315-150.72500000000002-51.42-0.34500000000000003-102.61999999999998-0.42500000000000004-50.63-14.683986813923646-51.36-1.415-66.98398681392364-2.3400000000000003-51.32-50.52"
     ]
    }
   ],
   "source": [
    "function enemystrategyMDP(rng::AbstractRNG,time::Int)\n",
    "    return(medium(rng,time))\n",
    "end\n",
    "\n",
    "mdp = BMDMDP()\n",
    "\n",
    "\n",
    "rtotalbase=[]\n",
    "d=1.0\n",
    "rng=MersenneTwister(123)\n",
    "depth=32\n",
    "nmidbase=[]\n",
    "nterbase=[]\n",
    "rbase=[]\n",
    "midfiredbase=[[0,0,0,0],[0,0,0,0]]\n",
    "ter1firedbase=[[0,0,0,0],[0,0,0,0]]\n",
    "ter2firedbase=[[0,0,0,0],[0,0,0,0]]\n",
    "countmidfiredbase=[[0,0,0,0],[0,0,0,0]]\n",
    "countter1firedbase=[[0,0,0,0],[0,0,0,0]]\n",
    "countter2firedbase=[[0,0,0,0],[0,0,0,0]]\n",
    "\n",
    "for rep in 1:100\n",
    "    s=copy(state0)\n",
    "    r_total=0.0\n",
    "    for i in 1:depth\n",
    "        a=baseline(s)\n",
    "        nmidhere=sum(a[s] for s in 1:nmid*ntrack)\n",
    "        nterhere=sum(a[s] for s in 1+nmid*ntrack:nmid*ntrack+nter*ntrack)\n",
    "        push!(nmidbase,nmidhere)\n",
    "        push!(nterbase,nterhere)\n",
    "        sp,r=generate_sr(mdp,s,a,rng)\n",
    "        midfired2,ter1fired2,ter2fired2,countmidfired2,countter1fired2,countter2fired2=collect_state2(s,a,sp,midfiredbase,ter1firedbase,ter2firedbase,countmidfiredbase,countter1firedbase,countter2firedbase)\n",
    "        midfiredbase=copy(midfired2)\n",
    "        ter1firedbase=copy(ter1fired2)\n",
    "        ter2firedbase=copy(ter2fired2)\n",
    "        countmidfiredbase=copy(countmidfired2)\n",
    "        countter1firedbase=copy(countter1fired2)\n",
    "        countter2firedbase=copy(countter2fired2)\n",
    "        s=copy(sp)\n",
    "        r_total+=d*r\n",
    "        push!(rbase,r)\n",
    "        d*=discount(mdp)\n",
    "    end\n",
    "    push!(rtotalbase,r_total)\n",
    "    print(r_total)\n",
    "end"
   ]
  },
  {
   "cell_type": "code",
   "execution_count": 0,
   "metadata": {
    "id": "yWxSmPwz6wHk",
    "colab_type": "code",
    "colab": {},
    "outputId": "40100ca6-fd41-4463-c6f7-c18986426b04"
   },
   "outputs": [
    {
     "name": "stdout",
     "output_type": "stream",
     "text": [
      "-2.685-1.6149999999999998-2.16-31.60452832728295-101.29999999999998-52.495000000000005-1.4249999999999998-0.7950000000000003-2.24-84.19452832728295-2.895-0.8200000000000001-2.805-2.7300000000000004-3.19-16.573986813923643-52.324999999999996-2.8449999999999998-53.63999999999999-2.325-2.1300000000000003-1.3099999999999998-17.608986813923643-50.93500000000001-2.41-1.9749999999999999-3.65-3.2649999999999997-3.6200000000000006-18.853986813923644-1.8599999999999999-0.4900000000000001-1.435-14.628986813923644-3.035-2.37-51.51999999999999-16.858986813923647-16.973986813923645-1.76-3.3-1.535-52.105000000000004-15.713986813923647-53.145-1.9849999999999999-1.8049999999999997-1.6849999999999998-0.4650000000000001-2.7399999999999993-1.1400000000000001-2.085-3.3200000000000003-50.42-2.6050000000000004-0.8500000000000002-1.8099999999999998-15.823986813923645-0.38000000000000006-2.44-0.8000000000000003-2.12-2.675-15.998986813923645-0.505-33.32125097756513-3.845-52.5-1.23-1.9799999999999998-51.464999999999996-17.288986813923646-103.05-0.5650000000000002-0.6950000000000002-83.84625097756512-16.363986813923646-0.8450000000000003-31.55125097756512-1.36-1.035-16.208986813923644-16.873986813923644-15.093986813923644-1.37-2.39-2.03-3.385-15.343986813923644-1.21-52.93-1.7049999999999996-3.765-1.665-53.17499999999998-1.01-15.368986813923645-0.9400000000000002-51.68-1.2099999999999997"
     ]
    }
   ],
   "source": [
    "function enemystrategyMDP(rng::AbstractRNG,time::Int)\n",
    "    return(medium(rng,time))\n",
    "end\n",
    "\n",
    "mdp = BMDMDP()\n",
    "\n",
    "rtotalmcts=[]\n",
    "d=1.0\n",
    "rng=MersenneTwister(123)\n",
    "depth=32\n",
    "nmidmcts=[]\n",
    "ntermcts=[]\n",
    "rmcts=[]\n",
    "midfiredmcts=[[0,0,0,0],[0,0,0,0]]\n",
    "ter1firedmcts=[[0,0,0,0],[0,0,0,0]]\n",
    "ter2firedmcts=[[0,0,0,0],[0,0,0,0]]\n",
    "countmidfiredmcts=[[0,0,0,0],[0,0,0,0]]\n",
    "countter1firedmcts=[[0,0,0,0],[0,0,0,0]]\n",
    "countter2firedmcts=[[0,0,0,0],[0,0,0,0]]\n",
    "\n",
    "for rep in 1:100\n",
    "    s=copy(state0)\n",
    "    r_total=0.0\n",
    "    for i in 1:depth\n",
    "        solver = MCTSSolver(enable_tree_vis=true,n_iterations=500,depth=depth-i,exploration_constant=5.0)\n",
    "        policy=solve(solver,mdp)\n",
    "        a=action(policy,s)       \n",
    "        nmidhere=sum(a[s] for s in 1:nmid*ntrack)\n",
    "        nterhere=sum(a[s] for s in 1+nmid*ntrack:nmid*ntrack+nter*ntrack)\n",
    "        push!(nmidmcts,nmidhere)\n",
    "        push!(ntermcts,nterhere)\n",
    "        sp,r=generate_sr(mdp,s,a,rng)\n",
    "        midfired2,ter1fired2,ter2fired2,countmidfired2,countter1fired2,countter2fired2=collect_state2(s,a,sp,midfiredmcts,ter1firedmcts,ter2firedmcts,countmidfiredmcts,countter1firedmcts,countter2firedmcts)\n",
    "        midfiredmcts=copy(midfired2)\n",
    "        ter1firedmcts=copy(ter1fired2)\n",
    "        ter2firedmcts=copy(ter2fired2)\n",
    "        countmidfiredmcts=copy(countmidfired2)\n",
    "        countter1firedmcts=copy(countter1fired2)\n",
    "        countter2firedmcts=copy(countter2fired2)\n",
    "        s=copy(sp)\n",
    "        r_total+=d*r\n",
    "        push!(rmcts,r)\n",
    "        d*=discount(mdp)\n",
    "    end\n",
    "    push!(rtotalmcts,r_total)\n",
    "    print(r_total)\n",
    "end"
   ]
  },
  {
   "cell_type": "code",
   "execution_count": 0,
   "metadata": {
    "id": "Ll899M2u6wHm",
    "colab_type": "code",
    "colab": {},
    "outputId": "1a7b4a47-893e-4114-f93c-79a9c4e6b07b"
   },
   "outputs": [
    {
     "data": {
      "image/png": "[encoded data removed]",
      "text/plain": [
       "Figure(PyObject <Figure size 640x480 with 1 Axes>)"
      ]
     },
     "metadata": {
      "tags": []
     },
     "output_type": "display_data"
    }
   ],
   "source": [
    "avgmidfiredmcts=[[0.0,0.0,0.0,0.0],[0.0,0.0,0.0,0.0]]\n",
    "avgter1firedmcts=[[0.0,0.0,0.0,0.0],[0.0,0.0,0.0,0.0]]\n",
    "avgter2firedmcts=[[0.0,0.0,0.0,0.0],[0.0,0.0,0.0,0.0]]\n",
    "avgmidfiredzero=[[0.0,0,0,0],[0,0,0,0]]\n",
    "avgterfiredzero=[[0.0,0,0,0],[0,0,0,0]]\n",
    "avgter1firedzero=[[0.0,0,0,0],[0,0,0,0]]\n",
    "avgter2firedzero=[[0.0,0,0,0],[0,0,0,0]]\n",
    "avgterfiredbase=[[0.0,0,0,0],[0,0,0,0]]\n",
    "avgmidfiredbase=[[0.0,0,0,0],[0,0,0,0]]\n",
    "avgter1firedbase=[[0.0,0,0,0],[0,0,0,0]]\n",
    "avgter2firedbase=[[0.0,0,0,0],[0,0,0,0]]\n",
    "avgterfiredmcts=[[0.0,0,0,0],[0,0,0,0]]\n",
    "\n",
    "for t in 1:ntargets\n",
    "    for m in 1:ntype\n",
    "        avgmidfiredmcts[m][t]=1*countmidfiredmcts[m][t]/max(1,midfiredmcts[m][t])\n",
    "        avgter1firedmcts[m][t]=1*ter1firedmcts[m][t]/max(1,countter1firedmcts[m][t])\n",
    "        avgter2firedmcts[m][t]=1*ter2firedmcts[m][t]/max(1,countter2firedmcts[m][t])\n",
    "        avgmidfiredzero[m][t]=1*countmidfiredzero[m][t]/max(1,midfiredzero[m][t])\n",
    "        avgter1firedzero[m][t]=1*ter1firedzero[m][t]/max(1,countter1firedzero[m][t])\n",
    "        avgter2firedzero[m][t]=1*ter2firedzero[m][t]/max(1,countter2firedzero[m][t])\n",
    "        avgmidfiredbase[m][t]=1*countmidfiredbase[m][t]/max(1,midfiredbase[m][t])\n",
    "        avgter1firedbase[m][t]=1*ter1firedbase[m][t]/max(1,countter1firedbase[m][t])\n",
    "        avgter2firedbase[m][t]=1*ter2firedbase[m][t]/max(1,countter2firedbase[m][t])\n",
    "    end\n",
    "end\n",
    "        \n",
    "avgterfirebase=0.5*(avgter1firedbase+avgter2firedbase)\n",
    "avgterfiredzero=0.5*(avgter1firedzero+avgter2firedzero)\n",
    "avgterfiredmcts=0.5*(avgter1firedmcts+avgter2firedmcts)\n",
    "\n",
    "barwidth=0.1\n",
    "t=[1,2,3,4]\n",
    "W=[barwidth,barwidth,barwidth,barwidth]\n",
    "\n",
    "PyPlot.bar(x=t,height=avgterfiredmcts[1],color=\"r\",width=barwidth,label=\"type 1, MCTS, ter\")\n",
    "PyPlot.bar(x=t+W,height=avgmidfiredmcts[1],color=\"b\",width=barwidth,label=\"type 1, MCTS, mid\")\n",
    "PyPlot.bar(x=t+2*W,height=avgterfiredmcts[2],color=\"g\",width=barwidth,label=\"type 2, MCTS, ter\")\n",
    "PyPlot.bar(x=t+3*W,height=avgmidfiredmcts[2],width=barwidth,color=\"y\",label=\"type 2, MCTS, mid\")\n",
    "PyPlot.legend()\n",
    "PyPlot.title(\"Missiles fired at each target\")\n",
    "PyPlot.xticks(t+W,t)\n",
    "PyPlot.ylabel(\"Average number of shots\")\n",
    "PyPlot.xlabel(\"Target\")\n",
    "PyPlot.show()"
   ]
  },
  {
   "cell_type": "code",
   "execution_count": 0,
   "metadata": {
    "id": "DTmuIOes6wHn",
    "colab_type": "code",
    "colab": {},
    "outputId": "f58a3e65-7882-44f0-fc4e-ebce7943f945"
   },
   "outputs": [
    {
     "data": {
      "image/png": "[encoded data removed]",
      "text/plain": [
       "Figure(PyObject <Figure size 640x480 with 1 Axes>)"
      ]
     },
     "metadata": {
      "tags": []
     },
     "output_type": "display_data"
    },
    {
     "name": "stdout",
     "output_type": "stream",
     "text": [
      "Mean total reward for MTCTS is -0.47909424956563706\n",
      "Mean total reward for base is -1.0167878529144188\n",
      "Mean total reward for no action is -4.584113793715044\n"
     ]
    }
   ],
   "source": [
    "print(\"Mean total reward for MTCTS is \",mean(rmcts),\"\\n\")\n",
    "print(\"Mean total reward for base is \",mean(rbase),\"\\n\")\n",
    "print(\"Mean total reward for no action is \",mean(rzero),\"\\n\")\n",
    "PyPlot.plot(rmcts,\"ro\",label=\"MCTS\")\n",
    "PyPlot.plot(rbase,\"bo\",label=\"Baseline\")\n",
    "# PyPlot.plot(rzero,\"go\",label=\"No action\")\n",
    "PyPlot.legend()\n",
    "PyPlot.title(\"Rewards observed\")\n",
    "PyPlot.ylabel(\"Total reward\")\n",
    "PyPlot.xlabel(\"Simulation\")\n",
    "PyPlot.show()"
   ]
  },
  {
   "cell_type": "markdown",
   "metadata": {
    "id": "9q8FNiAH6wHq",
    "colab_type": "text"
   },
   "source": [
    "# Evaluating the large strategy\n",
    "\n",
    "Shoots with probability 2/3\n",
    "When does shoot shoots up to 6 missiles, 4 to 6 with pbty 1/9, 1 or 3 with pbt 1/6 and 2 with pbty 1/3.\n",
    "Half are launched at target 1, 1/6 at others"
   ]
  },
  {
   "cell_type": "code",
   "execution_count": 0,
   "metadata": {
    "id": "Yf8Co_156wHr",
    "colab_type": "code",
    "colab": {}
   },
   "outputs": [],
   "source": [
    "function large(rng::AbstractRNG,time::Int)\n",
    "    pshoot=rand(rng)   \n",
    "    if pshoot<1/3 || time>20\n",
    "        return([],[],[])\n",
    "    end\n",
    "    pdumb=rand(rng)\n",
    "    pnum=rand(rng)\n",
    "    if pnum<1/3\n",
    "        num=2\n",
    "    elseif pnum<1/3+1/6\n",
    "        num=3\n",
    "    elseif pnum<2/3\n",
    "        num=1\n",
    "    elseif pnum<2/3+1/9\n",
    "        num=6\n",
    "    elseif pnum<2/3+2/9\n",
    "        num=5\n",
    "    else\n",
    "        num=4\n",
    "    end\n",
    "    mtype=[]\n",
    "    time=[]\n",
    "    tgt=[]\n",
    "    for i in 1:num\n",
    "        pdumb=rand(rng)\n",
    "        if pdumb<1/2\n",
    "            push!(tgt,1)\n",
    "            push!(mtype,1)\n",
    "            push!(time,8)\n",
    "        else\n",
    "            tgthere=trunc(Int,3*rand(rng))+2\n",
    "            mtypehere=1\n",
    "            timehere=8\n",
    "            if tgthere==2\n",
    "                mtypehere=2\n",
    "                timehere=10\n",
    "            end\n",
    "            push!(tgt,tgthere)\n",
    "            push!(mtype,mtypehere)\n",
    "            push!(time,timehere)\n",
    "        end\n",
    "    end\n",
    "    return(time,tgt,mtype)\n",
    "end"
   ]
  },
  {
   "cell_type": "code",
   "execution_count": 0,
   "metadata": {
    "id": "Cs_duCY16wHs",
    "colab_type": "code",
    "colab": {}
   },
   "outputs": [],
   "source": [
    "function enemystrategyMDP(rng::AbstractRNG,time::Int)\n",
    "    return(large(rng,time))\n",
    "end\n",
    "\n",
    "mdp = BMDMDP()\n",
    "\n",
    "# policy that maps every input to no action\n",
    "policy = FunctionPolicy(o->action0)\n",
    "\n",
    "r_total=0.0\n",
    "d=1.0\n",
    "rng=MersenneTwister(12345)\n",
    "s=copy(state0)\n",
    "depth=32\n",
    "nmidzero=[]\n",
    "nterzero=[]\n",
    "rzero=[]\n",
    "midfiredzero=[[0,0,0,0],[0,0,0,0]]\n",
    "ter1firedzero=[[0,0,0,0],[0,0,0,0]]\n",
    "ter2firedzero=[[0,0,0,0],[0,0,0,0]]\n",
    "countmidfiredzero=[[0,0,0,0],[0,0,0,0]]\n",
    "countter1firedzero=[[0,0,0,0],[0,0,0,0]]\n",
    "countter2firedzero=[[0,0,0,0],[0,0,0,0]]\n",
    "\n",
    "for i in 1:depth\n",
    "    \n",
    "    print(\"Step: \",i,\"\\n\")\n",
    "    if sum(s[k]!=-1 for k in 3*(nmid+nter)+ntargets+1:3*(nmid+nter)+ntargets+ntrack)!=0\n",
    "        indx=0\n",
    "        while s[3*(nmid+nter)+ntargets+1+indx]>0\n",
    "            print(\"Incoming missile of type \",s[3*(nmid+nter)+ntargets+1+indx+2*ntrack],\" aimed at target \",s[3*(nmid+nter)+ntargets+1+indx+ntrack] ,\" and \",s[3*(nmid+nter)+ntargets+1+indx],\" steps away \\n\")\n",
    "            indx+=1\n",
    "        end\n",
    "    end\n",
    "    a=action(policy,s)\n",
    "    nmidhere=sum(a[s] for s in 1:nmid*ntrack)\n",
    "    nterhere=sum(a[s] for s in 1+nmid*ntrack:nmid*ntrack+nter*ntrack)\n",
    "    push!(nmidzero,nmidhere)\n",
    "    push!(nterzero,nterhere)\n",
    "    sp,r=generate_sr(mdp,s,a,rng)\n",
    "    midfired2,ter1fired2,ter2fired2,countmidfired2,countter1fired2,countter2fired2=collect_state(s,a,sp,midfiredzero,ter1firedzero,ter2firedzero,countmidfiredzero,countter1firedzero,countter2firedzero)\n",
    "    midfiredzero=copy(midfired2)\n",
    "    ter1firedzero=copy(ter1fired2)\n",
    "    ter2firedzero=copy(ter2fired2)\n",
    "    countmidfiredzero=copy(countmidfired2)\n",
    "    countter1firedzero=copy(countter1fired2)\n",
    "    countter2firedzero=copy(countter2fired2)\n",
    "    s=copy(sp)\n",
    "    r_total+=d*r\n",
    "    push!(rzero,r)\n",
    "    d*=discount(mdp)\n",
    "end\n",
    "print(r_total)"
   ]
  },
  {
   "cell_type": "code",
   "execution_count": 0,
   "metadata": {
    "id": "Iiqor7a36wHt",
    "colab_type": "code",
    "colab": {}
   },
   "outputs": [],
   "source": [
    "function enemystrategyMDP(rng::AbstractRNG,time::Int)\n",
    "    return(large(rng,time))\n",
    "end\n",
    "\n",
    "mdp = BMDMDP()\n",
    "\n",
    "r_total=0.0\n",
    "d=1.0\n",
    "rng=MersenneTwister(12345)\n",
    "s=copy(state0)\n",
    "depth=32\n",
    "nmidbase=[]\n",
    "nterbase=[]\n",
    "rbase=[]\n",
    "midfiredbase=[[0,0,0,0],[0,0,0,0]]\n",
    "ter1firedbase=[[0,0,0,0],[0,0,0,0]]\n",
    "ter2firedbase=[[0,0,0,0],[0,0,0,0]]\n",
    "countmidfiredbase=[[0,0,0,0],[0,0,0,0]]\n",
    "countter1firedbase=[[0,0,0,0],[0,0,0,0]]\n",
    "countter2firedbase=[[0,0,0,0],[0,0,0,0]]\n",
    "\n",
    "for i in 1:depth\n",
    "    \n",
    "    print(\"Step: \",i,\"\\n\")\n",
    "    if sum(s[k]!=-1 for k in 3*(nmid+nter)+ntargets+1:3*(nmid+nter)+ntargets+ntrack)!=0\n",
    "        indx=0\n",
    "        while s[3*(nmid+nter)+ntargets+1+indx]>0\n",
    "            print(\"Incoming missile of type \",s[3*(nmid+nter)+ntargets+1+indx+2*ntrack],\" aimed at target \",s[3*(nmid+nter)+ntargets+1+indx+ntrack] ,\" and \",s[3*(nmid+nter)+ntargets+1+indx],\" steps away \\n\")\n",
    "            indx+=1\n",
    "        end\n",
    "    end\n",
    "    a=baseline(s)\n",
    "    nmidhere=sum(a[s] for s in 1:nmid*ntrack)\n",
    "    nterhere=sum(a[s] for s in 1+nmid*ntrack:nmid*ntrack+nter*ntrack)\n",
    "    push!(nmidbase,nmidhere)\n",
    "    push!(nterbase,nterhere)\n",
    "    sp,r=generate_sr(mdp,s,a,rng)\n",
    "    midfired2,ter1fired2,ter2fired2,countmidfired2,countter1fired2,countter2fired2=collect_state(s,a,sp,midfiredbase,ter1firedbase,ter2firedbase,countmidfiredbase,countter1firedbase,countter2firedbase)\n",
    "    midfiredbase=copy(midfired2)\n",
    "    ter1firedbase=copy(ter1fired2)\n",
    "    ter2firedbase=copy(ter2fired2)\n",
    "    countmidfiredbase=copy(countmidfired2)\n",
    "    countter1firedbase=copy(countter1fired2)\n",
    "    countter2firedbase=copy(countter2fired2)\n",
    "    s=copy(sp)\n",
    "    r_total+=d*r\n",
    "    push!(rbase,r)\n",
    "    d*=discount(mdp)\n",
    "end\n",
    "print(r_total)"
   ]
  },
  {
   "cell_type": "code",
   "execution_count": 0,
   "metadata": {
    "id": "_bkynDKH6wHu",
    "colab_type": "code",
    "colab": {}
   },
   "outputs": [],
   "source": [
    "function enemystrategyMDP(rng::AbstractRNG,time::Int)\n",
    "    return(large(rng,time))\n",
    "end\n",
    "\n",
    "mdp = BMDMDP()\n",
    "\n",
    "r_total=0.0\n",
    "d=1.0\n",
    "rng=MersenneTwister(12345)\n",
    "s=copy(state0)\n",
    "depth=30\n",
    "nmidmcts=[]\n",
    "ntermcts=[]\n",
    "rmcts=[]\n",
    "midfiredmcts=[[0,0,0,0],[0,0,0,0]]\n",
    "ter1firedmcts=[[0,0,0,0],[0,0,0,0]]\n",
    "ter2firedmcts=[[0,0,0,0],[0,0,0,0]]\n",
    "countmidfiredmcts=[[0,0,0,0],[0,0,0,0]]\n",
    "countter1firedmcts=[[0,0,0,0],[0,0,0,0]]\n",
    "countter2firedmcts=[[0,0,0,0],[0,0,0,0]]\n",
    "\n",
    "for i in 1:depth\n",
    "    print(\"Step: \",i,\"\\n\")\n",
    "    if i == ennemyoffense\n",
    "        function enemystrategyMDP(rng::AbstractRNG)\n",
    "            return(noshot(rng))\n",
    "        end\n",
    "        mdp=BMDMDP()\n",
    "    end\n",
    "    if sum(s[k]!=-1 for k in 3*(nmid+nter)+ntargets+1:3*(nmid+nter)+ntargets+ntrack)!=0\n",
    "        indx=0\n",
    "        while s[3*(nmid+nter)+ntargets+1+indx]>0\n",
    "            print(\"Incoming missile of type \",s[3*(nmid+nter)+ntargets+1+indx+2*ntrack],\" aimed at target \",s[3*(nmid+nter)+ntargets+1+indx+ntrack] ,\" and \",s[3*(nmid+nter)+ntargets+1+indx],\" steps away \\n\")\n",
    "            indx+=1\n",
    "        end\n",
    "    end\n",
    "    solver = MCTSSolver(enable_tree_vis=true,n_iterations=500,depth=depth-i,exploration_constant=5.0)\n",
    "    policy=solve(solver,mdp)\n",
    "    a=action(policy,s)\n",
    "    nmidhere=sum(a[s] for s in 1:nmid*ntrack)\n",
    "    nterhere=sum(a[s] for s in 1+nmid*ntrack:nmid*ntrack+nter*ntrack)\n",
    "    push!(nmidmcts,nmidhere)\n",
    "    push!(ntermcts,nterhere)\n",
    "    sp,r=generate_sr(mdp,s,a,rng)\n",
    "    midfired2,ter1fired2,ter2fired2,countmidfired2,countter1fired2,countter2fired2=collect_state(s,a,sp,midfiredmcts,ter1firedmcts,ter2firedmcts,countmidfiredmcts,countter1firedmcts,countter2firedmcts)\n",
    "    midfiredmcts=copy(midfired2)\n",
    "    ter1firedmcts=copy(ter1fired2)\n",
    "    ter2firedmcts=copy(ter2fired2)\n",
    "    countmidfiredmcts=copy(countmidfired2)\n",
    "    countter1firedmcts=copy(countter1fired2)\n",
    "    countter2firedmcts=copy(countter2fired2)\n",
    "    s=copy(sp)\n",
    "    push!(rmcts,r)\n",
    "    r_total+=d*r\n",
    "    d*=discount(mdp)\n",
    "end\n",
    "print(r_total)"
   ]
  },
  {
   "cell_type": "code",
   "execution_count": 0,
   "metadata": {
    "id": "EwtQv1vW6wHw",
    "colab_type": "code",
    "colab": {}
   },
   "outputs": [],
   "source": [
    "PyPlot.plot(nmidmcts,\"r-\",label=\"MCTS\")\n",
    "PyPlot.plot(nmidbase,\"b-\",label=\"Baseline\")\n",
    "PyPlot.plot(nmidzero,\"g-\",label=\"No action\")\n",
    "PyPlot.legend()\n",
    "PyPlot.title(\"Midcourse missiles fired over time\")\n",
    "PyPlot.ylabel(\"Mid-course fired\")\n",
    "PyPlot.xlabel(\"Step\")\n",
    "PyPlot.show()"
   ]
  },
  {
   "cell_type": "code",
   "execution_count": 0,
   "metadata": {
    "id": "rqfT9pkc6wHx",
    "colab_type": "code",
    "colab": {}
   },
   "outputs": [],
   "source": [
    "PyPlot.plot(ntermcts,\"r-\",label=\"MCTS\")\n",
    "PyPlot.plot(nterbase,\"b-\",label=\"Baseline\")\n",
    "PyPlot.plot(nterzero,\"g-\",label=\"No action\")\n",
    "PyPlot.legend()\n",
    "PyPlot.title(\"Terminal missiles fired over time\")\n",
    "PyPlot.ylabel(\"Terminal fired\")\n",
    "PyPlot.xlabel(\"Step\")\n",
    "PyPlot.show()"
   ]
  },
  {
   "cell_type": "code",
   "execution_count": 0,
   "metadata": {
    "id": "W6Zl9tQE6wH0",
    "colab_type": "code",
    "colab": {}
   },
   "outputs": [],
   "source": [
    "PyPlot.plot(rmcts,\"r-\",label=\"MCTS\")\n",
    "PyPlot.plot(rbase,\"b-\",label=\"Baseline\")\n",
    "PyPlot.plot(rzero,\"g-\",label=\"No action\")\n",
    "PyPlot.legend()\n",
    "PyPlot.title(\"Rewards observed over time\")\n",
    "PyPlot.ylabel(\"Immediate reward observed\")\n",
    "PyPlot.xlabel(\"Step\")\n",
    "PyPlot.show()"
   ]
  },
  {
   "cell_type": "code",
   "execution_count": 0,
   "metadata": {
    "id": "t2WzB-kj6wH1",
    "colab_type": "code",
    "colab": {}
   },
   "outputs": [],
   "source": [
    "avgmidfiredmcts=[[0.0,0.0,0.0,0.0],[0.0,0.0,0.0,0.0]]\n",
    "avgter1firedmcts=[[0.0,0.0,0.0,0.0],[0.0,0.0,0.0,0.0]]\n",
    "avgter2firedmcts=[[0.0,0.0,0.0,0.0],[0.0,0.0,0.0,0.0]]\n",
    "avgmidfiredzero=[[0.0,0,0,0],[0,0,0,0]]\n",
    "avgterfiredzero=[[0.0,0,0,0],[0,0,0,0]]\n",
    "avgter1firedzero=[[0.0,0,0,0],[0,0,0,0]]\n",
    "avgter2firedzero=[[0.0,0,0,0],[0,0,0,0]]\n",
    "avgterfiredbase=[[0.0,0,0,0],[0,0,0,0]]\n",
    "avgmidfiredbase=[[0.0,0,0,0],[0,0,0,0]]\n",
    "avgter1firedbase=[[0.0,0,0,0],[0,0,0,0]]\n",
    "avgter2firedbase=[[0.0,0,0,0],[0,0,0,0]]\n",
    "avgterfiredmcts=[[0.0,0,0,0],[0,0,0,0]]\n",
    "\n",
    "for t in 1:ntargets\n",
    "    for m in 1:ntype\n",
    "        avgmidfiredmcts[m][t]=1*countmidfiredmcts[m][t]/max(1,midfiredmcts[m][t])\n",
    "        avgter1firedmcts[m][t]=1*ter1firedmcts[m][t]/max(1,countter1firedmcts[m][t])\n",
    "        avgter2firedmcts[m][t]=1*ter2firedmcts[m][t]/max(1,countter2firedmcts[m][t])\n",
    "        avgmidfiredzero[m][t]=1*countmidfiredzero[m][t]/max(1,midfiredzero[m][t])\n",
    "        avgter1firedzero[m][t]=1*ter1firedzero[m][t]/max(1,countter1firedzero[m][t])\n",
    "        avgter2firedzero[m][t]=1*ter2firedzero[m][t]/max(1,countter2firedzero[m][t])\n",
    "        avgmidfiredbase[m][t]=1*countmidfiredbase[m][t]/max(1,midfiredbase[m][t])\n",
    "        avgter1firedbase[m][t]=1*ter1firedbase[m][t]/max(1,countter1firedbase[m][t])\n",
    "        avgter2firedbase[m][t]=1*ter2firedbase[m][t]/max(1,countter2firedbase[m][t])\n",
    "    end\n",
    "end\n",
    "        \n",
    "avgterfirebase=0.5*(avgter1firedbase+avgter2firedbase)\n",
    "avgterfiredzero=0.5*(avgter1firedzero+avgter2firedzero)\n",
    "avgterfiredmcts=0.5*(avgter1firedmcts+avgter2firedmcts)\n",
    "\n",
    "barwidth=0.1\n",
    "t=[1,2,3,4]\n",
    "W=[barwidth,barwidth,barwidth,barwidth]\n",
    "\n",
    "PyPlot.bar(x=t,height=avgterfiredmcts[1],color=\"r\",width=barwidth,label=\"type 1, MCTS, ter\")\n",
    "PyPlot.bar(x=t+W,height=avgmidfiredmcts[1],color=\"b\",width=barwidth,label=\"type 1, MCTS, mid\")\n",
    "PyPlot.bar(x=t+2*W,height=avgterfiredmcts[2],color=\"g\",width=barwidth,label=\"type 2, MCTS, ter\")\n",
    "PyPlot.bar(x=t+3*W,height=avgmidfiredmcts[2],width=barwidth,color=\"y\",label=\"type 2, MCTS, mid\")\n",
    "PyPlot.legend()\n",
    "PyPlot.title(\"Missiles fired at each target\")\n",
    "PyPlot.xticks(t+W,t)\n",
    "PyPlot.ylabel(\"Average number of shots\")\n",
    "PyPlot.xlabel(\"Target\")\n",
    "PyPlot.show()"
   ]
  },
  {
   "cell_type": "code",
   "execution_count": 0,
   "metadata": {
    "id": "XwX3dD1x6wH3",
    "colab_type": "code",
    "colab": {}
   },
   "outputs": [],
   "source": [
    "function enemystrategyMDP(rng::AbstractRNG,time::Int)\n",
    "    return(large(rng,time))\n",
    "end\n",
    "\n",
    "mdp = BMDMDP()\n",
    "\n",
    "# policy that maps every input to no action\n",
    "policy = FunctionPolicy(o->action0)\n",
    "\n",
    "d=1.0\n",
    "rng=MersenneTwister(123)\n",
    "depth=32\n",
    "ennemyoffense=20\n",
    "nmidzero=[]\n",
    "nterzero=[]\n",
    "rzero=[]\n",
    "midfiredzero=[[0,0,0,0],[0,0,0,0]]\n",
    "ter1firedzero=[[0,0,0,0],[0,0,0,0]]\n",
    "ter2firedzero=[[0,0,0,0],[0,0,0,0]]\n",
    "countmidfiredzero=[[0,0,0,0],[0,0,0,0]]\n",
    "countter1firedzero=[[0,0,0,0],[0,0,0,0]]\n",
    "countter2firedzero=[[0,0,0,0],[0,0,0,0]]\n",
    "\n",
    "for rep in 1:100\n",
    "    s=copy(state0)\n",
    "    r_total=0.0\n",
    "    for i in 1:depth\n",
    "        a=action(policy,s)\n",
    "        nmidhere=sum(a[s] for s in 1:nmid*ntrack)\n",
    "        nterhere=sum(a[s] for s in 1+nmid*ntrack:nmid*ntrack+nter*ntrack)\n",
    "        push!(nmidzero,nmidhere)\n",
    "        push!(nterzero,nterhere)\n",
    "        sp,r=generate_sr(mdp,s,a,rng)\n",
    "        midfired2,ter1fired2,ter2fired2,countmidfired2,countter1fired2,countter2fired2=collect_state2(s,a,sp,midfiredzero,ter1firedzero,ter2firedzero,countmidfiredzero,countter1firedzero,countter2firedzero)\n",
    "        midfiredzero=copy(midfired2)\n",
    "        ter1firedzero=copy(ter1fired2)\n",
    "        ter2firedzero=copy(ter2fired2)\n",
    "        countmidfiredzero=copy(countmidfired2)\n",
    "        countter1firedzero=copy(countter1fired2)\n",
    "        countter2firedzero=copy(countter2fired2)\n",
    "        s=copy(sp)\n",
    "        r_total+=d*r\n",
    "        push!(rzero,r)\n",
    "        d*=discount(mdp)\n",
    "    end\n",
    "    push!(rtotalzero,r_total)\n",
    "    print(r_total)\n",
    "end"
   ]
  },
  {
   "cell_type": "code",
   "execution_count": 0,
   "metadata": {
    "id": "2Wf5_maN6wH3",
    "colab_type": "code",
    "colab": {}
   },
   "outputs": [],
   "source": [
    "function enemystrategyMDP(rng::AbstractRNG,time::Int)\n",
    "    return(large(rng,time))\n",
    "end\n",
    "\n",
    "mdp = BMDMDP()\n",
    "\n",
    "\n",
    "rtotalbase=[]\n",
    "d=1.0\n",
    "rng=MersenneTwister(123)\n",
    "depth=32\n",
    "nmidbase=[]\n",
    "nterbase=[]\n",
    "rbase=[]\n",
    "midfiredbase=[[0,0,0,0],[0,0,0,0]]\n",
    "ter1firedbase=[[0,0,0,0],[0,0,0,0]]\n",
    "ter2firedbase=[[0,0,0,0],[0,0,0,0]]\n",
    "countmidfiredbase=[[0,0,0,0],[0,0,0,0]]\n",
    "countter1firedbase=[[0,0,0,0],[0,0,0,0]]\n",
    "countter2firedbase=[[0,0,0,0],[0,0,0,0]]\n",
    "\n",
    "for rep in 1:100\n",
    "    s=copy(state0)\n",
    "    r_total=0.0\n",
    "    for i in 1:depth\n",
    "        a=baseline(s)\n",
    "        nmidhere=sum(a[s] for s in 1:nmid*ntrack)\n",
    "        nterhere=sum(a[s] for s in 1+nmid*ntrack:nmid*ntrack+nter*ntrack)\n",
    "        push!(nmidbase,nmidhere)\n",
    "        push!(nterbase,nterhere)\n",
    "        sp,r=generate_sr(mdp,s,a,rng)\n",
    "        midfired2,ter1fired2,ter2fired2,countmidfired2,countter1fired2,countter2fired2=collect_state2(s,a,sp,midfiredbase,ter1firedbase,ter2firedbase,countmidfiredbase,countter1firedbase,countter2firedbase)\n",
    "        midfiredbase=copy(midfired2)\n",
    "        ter1firedbase=copy(ter1fired2)\n",
    "        ter2firedbase=copy(ter2fired2)\n",
    "        countmidfiredbase=copy(countmidfired2)\n",
    "        countter1firedbase=copy(countter1fired2)\n",
    "        countter2firedbase=copy(countter2fired2)\n",
    "        s=copy(sp)\n",
    "        r_total+=d*r\n",
    "        push!(rbase,r)\n",
    "        d*=discount(mdp)\n",
    "    end\n",
    "    push!(rtotalbase,r_total)\n",
    "    print(r_total)\n",
    "end"
   ]
  },
  {
   "cell_type": "code",
   "execution_count": 0,
   "metadata": {
    "id": "om5ek37a6wH5",
    "colab_type": "code",
    "colab": {}
   },
   "outputs": [],
   "source": [
    "function enemystrategyMDP(rng::AbstractRNG,time::Int)\n",
    "    return(large(rng,time))\n",
    "end\n",
    "\n",
    "mdp = BMDMDP()\n",
    "\n",
    "rtotalmcts=[]\n",
    "d=1.0\n",
    "rng=MersenneTwister(123)\n",
    "depth=32\n",
    "nmidmcts=[]\n",
    "ntermcts=[]\n",
    "rmcts=[]\n",
    "midfiredmcts=[[0,0,0,0],[0,0,0,0]]\n",
    "ter1firedmcts=[[0,0,0,0],[0,0,0,0]]\n",
    "ter2firedmcts=[[0,0,0,0],[0,0,0,0]]\n",
    "countmidfiredmcts=[[0,0,0,0],[0,0,0,0]]\n",
    "countter1firedmcts=[[0,0,0,0],[0,0,0,0]]\n",
    "countter2firedmcts=[[0,0,0,0],[0,0,0,0]]\n",
    "\n",
    "for rep in 1:100\n",
    "    s=copy(state0)\n",
    "    r_total=0.0\n",
    "    for i in 1:depth\n",
    "        solver = MCTSSolver(enable_tree_vis=true,n_iterations=500,depth=depth-i,exploration_constant=5.0)\n",
    "        policy=solve(solver,mdp)\n",
    "        a=action(policy,s)       \n",
    "        nmidhere=sum(a[s] for s in 1:nmid*ntrack)\n",
    "        nterhere=sum(a[s] for s in 1+nmid*ntrack:nmid*ntrack+nter*ntrack)\n",
    "        push!(nmidmcts,nmidhere)\n",
    "        push!(ntermcts,nterhere)\n",
    "        sp,r=generate_sr(mdp,s,a,rng)\n",
    "        midfired2,ter1fired2,ter2fired2,countmidfired2,countter1fired2,countter2fired2=collect_state2(s,a,sp,midfiredmcts,ter1firedmcts,ter2firedmcts,countmidfiredmcts,countter1firedmcts,countter2firedmcts)\n",
    "        midfiredmcts=copy(midfired2)\n",
    "        ter1firedmcts=copy(ter1fired2)\n",
    "        ter2firedmcts=copy(ter2fired2)\n",
    "        countmidfiredmcts=copy(countmidfired2)\n",
    "        countter1firedmcts=copy(countter1fired2)\n",
    "        countter2firedmcts=copy(countter2fired2)\n",
    "        s=copy(sp)\n",
    "        r_total+=d*r\n",
    "        push!(rmcts,r)\n",
    "        d*=discount(mdp)\n",
    "    end\n",
    "    push!(rtotalmcts,r_total)\n",
    "    print(r_total)\n",
    "end"
   ]
  },
  {
   "cell_type": "code",
   "execution_count": 0,
   "metadata": {
    "id": "M1pxMDEe6wH8",
    "colab_type": "code",
    "colab": {}
   },
   "outputs": [],
   "source": [
    "avgmidfiredmcts=[[0.0,0.0,0.0,0.0],[0.0,0.0,0.0,0.0]]\n",
    "avgter1firedmcts=[[0.0,0.0,0.0,0.0],[0.0,0.0,0.0,0.0]]\n",
    "avgter2firedmcts=[[0.0,0.0,0.0,0.0],[0.0,0.0,0.0,0.0]]\n",
    "avgmidfiredzero=[[0.0,0,0,0],[0,0,0,0]]\n",
    "avgterfiredzero=[[0.0,0,0,0],[0,0,0,0]]\n",
    "avgter1firedzero=[[0.0,0,0,0],[0,0,0,0]]\n",
    "avgter2firedzero=[[0.0,0,0,0],[0,0,0,0]]\n",
    "avgterfiredbase=[[0.0,0,0,0],[0,0,0,0]]\n",
    "avgmidfiredbase=[[0.0,0,0,0],[0,0,0,0]]\n",
    "avgter1firedbase=[[0.0,0,0,0],[0,0,0,0]]\n",
    "avgter2firedbase=[[0.0,0,0,0],[0,0,0,0]]\n",
    "avgterfiredmcts=[[0.0,0,0,0],[0,0,0,0]]\n",
    "\n",
    "for t in 1:ntargets\n",
    "    for m in 1:ntype\n",
    "        avgmidfiredmcts[m][t]=1*countmidfiredmcts[m][t]/max(1,midfiredmcts[m][t])\n",
    "        avgter1firedmcts[m][t]=1*ter1firedmcts[m][t]/max(1,countter1firedmcts[m][t])\n",
    "        avgter2firedmcts[m][t]=1*ter2firedmcts[m][t]/max(1,countter2firedmcts[m][t])\n",
    "        avgmidfiredzero[m][t]=1*countmidfiredzero[m][t]/max(1,midfiredzero[m][t])\n",
    "        avgter1firedzero[m][t]=1*ter1firedzero[m][t]/max(1,countter1firedzero[m][t])\n",
    "        avgter2firedzero[m][t]=1*ter2firedzero[m][t]/max(1,countter2firedzero[m][t])\n",
    "        avgmidfiredbase[m][t]=1*countmidfiredbase[m][t]/max(1,midfiredbase[m][t])\n",
    "        avgter1firedbase[m][t]=1*ter1firedbase[m][t]/max(1,countter1firedbase[m][t])\n",
    "        avgter2firedbase[m][t]=1*ter2firedbase[m][t]/max(1,countter2firedbase[m][t])\n",
    "    end\n",
    "end\n",
    "        \n",
    "avgterfirebase=0.5*(avgter1firedbase+avgter2firedbase)\n",
    "avgterfiredzero=0.5*(avgter1firedzero+avgter2firedzero)\n",
    "avgterfiredmcts=0.5*(avgter1firedmcts+avgter2firedmcts)\n",
    "\n",
    "barwidth=0.1\n",
    "t=[1,2,3,4]\n",
    "W=[barwidth,barwidth,barwidth,barwidth]\n",
    "\n",
    "PyPlot.bar(x=t,height=avgterfiredmcts[1],color=\"r\",width=barwidth,label=\"type 1, MCTS, ter\")\n",
    "PyPlot.bar(x=t+W,height=avgmidfiredmcts[1],color=\"b\",width=barwidth,label=\"type 1, MCTS, mid\")\n",
    "PyPlot.bar(x=t+2*W,height=avgterfiredmcts[2],color=\"g\",width=barwidth,label=\"type 2, MCTS, ter\")\n",
    "PyPlot.bar(x=t+3*W,height=avgmidfiredmcts[2],width=barwidth,color=\"y\",label=\"type 2, MCTS, mid\")\n",
    "PyPlot.legend()\n",
    "PyPlot.title(\"Missiles fired at each target\")\n",
    "PyPlot.xticks(t+W,t)\n",
    "PyPlot.ylabel(\"Average number of shots\")\n",
    "PyPlot.xlabel(\"Target\")\n",
    "PyPlot.show()"
   ]
  },
  {
   "cell_type": "code",
   "execution_count": 0,
   "metadata": {
    "id": "yydUzqcn6wH-",
    "colab_type": "code",
    "colab": {}
   },
   "outputs": [],
   "source": [
    "print(\"Mean total reward for MTCTS is \",mean(rmcts),\"\\n\")\n",
    "print(\"Mean total reward for base is \",mean(rbase),\"\\n\")\n",
    "print(\"Mean total reward for no action is \",mean(rzero),\"\\n\")\n",
    "PyPlot.plot(rmcts,\"ro\",label=\"MCTS\")\n",
    "PyPlot.plot(rbase,\"bo\",label=\"Baseline\")\n",
    "PyPlot.plot(rzero,\"go\",label=\"No action\")\n",
    "PyPlot.legend()\n",
    "PyPlot.title(\"Rewards observed\")\n",
    "PyPlot.ylabel(\"Total reward\")\n",
    "PyPlot.xlabel(\"Simulation\")\n",
    "PyPlot.show()"
   ]
  }
 ],
 "metadata": {
  "colab": {
   "name": "228 Julia v2-Copy1-2.ipynb",
   "version": "0.3.2",
   "provenance": []
  },
  "kernelspec": {
   "display_name": "Julia 1.0.0",
   "language": "julia",
   "name": "julia-1.0"
  }
 },
 "nbformat": 4,
 "nbformat_minor": 0
}
